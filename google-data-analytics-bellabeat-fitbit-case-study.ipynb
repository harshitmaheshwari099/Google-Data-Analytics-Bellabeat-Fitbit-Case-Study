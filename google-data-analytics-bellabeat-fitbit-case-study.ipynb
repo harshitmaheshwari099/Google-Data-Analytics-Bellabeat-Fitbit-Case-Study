{
 "cells": [
  {
   "cell_type": "markdown",
   "id": "9ea1d211",
   "metadata": {
    "papermill": {
     "duration": 0.013196,
     "end_time": "2023-03-29T08:41:25.140047",
     "exception": false,
     "start_time": "2023-03-29T08:41:25.126851",
     "status": "completed"
    },
    "tags": []
   },
   "source": [
    "## <font face=\"Comic sans MS\" color=#330000 >**Case Study**</font> \n",
    "## <font face=\"Comic sans MS\" color=#330000 >**How Can a Wellness Technology Company Play It Smart**</font>"
   ]
  },
  {
   "cell_type": "markdown",
   "id": "f4b1bbb1",
   "metadata": {
    "papermill": {
     "duration": 0.011437,
     "end_time": "2023-03-29T08:41:25.163087",
     "exception": false,
     "start_time": "2023-03-29T08:41:25.151650",
     "status": "completed"
    },
    "tags": []
   },
   "source": [
    "* ####  [About the Company](#section-one)\n",
    "* ####  [Ask](#section-two)\n",
    "* ####  [Prepare](#section-three)\n",
    "    - [Data Information](#subsection-one)\n",
    "    - [Data Prepare](#subsection-two)\n",
    "    - [Findings](#subsection-three)\n",
    "* ####  [Process](#section-four)\n",
    "    - [Cleaning and formatting data](#subsection-four)\n",
    "    - [Merging datasets](#subsection-five)\n",
    "* ####  [Analyze](#section-five)\n",
    "    - [Question#1](#subsection-six)\n",
    "    - [Question#2](#subsection-seven)\n",
    "    - [Question#3](#subsection-eight)\n",
    "    - [Further Analyze](#subsection-nine)\n",
    "    - [More interesting plots](#subsection-ten)\n",
    "* ####  [Share](#section-six)\n"
   ]
  },
  {
   "cell_type": "markdown",
   "id": "fc3d7d3e",
   "metadata": {
    "papermill": {
     "duration": 0.011511,
     "end_time": "2023-03-29T08:41:25.187558",
     "exception": false,
     "start_time": "2023-03-29T08:41:25.176047",
     "status": "completed"
    },
    "tags": []
   },
   "source": [
    "<a id=\"section-one\"></a>\n",
    "# **<font face=\"Comic sans MS\" color=#330000 >About the Company</font>**\n",
    "Urška Sršen and Sando Mur founded Bellabeat, a high-tech company that manufactures health-focused smart products. Sršen used her background as an artist to develop beautifully designed technology that informs and inspires women around the world. Collecting data on activity, sleep, stress, and reproductive health has allowed Bellabeat to empower women with knowledge about their own health and habits. Since it was founded in 2013, Bellabeat has grown rapidly and quickly positioned itself as a tech-driven wellness company for women\n"
   ]
  },
  {
   "cell_type": "markdown",
   "id": "5c9a269a",
   "metadata": {
    "papermill": {
     "duration": 0.011416,
     "end_time": "2023-03-29T08:41:25.210512",
     "exception": false,
     "start_time": "2023-03-29T08:41:25.199096",
     "status": "completed"
    },
    "tags": []
   },
   "source": [
    "<a id=\"section-two\"></a>\n",
    "# <font face=\"Comic sans MS\" color=#330000 >**PHASE#1   ASK**</font>\n",
    "The goal of this case study is to find out trends and patterns in smart device ussage of Bellabeat customers and use it to help in marketing the product and apps. The study would follow these guiding questions\n",
    "* What are some trends in smart device usage?\n",
    "* How could these trends apply to Bellabeat customers?\n",
    "* How could these trends help influence Bellabeat marketing strategy?"
   ]
  },
  {
   "cell_type": "markdown",
   "id": "60822bd1",
   "metadata": {
    "papermill": {
     "duration": 0.011362,
     "end_time": "2023-03-29T08:41:25.233329",
     "exception": false,
     "start_time": "2023-03-29T08:41:25.221967",
     "status": "completed"
    },
    "tags": []
   },
   "source": [
    "<a id=\"section-three\"></a>\n",
    "# <font face=\"Comic sans MS\" color=#330000 >**PHASE#2   PREPARE**</font>\n",
    "\n",
    "The project would focus on the usage of the fitbit device and the daily metric records. This project will explore the data from 30 users regarding their daily activity health metrics recorded (steps, calories, heartrate, intensities, and sleep).\n",
    "<a id=\"subsection-one\"></a>\n",
    "### <font face=\"Comic sans MS\" color=#003300 >**2.1 Data Information**</font>\n",
    "#### <font face=\"Playfair\" >**2.1.1 Data Source**</font>\n",
    "FitBit Fitness Tracker Data (CC0: Public Domain, dataset made available through Mobius)\n",
    "#### <font face=\"Playfair\" >**2.1.2 Data Content**</font>\n",
    "This Kaggle data set contains personal fitness tracker from 30 fitbit users who consented to sharing their minute-level output for physical activity, heart rate, and sleep monitoring.\n",
    " The contents of the dataset are 18 csv files which can be accessed from here - [Fitbits Fitness Tracker Data](https://www.kaggle.com/arashnic/fitbit) \n",
    " \n",
    "<a id=\"subsection-two\"></a>\n",
    "### <font face=\"Comic sans MS\" color=#003300 >**2.2 Data Prepare**</font>\n",
    "As the data only covers two months and 30 users. This makes some files small enough to examine directly.We can quickly take a first look at these files using Excel or Google Spreadsheet.\n",
    "\n",
    "We can find all files contain a primary key \"Id\" and some foreign keys. Since we only need to identify trends, we will simply load files conatining parameteres for daily and hourly basis, SleepDay and Weight \n",
    "#### <font face=\"Playfair\" >**2.2.1 Install and load packages:**</font>\n",
    "\n"
   ]
  },
  {
   "cell_type": "code",
   "execution_count": 1,
   "id": "b4762ee3",
   "metadata": {
    "execution": {
     "iopub.execute_input": "2023-03-29T08:41:25.260771Z",
     "iopub.status.busy": "2023-03-29T08:41:25.258651Z",
     "iopub.status.idle": "2023-03-29T08:43:22.416363Z",
     "shell.execute_reply": "2023-03-29T08:43:22.414604Z"
    },
    "papermill": {
     "duration": 117.174751,
     "end_time": "2023-03-29T08:43:22.419544",
     "exception": false,
     "start_time": "2023-03-29T08:41:25.244793",
     "status": "completed"
    },
    "tags": []
   },
   "outputs": [
    {
     "name": "stderr",
     "output_type": "stream",
     "text": [
      "Installing package into ‘/usr/local/lib/R/site-library’\n",
      "(as ‘lib’ is unspecified)\n",
      "\n",
      "Installing package into ‘/usr/local/lib/R/site-library’\n",
      "(as ‘lib’ is unspecified)\n",
      "\n",
      "also installing the dependencies ‘rlang’, ‘tibble’, ‘vctrs’\n",
      "\n",
      "\n",
      "Warning message in install.packages(\"dplyr\"):\n",
      "“installation of package ‘rlang’ had non-zero exit status”\n",
      "Warning message in install.packages(\"dplyr\"):\n",
      "“installation of package ‘vctrs’ had non-zero exit status”\n",
      "Warning message in install.packages(\"dplyr\"):\n",
      "“installation of package ‘tibble’ had non-zero exit status”\n",
      "Warning message in install.packages(\"dplyr\"):\n",
      "“installation of package ‘dplyr’ had non-zero exit status”\n",
      "Installing package into ‘/usr/local/lib/R/site-library’\n",
      "(as ‘lib’ is unspecified)\n",
      "\n",
      "Installing package into ‘/usr/local/lib/R/site-library’\n",
      "(as ‘lib’ is unspecified)\n",
      "\n",
      "Installing package into ‘/usr/local/lib/R/site-library’\n",
      "(as ‘lib’ is unspecified)\n",
      "\n",
      "Installing package into ‘/usr/local/lib/R/site-library’\n",
      "(as ‘lib’ is unspecified)\n",
      "\n",
      "Warning message:\n",
      "“dependency ‘pbkrtest’ is not available”\n",
      "also installing the dependencies ‘car’, ‘rstatix’\n",
      "\n",
      "\n",
      "Warning message in install.packages(\"ggpubr\"):\n",
      "“installation of package ‘car’ had non-zero exit status”\n",
      "Warning message in install.packages(\"ggpubr\"):\n",
      "“installation of package ‘rstatix’ had non-zero exit status”\n",
      "Warning message in install.packages(\"ggpubr\"):\n",
      "“installation of package ‘ggpubr’ had non-zero exit status”\n",
      "Installing package into ‘/usr/local/lib/R/site-library’\n",
      "(as ‘lib’ is unspecified)\n",
      "\n",
      "── \u001b[1mAttaching core tidyverse packages\u001b[22m ──────────────────────── tidyverse 2.0.0 ──\n",
      "\u001b[32m✔\u001b[39m \u001b[34mdplyr    \u001b[39m 1.1.0     \u001b[32m✔\u001b[39m \u001b[34mreadr    \u001b[39m 2.1.4\n",
      "\u001b[32m✔\u001b[39m \u001b[34mforcats  \u001b[39m 1.0.0     \u001b[32m✔\u001b[39m \u001b[34mstringr  \u001b[39m 1.5.0\n",
      "\u001b[32m✔\u001b[39m \u001b[34mggplot2  \u001b[39m 3.4.1     \u001b[32m✔\u001b[39m \u001b[34mtibble   \u001b[39m 3.1.8\n",
      "\u001b[32m✔\u001b[39m \u001b[34mlubridate\u001b[39m 1.9.2     \u001b[32m✔\u001b[39m \u001b[34mtidyr    \u001b[39m 1.3.0\n",
      "\u001b[32m✔\u001b[39m \u001b[34mpurrr    \u001b[39m 1.0.1     \n",
      "── \u001b[1mConflicts\u001b[22m ────────────────────────────────────────── tidyverse_conflicts() ──\n",
      "\u001b[31m✖\u001b[39m \u001b[34mdplyr\u001b[39m::\u001b[32mfilter()\u001b[39m masks \u001b[34mstats\u001b[39m::filter()\n",
      "\u001b[31m✖\u001b[39m \u001b[34mdplyr\u001b[39m::\u001b[32mlag()\u001b[39m    masks \u001b[34mstats\u001b[39m::lag()\n",
      "\u001b[36mℹ\u001b[39m Use the conflicted package (\u001b[3m\u001b[34m<http://conflicted.r-lib.org/>\u001b[39m\u001b[23m) to force all conflicts to become errors\n",
      "\n",
      "Attaching package: ‘janitor’\n",
      "\n",
      "\n",
      "The following objects are masked from ‘package:stats’:\n",
      "\n",
      "    chisq.test, fisher.test\n",
      "\n",
      "\n",
      "Loading required package: viridisLite\n",
      "\n"
     ]
    }
   ],
   "source": [
    "# installing packages\n",
    "install.packages(\"tidyverse\")\n",
    "install.packages(\"dplyr\")\n",
    "install.packages(\"lubridate\")\n",
    "install.packages(\"skimr\")\n",
    "install.packages(\"janitor\")\n",
    "install.packages(\"ggpubr\")\n",
    "install.packages(\"viridis\")\n",
    "\n",
    "\n",
    "\n",
    "# loading libraries\n",
    "library(tidyverse)\n",
    "library(dplyr)\n",
    "library(lubridate)\n",
    "library(skimr)\n",
    "library(janitor)\n",
    "library(viridis)\n"
   ]
  },
  {
   "cell_type": "markdown",
   "id": "6b2eb12d",
   "metadata": {
    "papermill": {
     "duration": 0.01318,
     "end_time": "2023-03-29T08:43:22.449133",
     "exception": false,
     "start_time": "2023-03-29T08:43:22.435953",
     "status": "completed"
    },
    "tags": []
   },
   "source": [
    "#### <font face=\"Playfair\" >**2.2.2 Exploring dataset**</font>\n",
    "For this particular case study, we will be using the following data tables:\n",
    "1. **dailyActivity_merged.csv**\n",
    "1. **dailyCalories_merged.csv**\n",
    "1. **dailyIntensities_merged.csv**\n",
    "1. **dailySteps_merged.csv**\n",
    "1. **hourlyCalories_merged.csv**\n",
    "1. **hourlyIntensities_merged.csv**\n",
    "1. **hourlySteps_merged.csv**\n",
    "1. **sleepDay_merged.csv**\n",
    "1. **weightLogInfo_merged.csv**\n",
    "1. **heartrate_seconds_merged.csv**\n",
    "\n"
   ]
  },
  {
   "cell_type": "code",
   "execution_count": 2,
   "id": "1cc61fa5",
   "metadata": {
    "execution": {
     "iopub.execute_input": "2023-03-29T08:43:22.564507Z",
     "iopub.status.busy": "2023-03-29T08:43:22.477136Z",
     "iopub.status.idle": "2023-03-29T08:43:31.086380Z",
     "shell.execute_reply": "2023-03-29T08:43:31.084572Z"
    },
    "papermill": {
     "duration": 8.626805,
     "end_time": "2023-03-29T08:43:31.088874",
     "exception": false,
     "start_time": "2023-03-29T08:43:22.462069",
     "status": "completed"
    },
    "tags": []
   },
   "outputs": [],
   "source": [
    "#importing datasets\n",
    "daily_Activity <- read.csv(\"/kaggle/input/fitbit/Fitabase Data 4.12.16-5.12.16/dailyActivity_merged.csv\")\n",
    "daily_Calories <- read.csv(\"/kaggle/input/fitbit/Fitabase Data 4.12.16-5.12.16/dailyCalories_merged.csv\")\n",
    "daily_Intensities <- read.csv(\"/kaggle/input/fitbit/Fitabase Data 4.12.16-5.12.16/dailyIntensities_merged.csv\")\n",
    "daily_Steps <- read.csv(\"/kaggle/input/fitbit/Fitabase Data 4.12.16-5.12.16/dailySteps_merged.csv\")\n",
    "daily_Sleep <- read.csv(\"/kaggle/input/fitbit/Fitabase Data 4.12.16-5.12.16/sleepDay_merged.csv\")\n",
    "hourly_Calories <- read.csv(\"/kaggle/input/fitbit/Fitabase Data 4.12.16-5.12.16/hourlyCalories_merged.csv\")\n",
    "hourly_Intensities <- read.csv(\"/kaggle/input/fitbit/Fitabase Data 4.12.16-5.12.16/hourlyIntensities_merged.csv\")\n",
    "hourly_Steps <- read.csv(\"/kaggle/input/fitbit/Fitabase Data 4.12.16-5.12.16/hourlySteps_merged.csv\")\n",
    "weight_Info <- read.csv(\"/kaggle/input/fitbit/Fitabase Data 4.12.16-5.12.16/weightLogInfo_merged.csv\")\n",
    "heartrate_Seconds <- read.csv(\"/kaggle/input/fitbit/Fitabase Data 4.12.16-5.12.16/heartrate_seconds_merged.csv\")"
   ]
  },
  {
   "cell_type": "markdown",
   "id": "8b7f9e50",
   "metadata": {
    "papermill": {
     "duration": 0.014246,
     "end_time": "2023-03-29T08:43:31.116195",
     "exception": false,
     "start_time": "2023-03-29T08:43:31.101949",
     "status": "completed"
    },
    "tags": []
   },
   "source": [
    "**Let's take a overview of the datasets using head() and str()**"
   ]
  },
  {
   "cell_type": "code",
   "execution_count": 3,
   "id": "e2ec84f8",
   "metadata": {
    "execution": {
     "iopub.execute_input": "2023-03-29T08:43:31.145126Z",
     "iopub.status.busy": "2023-03-29T08:43:31.143550Z",
     "iopub.status.idle": "2023-03-29T08:43:31.571360Z",
     "shell.execute_reply": "2023-03-29T08:43:31.569507Z"
    },
    "papermill": {
     "duration": 0.444678,
     "end_time": "2023-03-29T08:43:31.573724",
     "exception": false,
     "start_time": "2023-03-29T08:43:31.129046",
     "status": "completed"
    },
    "tags": []
   },
   "outputs": [
    {
     "name": "stdout",
     "output_type": "stream",
     "text": [
      "[1] \"daily_activity overview\"\n"
     ]
    },
    {
     "data": {
      "text/html": [
       "<table class=\"dataframe\">\n",
       "<caption>A data.frame: 6 × 15</caption>\n",
       "<thead>\n",
       "\t<tr><th></th><th scope=col>Id</th><th scope=col>ActivityDate</th><th scope=col>TotalSteps</th><th scope=col>TotalDistance</th><th scope=col>TrackerDistance</th><th scope=col>LoggedActivitiesDistance</th><th scope=col>VeryActiveDistance</th><th scope=col>ModeratelyActiveDistance</th><th scope=col>LightActiveDistance</th><th scope=col>SedentaryActiveDistance</th><th scope=col>VeryActiveMinutes</th><th scope=col>FairlyActiveMinutes</th><th scope=col>LightlyActiveMinutes</th><th scope=col>SedentaryMinutes</th><th scope=col>Calories</th></tr>\n",
       "\t<tr><th></th><th scope=col>&lt;dbl&gt;</th><th scope=col>&lt;chr&gt;</th><th scope=col>&lt;int&gt;</th><th scope=col>&lt;dbl&gt;</th><th scope=col>&lt;dbl&gt;</th><th scope=col>&lt;dbl&gt;</th><th scope=col>&lt;dbl&gt;</th><th scope=col>&lt;dbl&gt;</th><th scope=col>&lt;dbl&gt;</th><th scope=col>&lt;dbl&gt;</th><th scope=col>&lt;int&gt;</th><th scope=col>&lt;int&gt;</th><th scope=col>&lt;int&gt;</th><th scope=col>&lt;int&gt;</th><th scope=col>&lt;int&gt;</th></tr>\n",
       "</thead>\n",
       "<tbody>\n",
       "\t<tr><th scope=row>1</th><td>1503960366</td><td>4/12/2016</td><td>13162</td><td>8.50</td><td>8.50</td><td>0</td><td>1.88</td><td>0.55</td><td>6.06</td><td>0</td><td>25</td><td>13</td><td>328</td><td> 728</td><td>1985</td></tr>\n",
       "\t<tr><th scope=row>2</th><td>1503960366</td><td>4/13/2016</td><td>10735</td><td>6.97</td><td>6.97</td><td>0</td><td>1.57</td><td>0.69</td><td>4.71</td><td>0</td><td>21</td><td>19</td><td>217</td><td> 776</td><td>1797</td></tr>\n",
       "\t<tr><th scope=row>3</th><td>1503960366</td><td>4/14/2016</td><td>10460</td><td>6.74</td><td>6.74</td><td>0</td><td>2.44</td><td>0.40</td><td>3.91</td><td>0</td><td>30</td><td>11</td><td>181</td><td>1218</td><td>1776</td></tr>\n",
       "\t<tr><th scope=row>4</th><td>1503960366</td><td>4/15/2016</td><td> 9762</td><td>6.28</td><td>6.28</td><td>0</td><td>2.14</td><td>1.26</td><td>2.83</td><td>0</td><td>29</td><td>34</td><td>209</td><td> 726</td><td>1745</td></tr>\n",
       "\t<tr><th scope=row>5</th><td>1503960366</td><td>4/16/2016</td><td>12669</td><td>8.16</td><td>8.16</td><td>0</td><td>2.71</td><td>0.41</td><td>5.04</td><td>0</td><td>36</td><td>10</td><td>221</td><td> 773</td><td>1863</td></tr>\n",
       "\t<tr><th scope=row>6</th><td>1503960366</td><td>4/17/2016</td><td> 9705</td><td>6.48</td><td>6.48</td><td>0</td><td>3.19</td><td>0.78</td><td>2.51</td><td>0</td><td>38</td><td>20</td><td>164</td><td> 539</td><td>1728</td></tr>\n",
       "</tbody>\n",
       "</table>\n"
      ],
      "text/latex": [
       "A data.frame: 6 × 15\n",
       "\\begin{tabular}{r|lllllllllllllll}\n",
       "  & Id & ActivityDate & TotalSteps & TotalDistance & TrackerDistance & LoggedActivitiesDistance & VeryActiveDistance & ModeratelyActiveDistance & LightActiveDistance & SedentaryActiveDistance & VeryActiveMinutes & FairlyActiveMinutes & LightlyActiveMinutes & SedentaryMinutes & Calories\\\\\n",
       "  & <dbl> & <chr> & <int> & <dbl> & <dbl> & <dbl> & <dbl> & <dbl> & <dbl> & <dbl> & <int> & <int> & <int> & <int> & <int>\\\\\n",
       "\\hline\n",
       "\t1 & 1503960366 & 4/12/2016 & 13162 & 8.50 & 8.50 & 0 & 1.88 & 0.55 & 6.06 & 0 & 25 & 13 & 328 &  728 & 1985\\\\\n",
       "\t2 & 1503960366 & 4/13/2016 & 10735 & 6.97 & 6.97 & 0 & 1.57 & 0.69 & 4.71 & 0 & 21 & 19 & 217 &  776 & 1797\\\\\n",
       "\t3 & 1503960366 & 4/14/2016 & 10460 & 6.74 & 6.74 & 0 & 2.44 & 0.40 & 3.91 & 0 & 30 & 11 & 181 & 1218 & 1776\\\\\n",
       "\t4 & 1503960366 & 4/15/2016 &  9762 & 6.28 & 6.28 & 0 & 2.14 & 1.26 & 2.83 & 0 & 29 & 34 & 209 &  726 & 1745\\\\\n",
       "\t5 & 1503960366 & 4/16/2016 & 12669 & 8.16 & 8.16 & 0 & 2.71 & 0.41 & 5.04 & 0 & 36 & 10 & 221 &  773 & 1863\\\\\n",
       "\t6 & 1503960366 & 4/17/2016 &  9705 & 6.48 & 6.48 & 0 & 3.19 & 0.78 & 2.51 & 0 & 38 & 20 & 164 &  539 & 1728\\\\\n",
       "\\end{tabular}\n"
      ],
      "text/markdown": [
       "\n",
       "A data.frame: 6 × 15\n",
       "\n",
       "| <!--/--> | Id &lt;dbl&gt; | ActivityDate &lt;chr&gt; | TotalSteps &lt;int&gt; | TotalDistance &lt;dbl&gt; | TrackerDistance &lt;dbl&gt; | LoggedActivitiesDistance &lt;dbl&gt; | VeryActiveDistance &lt;dbl&gt; | ModeratelyActiveDistance &lt;dbl&gt; | LightActiveDistance &lt;dbl&gt; | SedentaryActiveDistance &lt;dbl&gt; | VeryActiveMinutes &lt;int&gt; | FairlyActiveMinutes &lt;int&gt; | LightlyActiveMinutes &lt;int&gt; | SedentaryMinutes &lt;int&gt; | Calories &lt;int&gt; |\n",
       "|---|---|---|---|---|---|---|---|---|---|---|---|---|---|---|---|\n",
       "| 1 | 1503960366 | 4/12/2016 | 13162 | 8.50 | 8.50 | 0 | 1.88 | 0.55 | 6.06 | 0 | 25 | 13 | 328 |  728 | 1985 |\n",
       "| 2 | 1503960366 | 4/13/2016 | 10735 | 6.97 | 6.97 | 0 | 1.57 | 0.69 | 4.71 | 0 | 21 | 19 | 217 |  776 | 1797 |\n",
       "| 3 | 1503960366 | 4/14/2016 | 10460 | 6.74 | 6.74 | 0 | 2.44 | 0.40 | 3.91 | 0 | 30 | 11 | 181 | 1218 | 1776 |\n",
       "| 4 | 1503960366 | 4/15/2016 |  9762 | 6.28 | 6.28 | 0 | 2.14 | 1.26 | 2.83 | 0 | 29 | 34 | 209 |  726 | 1745 |\n",
       "| 5 | 1503960366 | 4/16/2016 | 12669 | 8.16 | 8.16 | 0 | 2.71 | 0.41 | 5.04 | 0 | 36 | 10 | 221 |  773 | 1863 |\n",
       "| 6 | 1503960366 | 4/17/2016 |  9705 | 6.48 | 6.48 | 0 | 3.19 | 0.78 | 2.51 | 0 | 38 | 20 | 164 |  539 | 1728 |\n",
       "\n"
      ],
      "text/plain": [
       "  Id         ActivityDate TotalSteps TotalDistance TrackerDistance\n",
       "1 1503960366 4/12/2016    13162      8.50          8.50           \n",
       "2 1503960366 4/13/2016    10735      6.97          6.97           \n",
       "3 1503960366 4/14/2016    10460      6.74          6.74           \n",
       "4 1503960366 4/15/2016     9762      6.28          6.28           \n",
       "5 1503960366 4/16/2016    12669      8.16          8.16           \n",
       "6 1503960366 4/17/2016     9705      6.48          6.48           \n",
       "  LoggedActivitiesDistance VeryActiveDistance ModeratelyActiveDistance\n",
       "1 0                        1.88               0.55                    \n",
       "2 0                        1.57               0.69                    \n",
       "3 0                        2.44               0.40                    \n",
       "4 0                        2.14               1.26                    \n",
       "5 0                        2.71               0.41                    \n",
       "6 0                        3.19               0.78                    \n",
       "  LightActiveDistance SedentaryActiveDistance VeryActiveMinutes\n",
       "1 6.06                0                       25               \n",
       "2 4.71                0                       21               \n",
       "3 3.91                0                       30               \n",
       "4 2.83                0                       29               \n",
       "5 5.04                0                       36               \n",
       "6 2.51                0                       38               \n",
       "  FairlyActiveMinutes LightlyActiveMinutes SedentaryMinutes Calories\n",
       "1 13                  328                   728             1985    \n",
       "2 19                  217                   776             1797    \n",
       "3 11                  181                  1218             1776    \n",
       "4 34                  209                   726             1745    \n",
       "5 10                  221                   773             1863    \n",
       "6 20                  164                   539             1728    "
      ]
     },
     "metadata": {},
     "output_type": "display_data"
    },
    {
     "name": "stdout",
     "output_type": "stream",
     "text": [
      "'data.frame':\t940 obs. of  15 variables:\n",
      " $ Id                      : num  1.5e+09 1.5e+09 1.5e+09 1.5e+09 1.5e+09 ...\n",
      " $ ActivityDate            : chr  \"4/12/2016\" \"4/13/2016\" \"4/14/2016\" \"4/15/2016\" ...\n",
      " $ TotalSteps              : int  13162 10735 10460 9762 12669 9705 13019 15506 10544 9819 ...\n",
      " $ TotalDistance           : num  8.5 6.97 6.74 6.28 8.16 ...\n",
      " $ TrackerDistance         : num  8.5 6.97 6.74 6.28 8.16 ...\n",
      " $ LoggedActivitiesDistance: num  0 0 0 0 0 0 0 0 0 0 ...\n",
      " $ VeryActiveDistance      : num  1.88 1.57 2.44 2.14 2.71 ...\n",
      " $ ModeratelyActiveDistance: num  0.55 0.69 0.4 1.26 0.41 ...\n",
      " $ LightActiveDistance     : num  6.06 4.71 3.91 2.83 5.04 ...\n",
      " $ SedentaryActiveDistance : num  0 0 0 0 0 0 0 0 0 0 ...\n",
      " $ VeryActiveMinutes       : int  25 21 30 29 36 38 42 50 28 19 ...\n",
      " $ FairlyActiveMinutes     : int  13 19 11 34 10 20 16 31 12 8 ...\n",
      " $ LightlyActiveMinutes    : int  328 217 181 209 221 164 233 264 205 211 ...\n",
      " $ SedentaryMinutes        : int  728 776 1218 726 773 539 1149 775 818 838 ...\n",
      " $ Calories                : int  1985 1797 1776 1745 1863 1728 1921 2035 1786 1775 ...\n",
      "[1] \"daily_calories overview\"\n"
     ]
    },
    {
     "data": {
      "text/html": [
       "<table class=\"dataframe\">\n",
       "<caption>A data.frame: 6 × 3</caption>\n",
       "<thead>\n",
       "\t<tr><th></th><th scope=col>Id</th><th scope=col>ActivityDay</th><th scope=col>Calories</th></tr>\n",
       "\t<tr><th></th><th scope=col>&lt;dbl&gt;</th><th scope=col>&lt;chr&gt;</th><th scope=col>&lt;int&gt;</th></tr>\n",
       "</thead>\n",
       "<tbody>\n",
       "\t<tr><th scope=row>1</th><td>1503960366</td><td>4/12/2016</td><td>1985</td></tr>\n",
       "\t<tr><th scope=row>2</th><td>1503960366</td><td>4/13/2016</td><td>1797</td></tr>\n",
       "\t<tr><th scope=row>3</th><td>1503960366</td><td>4/14/2016</td><td>1776</td></tr>\n",
       "\t<tr><th scope=row>4</th><td>1503960366</td><td>4/15/2016</td><td>1745</td></tr>\n",
       "\t<tr><th scope=row>5</th><td>1503960366</td><td>4/16/2016</td><td>1863</td></tr>\n",
       "\t<tr><th scope=row>6</th><td>1503960366</td><td>4/17/2016</td><td>1728</td></tr>\n",
       "</tbody>\n",
       "</table>\n"
      ],
      "text/latex": [
       "A data.frame: 6 × 3\n",
       "\\begin{tabular}{r|lll}\n",
       "  & Id & ActivityDay & Calories\\\\\n",
       "  & <dbl> & <chr> & <int>\\\\\n",
       "\\hline\n",
       "\t1 & 1503960366 & 4/12/2016 & 1985\\\\\n",
       "\t2 & 1503960366 & 4/13/2016 & 1797\\\\\n",
       "\t3 & 1503960366 & 4/14/2016 & 1776\\\\\n",
       "\t4 & 1503960366 & 4/15/2016 & 1745\\\\\n",
       "\t5 & 1503960366 & 4/16/2016 & 1863\\\\\n",
       "\t6 & 1503960366 & 4/17/2016 & 1728\\\\\n",
       "\\end{tabular}\n"
      ],
      "text/markdown": [
       "\n",
       "A data.frame: 6 × 3\n",
       "\n",
       "| <!--/--> | Id &lt;dbl&gt; | ActivityDay &lt;chr&gt; | Calories &lt;int&gt; |\n",
       "|---|---|---|---|\n",
       "| 1 | 1503960366 | 4/12/2016 | 1985 |\n",
       "| 2 | 1503960366 | 4/13/2016 | 1797 |\n",
       "| 3 | 1503960366 | 4/14/2016 | 1776 |\n",
       "| 4 | 1503960366 | 4/15/2016 | 1745 |\n",
       "| 5 | 1503960366 | 4/16/2016 | 1863 |\n",
       "| 6 | 1503960366 | 4/17/2016 | 1728 |\n",
       "\n"
      ],
      "text/plain": [
       "  Id         ActivityDay Calories\n",
       "1 1503960366 4/12/2016   1985    \n",
       "2 1503960366 4/13/2016   1797    \n",
       "3 1503960366 4/14/2016   1776    \n",
       "4 1503960366 4/15/2016   1745    \n",
       "5 1503960366 4/16/2016   1863    \n",
       "6 1503960366 4/17/2016   1728    "
      ]
     },
     "metadata": {},
     "output_type": "display_data"
    },
    {
     "name": "stdout",
     "output_type": "stream",
     "text": [
      "'data.frame':\t940 obs. of  3 variables:\n",
      " $ Id         : num  1.5e+09 1.5e+09 1.5e+09 1.5e+09 1.5e+09 ...\n",
      " $ ActivityDay: chr  \"4/12/2016\" \"4/13/2016\" \"4/14/2016\" \"4/15/2016\" ...\n",
      " $ Calories   : int  1985 1797 1776 1745 1863 1728 1921 2035 1786 1775 ...\n",
      "[1] \"daily_Intensities overview\"\n"
     ]
    },
    {
     "data": {
      "text/html": [
       "<table class=\"dataframe\">\n",
       "<caption>A data.frame: 6 × 10</caption>\n",
       "<thead>\n",
       "\t<tr><th></th><th scope=col>Id</th><th scope=col>ActivityDay</th><th scope=col>SedentaryMinutes</th><th scope=col>LightlyActiveMinutes</th><th scope=col>FairlyActiveMinutes</th><th scope=col>VeryActiveMinutes</th><th scope=col>SedentaryActiveDistance</th><th scope=col>LightActiveDistance</th><th scope=col>ModeratelyActiveDistance</th><th scope=col>VeryActiveDistance</th></tr>\n",
       "\t<tr><th></th><th scope=col>&lt;dbl&gt;</th><th scope=col>&lt;chr&gt;</th><th scope=col>&lt;int&gt;</th><th scope=col>&lt;int&gt;</th><th scope=col>&lt;int&gt;</th><th scope=col>&lt;int&gt;</th><th scope=col>&lt;dbl&gt;</th><th scope=col>&lt;dbl&gt;</th><th scope=col>&lt;dbl&gt;</th><th scope=col>&lt;dbl&gt;</th></tr>\n",
       "</thead>\n",
       "<tbody>\n",
       "\t<tr><th scope=row>1</th><td>1503960366</td><td>4/12/2016</td><td> 728</td><td>328</td><td>13</td><td>25</td><td>0</td><td>6.06</td><td>0.55</td><td>1.88</td></tr>\n",
       "\t<tr><th scope=row>2</th><td>1503960366</td><td>4/13/2016</td><td> 776</td><td>217</td><td>19</td><td>21</td><td>0</td><td>4.71</td><td>0.69</td><td>1.57</td></tr>\n",
       "\t<tr><th scope=row>3</th><td>1503960366</td><td>4/14/2016</td><td>1218</td><td>181</td><td>11</td><td>30</td><td>0</td><td>3.91</td><td>0.40</td><td>2.44</td></tr>\n",
       "\t<tr><th scope=row>4</th><td>1503960366</td><td>4/15/2016</td><td> 726</td><td>209</td><td>34</td><td>29</td><td>0</td><td>2.83</td><td>1.26</td><td>2.14</td></tr>\n",
       "\t<tr><th scope=row>5</th><td>1503960366</td><td>4/16/2016</td><td> 773</td><td>221</td><td>10</td><td>36</td><td>0</td><td>5.04</td><td>0.41</td><td>2.71</td></tr>\n",
       "\t<tr><th scope=row>6</th><td>1503960366</td><td>4/17/2016</td><td> 539</td><td>164</td><td>20</td><td>38</td><td>0</td><td>2.51</td><td>0.78</td><td>3.19</td></tr>\n",
       "</tbody>\n",
       "</table>\n"
      ],
      "text/latex": [
       "A data.frame: 6 × 10\n",
       "\\begin{tabular}{r|llllllllll}\n",
       "  & Id & ActivityDay & SedentaryMinutes & LightlyActiveMinutes & FairlyActiveMinutes & VeryActiveMinutes & SedentaryActiveDistance & LightActiveDistance & ModeratelyActiveDistance & VeryActiveDistance\\\\\n",
       "  & <dbl> & <chr> & <int> & <int> & <int> & <int> & <dbl> & <dbl> & <dbl> & <dbl>\\\\\n",
       "\\hline\n",
       "\t1 & 1503960366 & 4/12/2016 &  728 & 328 & 13 & 25 & 0 & 6.06 & 0.55 & 1.88\\\\\n",
       "\t2 & 1503960366 & 4/13/2016 &  776 & 217 & 19 & 21 & 0 & 4.71 & 0.69 & 1.57\\\\\n",
       "\t3 & 1503960366 & 4/14/2016 & 1218 & 181 & 11 & 30 & 0 & 3.91 & 0.40 & 2.44\\\\\n",
       "\t4 & 1503960366 & 4/15/2016 &  726 & 209 & 34 & 29 & 0 & 2.83 & 1.26 & 2.14\\\\\n",
       "\t5 & 1503960366 & 4/16/2016 &  773 & 221 & 10 & 36 & 0 & 5.04 & 0.41 & 2.71\\\\\n",
       "\t6 & 1503960366 & 4/17/2016 &  539 & 164 & 20 & 38 & 0 & 2.51 & 0.78 & 3.19\\\\\n",
       "\\end{tabular}\n"
      ],
      "text/markdown": [
       "\n",
       "A data.frame: 6 × 10\n",
       "\n",
       "| <!--/--> | Id &lt;dbl&gt; | ActivityDay &lt;chr&gt; | SedentaryMinutes &lt;int&gt; | LightlyActiveMinutes &lt;int&gt; | FairlyActiveMinutes &lt;int&gt; | VeryActiveMinutes &lt;int&gt; | SedentaryActiveDistance &lt;dbl&gt; | LightActiveDistance &lt;dbl&gt; | ModeratelyActiveDistance &lt;dbl&gt; | VeryActiveDistance &lt;dbl&gt; |\n",
       "|---|---|---|---|---|---|---|---|---|---|---|\n",
       "| 1 | 1503960366 | 4/12/2016 |  728 | 328 | 13 | 25 | 0 | 6.06 | 0.55 | 1.88 |\n",
       "| 2 | 1503960366 | 4/13/2016 |  776 | 217 | 19 | 21 | 0 | 4.71 | 0.69 | 1.57 |\n",
       "| 3 | 1503960366 | 4/14/2016 | 1218 | 181 | 11 | 30 | 0 | 3.91 | 0.40 | 2.44 |\n",
       "| 4 | 1503960366 | 4/15/2016 |  726 | 209 | 34 | 29 | 0 | 2.83 | 1.26 | 2.14 |\n",
       "| 5 | 1503960366 | 4/16/2016 |  773 | 221 | 10 | 36 | 0 | 5.04 | 0.41 | 2.71 |\n",
       "| 6 | 1503960366 | 4/17/2016 |  539 | 164 | 20 | 38 | 0 | 2.51 | 0.78 | 3.19 |\n",
       "\n"
      ],
      "text/plain": [
       "  Id         ActivityDay SedentaryMinutes LightlyActiveMinutes\n",
       "1 1503960366 4/12/2016    728             328                 \n",
       "2 1503960366 4/13/2016    776             217                 \n",
       "3 1503960366 4/14/2016   1218             181                 \n",
       "4 1503960366 4/15/2016    726             209                 \n",
       "5 1503960366 4/16/2016    773             221                 \n",
       "6 1503960366 4/17/2016    539             164                 \n",
       "  FairlyActiveMinutes VeryActiveMinutes SedentaryActiveDistance\n",
       "1 13                  25                0                      \n",
       "2 19                  21                0                      \n",
       "3 11                  30                0                      \n",
       "4 34                  29                0                      \n",
       "5 10                  36                0                      \n",
       "6 20                  38                0                      \n",
       "  LightActiveDistance ModeratelyActiveDistance VeryActiveDistance\n",
       "1 6.06                0.55                     1.88              \n",
       "2 4.71                0.69                     1.57              \n",
       "3 3.91                0.40                     2.44              \n",
       "4 2.83                1.26                     2.14              \n",
       "5 5.04                0.41                     2.71              \n",
       "6 2.51                0.78                     3.19              "
      ]
     },
     "metadata": {},
     "output_type": "display_data"
    },
    {
     "name": "stdout",
     "output_type": "stream",
     "text": [
      "'data.frame':\t940 obs. of  10 variables:\n",
      " $ Id                      : num  1.5e+09 1.5e+09 1.5e+09 1.5e+09 1.5e+09 ...\n",
      " $ ActivityDay             : chr  \"4/12/2016\" \"4/13/2016\" \"4/14/2016\" \"4/15/2016\" ...\n",
      " $ SedentaryMinutes        : int  728 776 1218 726 773 539 1149 775 818 838 ...\n",
      " $ LightlyActiveMinutes    : int  328 217 181 209 221 164 233 264 205 211 ...\n",
      " $ FairlyActiveMinutes     : int  13 19 11 34 10 20 16 31 12 8 ...\n",
      " $ VeryActiveMinutes       : int  25 21 30 29 36 38 42 50 28 19 ...\n",
      " $ SedentaryActiveDistance : num  0 0 0 0 0 0 0 0 0 0 ...\n",
      " $ LightActiveDistance     : num  6.06 4.71 3.91 2.83 5.04 ...\n",
      " $ ModeratelyActiveDistance: num  0.55 0.69 0.4 1.26 0.41 ...\n",
      " $ VeryActiveDistance      : num  1.88 1.57 2.44 2.14 2.71 ...\n",
      "[1] \"daily_Steps overview\"\n"
     ]
    },
    {
     "data": {
      "text/html": [
       "<table class=\"dataframe\">\n",
       "<caption>A data.frame: 6 × 3</caption>\n",
       "<thead>\n",
       "\t<tr><th></th><th scope=col>Id</th><th scope=col>ActivityDay</th><th scope=col>StepTotal</th></tr>\n",
       "\t<tr><th></th><th scope=col>&lt;dbl&gt;</th><th scope=col>&lt;chr&gt;</th><th scope=col>&lt;int&gt;</th></tr>\n",
       "</thead>\n",
       "<tbody>\n",
       "\t<tr><th scope=row>1</th><td>1503960366</td><td>4/12/2016</td><td>13162</td></tr>\n",
       "\t<tr><th scope=row>2</th><td>1503960366</td><td>4/13/2016</td><td>10735</td></tr>\n",
       "\t<tr><th scope=row>3</th><td>1503960366</td><td>4/14/2016</td><td>10460</td></tr>\n",
       "\t<tr><th scope=row>4</th><td>1503960366</td><td>4/15/2016</td><td> 9762</td></tr>\n",
       "\t<tr><th scope=row>5</th><td>1503960366</td><td>4/16/2016</td><td>12669</td></tr>\n",
       "\t<tr><th scope=row>6</th><td>1503960366</td><td>4/17/2016</td><td> 9705</td></tr>\n",
       "</tbody>\n",
       "</table>\n"
      ],
      "text/latex": [
       "A data.frame: 6 × 3\n",
       "\\begin{tabular}{r|lll}\n",
       "  & Id & ActivityDay & StepTotal\\\\\n",
       "  & <dbl> & <chr> & <int>\\\\\n",
       "\\hline\n",
       "\t1 & 1503960366 & 4/12/2016 & 13162\\\\\n",
       "\t2 & 1503960366 & 4/13/2016 & 10735\\\\\n",
       "\t3 & 1503960366 & 4/14/2016 & 10460\\\\\n",
       "\t4 & 1503960366 & 4/15/2016 &  9762\\\\\n",
       "\t5 & 1503960366 & 4/16/2016 & 12669\\\\\n",
       "\t6 & 1503960366 & 4/17/2016 &  9705\\\\\n",
       "\\end{tabular}\n"
      ],
      "text/markdown": [
       "\n",
       "A data.frame: 6 × 3\n",
       "\n",
       "| <!--/--> | Id &lt;dbl&gt; | ActivityDay &lt;chr&gt; | StepTotal &lt;int&gt; |\n",
       "|---|---|---|---|\n",
       "| 1 | 1503960366 | 4/12/2016 | 13162 |\n",
       "| 2 | 1503960366 | 4/13/2016 | 10735 |\n",
       "| 3 | 1503960366 | 4/14/2016 | 10460 |\n",
       "| 4 | 1503960366 | 4/15/2016 |  9762 |\n",
       "| 5 | 1503960366 | 4/16/2016 | 12669 |\n",
       "| 6 | 1503960366 | 4/17/2016 |  9705 |\n",
       "\n"
      ],
      "text/plain": [
       "  Id         ActivityDay StepTotal\n",
       "1 1503960366 4/12/2016   13162    \n",
       "2 1503960366 4/13/2016   10735    \n",
       "3 1503960366 4/14/2016   10460    \n",
       "4 1503960366 4/15/2016    9762    \n",
       "5 1503960366 4/16/2016   12669    \n",
       "6 1503960366 4/17/2016    9705    "
      ]
     },
     "metadata": {},
     "output_type": "display_data"
    },
    {
     "name": "stdout",
     "output_type": "stream",
     "text": [
      "'data.frame':\t940 obs. of  3 variables:\n",
      " $ Id         : num  1.5e+09 1.5e+09 1.5e+09 1.5e+09 1.5e+09 ...\n",
      " $ ActivityDay: chr  \"4/12/2016\" \"4/13/2016\" \"4/14/2016\" \"4/15/2016\" ...\n",
      " $ StepTotal  : int  13162 10735 10460 9762 12669 9705 13019 15506 10544 9819 ...\n",
      "[1] \"daily_Sleep overview\"\n"
     ]
    },
    {
     "data": {
      "text/html": [
       "<table class=\"dataframe\">\n",
       "<caption>A data.frame: 6 × 5</caption>\n",
       "<thead>\n",
       "\t<tr><th></th><th scope=col>Id</th><th scope=col>SleepDay</th><th scope=col>TotalSleepRecords</th><th scope=col>TotalMinutesAsleep</th><th scope=col>TotalTimeInBed</th></tr>\n",
       "\t<tr><th></th><th scope=col>&lt;dbl&gt;</th><th scope=col>&lt;chr&gt;</th><th scope=col>&lt;int&gt;</th><th scope=col>&lt;int&gt;</th><th scope=col>&lt;int&gt;</th></tr>\n",
       "</thead>\n",
       "<tbody>\n",
       "\t<tr><th scope=row>1</th><td>1503960366</td><td>4/12/2016 12:00:00 AM</td><td>1</td><td>327</td><td>346</td></tr>\n",
       "\t<tr><th scope=row>2</th><td>1503960366</td><td>4/13/2016 12:00:00 AM</td><td>2</td><td>384</td><td>407</td></tr>\n",
       "\t<tr><th scope=row>3</th><td>1503960366</td><td>4/15/2016 12:00:00 AM</td><td>1</td><td>412</td><td>442</td></tr>\n",
       "\t<tr><th scope=row>4</th><td>1503960366</td><td>4/16/2016 12:00:00 AM</td><td>2</td><td>340</td><td>367</td></tr>\n",
       "\t<tr><th scope=row>5</th><td>1503960366</td><td>4/17/2016 12:00:00 AM</td><td>1</td><td>700</td><td>712</td></tr>\n",
       "\t<tr><th scope=row>6</th><td>1503960366</td><td>4/19/2016 12:00:00 AM</td><td>1</td><td>304</td><td>320</td></tr>\n",
       "</tbody>\n",
       "</table>\n"
      ],
      "text/latex": [
       "A data.frame: 6 × 5\n",
       "\\begin{tabular}{r|lllll}\n",
       "  & Id & SleepDay & TotalSleepRecords & TotalMinutesAsleep & TotalTimeInBed\\\\\n",
       "  & <dbl> & <chr> & <int> & <int> & <int>\\\\\n",
       "\\hline\n",
       "\t1 & 1503960366 & 4/12/2016 12:00:00 AM & 1 & 327 & 346\\\\\n",
       "\t2 & 1503960366 & 4/13/2016 12:00:00 AM & 2 & 384 & 407\\\\\n",
       "\t3 & 1503960366 & 4/15/2016 12:00:00 AM & 1 & 412 & 442\\\\\n",
       "\t4 & 1503960366 & 4/16/2016 12:00:00 AM & 2 & 340 & 367\\\\\n",
       "\t5 & 1503960366 & 4/17/2016 12:00:00 AM & 1 & 700 & 712\\\\\n",
       "\t6 & 1503960366 & 4/19/2016 12:00:00 AM & 1 & 304 & 320\\\\\n",
       "\\end{tabular}\n"
      ],
      "text/markdown": [
       "\n",
       "A data.frame: 6 × 5\n",
       "\n",
       "| <!--/--> | Id &lt;dbl&gt; | SleepDay &lt;chr&gt; | TotalSleepRecords &lt;int&gt; | TotalMinutesAsleep &lt;int&gt; | TotalTimeInBed &lt;int&gt; |\n",
       "|---|---|---|---|---|---|\n",
       "| 1 | 1503960366 | 4/12/2016 12:00:00 AM | 1 | 327 | 346 |\n",
       "| 2 | 1503960366 | 4/13/2016 12:00:00 AM | 2 | 384 | 407 |\n",
       "| 3 | 1503960366 | 4/15/2016 12:00:00 AM | 1 | 412 | 442 |\n",
       "| 4 | 1503960366 | 4/16/2016 12:00:00 AM | 2 | 340 | 367 |\n",
       "| 5 | 1503960366 | 4/17/2016 12:00:00 AM | 1 | 700 | 712 |\n",
       "| 6 | 1503960366 | 4/19/2016 12:00:00 AM | 1 | 304 | 320 |\n",
       "\n"
      ],
      "text/plain": [
       "  Id         SleepDay              TotalSleepRecords TotalMinutesAsleep\n",
       "1 1503960366 4/12/2016 12:00:00 AM 1                 327               \n",
       "2 1503960366 4/13/2016 12:00:00 AM 2                 384               \n",
       "3 1503960366 4/15/2016 12:00:00 AM 1                 412               \n",
       "4 1503960366 4/16/2016 12:00:00 AM 2                 340               \n",
       "5 1503960366 4/17/2016 12:00:00 AM 1                 700               \n",
       "6 1503960366 4/19/2016 12:00:00 AM 1                 304               \n",
       "  TotalTimeInBed\n",
       "1 346           \n",
       "2 407           \n",
       "3 442           \n",
       "4 367           \n",
       "5 712           \n",
       "6 320           "
      ]
     },
     "metadata": {},
     "output_type": "display_data"
    },
    {
     "name": "stdout",
     "output_type": "stream",
     "text": [
      "'data.frame':\t413 obs. of  5 variables:\n",
      " $ Id                : num  1.5e+09 1.5e+09 1.5e+09 1.5e+09 1.5e+09 ...\n",
      " $ SleepDay          : chr  \"4/12/2016 12:00:00 AM\" \"4/13/2016 12:00:00 AM\" \"4/15/2016 12:00:00 AM\" \"4/16/2016 12:00:00 AM\" ...\n",
      " $ TotalSleepRecords : int  1 2 1 2 1 1 1 1 1 1 ...\n",
      " $ TotalMinutesAsleep: int  327 384 412 340 700 304 360 325 361 430 ...\n",
      " $ TotalTimeInBed    : int  346 407 442 367 712 320 377 364 384 449 ...\n",
      "[1] \"hourly_Calories overview\"\n"
     ]
    },
    {
     "data": {
      "text/html": [
       "<table class=\"dataframe\">\n",
       "<caption>A data.frame: 6 × 3</caption>\n",
       "<thead>\n",
       "\t<tr><th></th><th scope=col>Id</th><th scope=col>ActivityHour</th><th scope=col>Calories</th></tr>\n",
       "\t<tr><th></th><th scope=col>&lt;dbl&gt;</th><th scope=col>&lt;chr&gt;</th><th scope=col>&lt;int&gt;</th></tr>\n",
       "</thead>\n",
       "<tbody>\n",
       "\t<tr><th scope=row>1</th><td>1503960366</td><td>4/12/2016 12:00:00 AM</td><td>81</td></tr>\n",
       "\t<tr><th scope=row>2</th><td>1503960366</td><td>4/12/2016 1:00:00 AM </td><td>61</td></tr>\n",
       "\t<tr><th scope=row>3</th><td>1503960366</td><td>4/12/2016 2:00:00 AM </td><td>59</td></tr>\n",
       "\t<tr><th scope=row>4</th><td>1503960366</td><td>4/12/2016 3:00:00 AM </td><td>47</td></tr>\n",
       "\t<tr><th scope=row>5</th><td>1503960366</td><td>4/12/2016 4:00:00 AM </td><td>48</td></tr>\n",
       "\t<tr><th scope=row>6</th><td>1503960366</td><td>4/12/2016 5:00:00 AM </td><td>48</td></tr>\n",
       "</tbody>\n",
       "</table>\n"
      ],
      "text/latex": [
       "A data.frame: 6 × 3\n",
       "\\begin{tabular}{r|lll}\n",
       "  & Id & ActivityHour & Calories\\\\\n",
       "  & <dbl> & <chr> & <int>\\\\\n",
       "\\hline\n",
       "\t1 & 1503960366 & 4/12/2016 12:00:00 AM & 81\\\\\n",
       "\t2 & 1503960366 & 4/12/2016 1:00:00 AM  & 61\\\\\n",
       "\t3 & 1503960366 & 4/12/2016 2:00:00 AM  & 59\\\\\n",
       "\t4 & 1503960366 & 4/12/2016 3:00:00 AM  & 47\\\\\n",
       "\t5 & 1503960366 & 4/12/2016 4:00:00 AM  & 48\\\\\n",
       "\t6 & 1503960366 & 4/12/2016 5:00:00 AM  & 48\\\\\n",
       "\\end{tabular}\n"
      ],
      "text/markdown": [
       "\n",
       "A data.frame: 6 × 3\n",
       "\n",
       "| <!--/--> | Id &lt;dbl&gt; | ActivityHour &lt;chr&gt; | Calories &lt;int&gt; |\n",
       "|---|---|---|---|\n",
       "| 1 | 1503960366 | 4/12/2016 12:00:00 AM | 81 |\n",
       "| 2 | 1503960366 | 4/12/2016 1:00:00 AM  | 61 |\n",
       "| 3 | 1503960366 | 4/12/2016 2:00:00 AM  | 59 |\n",
       "| 4 | 1503960366 | 4/12/2016 3:00:00 AM  | 47 |\n",
       "| 5 | 1503960366 | 4/12/2016 4:00:00 AM  | 48 |\n",
       "| 6 | 1503960366 | 4/12/2016 5:00:00 AM  | 48 |\n",
       "\n"
      ],
      "text/plain": [
       "  Id         ActivityHour          Calories\n",
       "1 1503960366 4/12/2016 12:00:00 AM 81      \n",
       "2 1503960366 4/12/2016 1:00:00 AM  61      \n",
       "3 1503960366 4/12/2016 2:00:00 AM  59      \n",
       "4 1503960366 4/12/2016 3:00:00 AM  47      \n",
       "5 1503960366 4/12/2016 4:00:00 AM  48      \n",
       "6 1503960366 4/12/2016 5:00:00 AM  48      "
      ]
     },
     "metadata": {},
     "output_type": "display_data"
    },
    {
     "name": "stdout",
     "output_type": "stream",
     "text": [
      "'data.frame':\t22099 obs. of  3 variables:\n",
      " $ Id          : num  1.5e+09 1.5e+09 1.5e+09 1.5e+09 1.5e+09 ...\n",
      " $ ActivityHour: chr  \"4/12/2016 12:00:00 AM\" \"4/12/2016 1:00:00 AM\" \"4/12/2016 2:00:00 AM\" \"4/12/2016 3:00:00 AM\" ...\n",
      " $ Calories    : int  81 61 59 47 48 48 48 47 68 141 ...\n",
      "[1] \"hourly_Intensities overview\"\n"
     ]
    },
    {
     "data": {
      "text/html": [
       "<table class=\"dataframe\">\n",
       "<caption>A data.frame: 6 × 4</caption>\n",
       "<thead>\n",
       "\t<tr><th></th><th scope=col>Id</th><th scope=col>ActivityHour</th><th scope=col>TotalIntensity</th><th scope=col>AverageIntensity</th></tr>\n",
       "\t<tr><th></th><th scope=col>&lt;dbl&gt;</th><th scope=col>&lt;chr&gt;</th><th scope=col>&lt;int&gt;</th><th scope=col>&lt;dbl&gt;</th></tr>\n",
       "</thead>\n",
       "<tbody>\n",
       "\t<tr><th scope=row>1</th><td>1503960366</td><td>4/12/2016 12:00:00 AM</td><td>20</td><td>0.333333</td></tr>\n",
       "\t<tr><th scope=row>2</th><td>1503960366</td><td>4/12/2016 1:00:00 AM </td><td> 8</td><td>0.133333</td></tr>\n",
       "\t<tr><th scope=row>3</th><td>1503960366</td><td>4/12/2016 2:00:00 AM </td><td> 7</td><td>0.116667</td></tr>\n",
       "\t<tr><th scope=row>4</th><td>1503960366</td><td>4/12/2016 3:00:00 AM </td><td> 0</td><td>0.000000</td></tr>\n",
       "\t<tr><th scope=row>5</th><td>1503960366</td><td>4/12/2016 4:00:00 AM </td><td> 0</td><td>0.000000</td></tr>\n",
       "\t<tr><th scope=row>6</th><td>1503960366</td><td>4/12/2016 5:00:00 AM </td><td> 0</td><td>0.000000</td></tr>\n",
       "</tbody>\n",
       "</table>\n"
      ],
      "text/latex": [
       "A data.frame: 6 × 4\n",
       "\\begin{tabular}{r|llll}\n",
       "  & Id & ActivityHour & TotalIntensity & AverageIntensity\\\\\n",
       "  & <dbl> & <chr> & <int> & <dbl>\\\\\n",
       "\\hline\n",
       "\t1 & 1503960366 & 4/12/2016 12:00:00 AM & 20 & 0.333333\\\\\n",
       "\t2 & 1503960366 & 4/12/2016 1:00:00 AM  &  8 & 0.133333\\\\\n",
       "\t3 & 1503960366 & 4/12/2016 2:00:00 AM  &  7 & 0.116667\\\\\n",
       "\t4 & 1503960366 & 4/12/2016 3:00:00 AM  &  0 & 0.000000\\\\\n",
       "\t5 & 1503960366 & 4/12/2016 4:00:00 AM  &  0 & 0.000000\\\\\n",
       "\t6 & 1503960366 & 4/12/2016 5:00:00 AM  &  0 & 0.000000\\\\\n",
       "\\end{tabular}\n"
      ],
      "text/markdown": [
       "\n",
       "A data.frame: 6 × 4\n",
       "\n",
       "| <!--/--> | Id &lt;dbl&gt; | ActivityHour &lt;chr&gt; | TotalIntensity &lt;int&gt; | AverageIntensity &lt;dbl&gt; |\n",
       "|---|---|---|---|---|\n",
       "| 1 | 1503960366 | 4/12/2016 12:00:00 AM | 20 | 0.333333 |\n",
       "| 2 | 1503960366 | 4/12/2016 1:00:00 AM  |  8 | 0.133333 |\n",
       "| 3 | 1503960366 | 4/12/2016 2:00:00 AM  |  7 | 0.116667 |\n",
       "| 4 | 1503960366 | 4/12/2016 3:00:00 AM  |  0 | 0.000000 |\n",
       "| 5 | 1503960366 | 4/12/2016 4:00:00 AM  |  0 | 0.000000 |\n",
       "| 6 | 1503960366 | 4/12/2016 5:00:00 AM  |  0 | 0.000000 |\n",
       "\n"
      ],
      "text/plain": [
       "  Id         ActivityHour          TotalIntensity AverageIntensity\n",
       "1 1503960366 4/12/2016 12:00:00 AM 20             0.333333        \n",
       "2 1503960366 4/12/2016 1:00:00 AM   8             0.133333        \n",
       "3 1503960366 4/12/2016 2:00:00 AM   7             0.116667        \n",
       "4 1503960366 4/12/2016 3:00:00 AM   0             0.000000        \n",
       "5 1503960366 4/12/2016 4:00:00 AM   0             0.000000        \n",
       "6 1503960366 4/12/2016 5:00:00 AM   0             0.000000        "
      ]
     },
     "metadata": {},
     "output_type": "display_data"
    },
    {
     "name": "stdout",
     "output_type": "stream",
     "text": [
      "'data.frame':\t22099 obs. of  4 variables:\n",
      " $ Id              : num  1.5e+09 1.5e+09 1.5e+09 1.5e+09 1.5e+09 ...\n",
      " $ ActivityHour    : chr  \"4/12/2016 12:00:00 AM\" \"4/12/2016 1:00:00 AM\" \"4/12/2016 2:00:00 AM\" \"4/12/2016 3:00:00 AM\" ...\n",
      " $ TotalIntensity  : int  20 8 7 0 0 0 0 0 13 30 ...\n",
      " $ AverageIntensity: num  0.333 0.133 0.117 0 0 ...\n",
      "[1] \"hourly_Steps overview\"\n"
     ]
    },
    {
     "data": {
      "text/html": [
       "<table class=\"dataframe\">\n",
       "<caption>A data.frame: 6 × 3</caption>\n",
       "<thead>\n",
       "\t<tr><th></th><th scope=col>Id</th><th scope=col>ActivityHour</th><th scope=col>StepTotal</th></tr>\n",
       "\t<tr><th></th><th scope=col>&lt;dbl&gt;</th><th scope=col>&lt;chr&gt;</th><th scope=col>&lt;int&gt;</th></tr>\n",
       "</thead>\n",
       "<tbody>\n",
       "\t<tr><th scope=row>1</th><td>1503960366</td><td>4/12/2016 12:00:00 AM</td><td>373</td></tr>\n",
       "\t<tr><th scope=row>2</th><td>1503960366</td><td>4/12/2016 1:00:00 AM </td><td>160</td></tr>\n",
       "\t<tr><th scope=row>3</th><td>1503960366</td><td>4/12/2016 2:00:00 AM </td><td>151</td></tr>\n",
       "\t<tr><th scope=row>4</th><td>1503960366</td><td>4/12/2016 3:00:00 AM </td><td>  0</td></tr>\n",
       "\t<tr><th scope=row>5</th><td>1503960366</td><td>4/12/2016 4:00:00 AM </td><td>  0</td></tr>\n",
       "\t<tr><th scope=row>6</th><td>1503960366</td><td>4/12/2016 5:00:00 AM </td><td>  0</td></tr>\n",
       "</tbody>\n",
       "</table>\n"
      ],
      "text/latex": [
       "A data.frame: 6 × 3\n",
       "\\begin{tabular}{r|lll}\n",
       "  & Id & ActivityHour & StepTotal\\\\\n",
       "  & <dbl> & <chr> & <int>\\\\\n",
       "\\hline\n",
       "\t1 & 1503960366 & 4/12/2016 12:00:00 AM & 373\\\\\n",
       "\t2 & 1503960366 & 4/12/2016 1:00:00 AM  & 160\\\\\n",
       "\t3 & 1503960366 & 4/12/2016 2:00:00 AM  & 151\\\\\n",
       "\t4 & 1503960366 & 4/12/2016 3:00:00 AM  &   0\\\\\n",
       "\t5 & 1503960366 & 4/12/2016 4:00:00 AM  &   0\\\\\n",
       "\t6 & 1503960366 & 4/12/2016 5:00:00 AM  &   0\\\\\n",
       "\\end{tabular}\n"
      ],
      "text/markdown": [
       "\n",
       "A data.frame: 6 × 3\n",
       "\n",
       "| <!--/--> | Id &lt;dbl&gt; | ActivityHour &lt;chr&gt; | StepTotal &lt;int&gt; |\n",
       "|---|---|---|---|\n",
       "| 1 | 1503960366 | 4/12/2016 12:00:00 AM | 373 |\n",
       "| 2 | 1503960366 | 4/12/2016 1:00:00 AM  | 160 |\n",
       "| 3 | 1503960366 | 4/12/2016 2:00:00 AM  | 151 |\n",
       "| 4 | 1503960366 | 4/12/2016 3:00:00 AM  |   0 |\n",
       "| 5 | 1503960366 | 4/12/2016 4:00:00 AM  |   0 |\n",
       "| 6 | 1503960366 | 4/12/2016 5:00:00 AM  |   0 |\n",
       "\n"
      ],
      "text/plain": [
       "  Id         ActivityHour          StepTotal\n",
       "1 1503960366 4/12/2016 12:00:00 AM 373      \n",
       "2 1503960366 4/12/2016 1:00:00 AM  160      \n",
       "3 1503960366 4/12/2016 2:00:00 AM  151      \n",
       "4 1503960366 4/12/2016 3:00:00 AM    0      \n",
       "5 1503960366 4/12/2016 4:00:00 AM    0      \n",
       "6 1503960366 4/12/2016 5:00:00 AM    0      "
      ]
     },
     "metadata": {},
     "output_type": "display_data"
    },
    {
     "name": "stdout",
     "output_type": "stream",
     "text": [
      "'data.frame':\t22099 obs. of  3 variables:\n",
      " $ Id          : num  1.5e+09 1.5e+09 1.5e+09 1.5e+09 1.5e+09 ...\n",
      " $ ActivityHour: chr  \"4/12/2016 12:00:00 AM\" \"4/12/2016 1:00:00 AM\" \"4/12/2016 2:00:00 AM\" \"4/12/2016 3:00:00 AM\" ...\n",
      " $ StepTotal   : int  373 160 151 0 0 0 0 0 250 1864 ...\n",
      "[1] \"weight_Info overview\"\n"
     ]
    },
    {
     "data": {
      "text/html": [
       "<table class=\"dataframe\">\n",
       "<caption>A data.frame: 6 × 8</caption>\n",
       "<thead>\n",
       "\t<tr><th></th><th scope=col>Id</th><th scope=col>Date</th><th scope=col>WeightKg</th><th scope=col>WeightPounds</th><th scope=col>Fat</th><th scope=col>BMI</th><th scope=col>IsManualReport</th><th scope=col>LogId</th></tr>\n",
       "\t<tr><th></th><th scope=col>&lt;dbl&gt;</th><th scope=col>&lt;chr&gt;</th><th scope=col>&lt;dbl&gt;</th><th scope=col>&lt;dbl&gt;</th><th scope=col>&lt;int&gt;</th><th scope=col>&lt;dbl&gt;</th><th scope=col>&lt;chr&gt;</th><th scope=col>&lt;dbl&gt;</th></tr>\n",
       "</thead>\n",
       "<tbody>\n",
       "\t<tr><th scope=row>1</th><td>1503960366</td><td>5/2/2016 11:59:59 PM </td><td> 52.6</td><td>115.9631</td><td>22</td><td>22.65</td><td>True </td><td>1.462234e+12</td></tr>\n",
       "\t<tr><th scope=row>2</th><td>1503960366</td><td>5/3/2016 11:59:59 PM </td><td> 52.6</td><td>115.9631</td><td>NA</td><td>22.65</td><td>True </td><td>1.462320e+12</td></tr>\n",
       "\t<tr><th scope=row>3</th><td>1927972279</td><td>4/13/2016 1:08:52 AM </td><td>133.5</td><td>294.3171</td><td>NA</td><td>47.54</td><td>False</td><td>1.460510e+12</td></tr>\n",
       "\t<tr><th scope=row>4</th><td>2873212765</td><td>4/21/2016 11:59:59 PM</td><td> 56.7</td><td>125.0021</td><td>NA</td><td>21.45</td><td>True </td><td>1.461283e+12</td></tr>\n",
       "\t<tr><th scope=row>5</th><td>2873212765</td><td>5/12/2016 11:59:59 PM</td><td> 57.3</td><td>126.3249</td><td>NA</td><td>21.69</td><td>True </td><td>1.463098e+12</td></tr>\n",
       "\t<tr><th scope=row>6</th><td>4319703577</td><td>4/17/2016 11:59:59 PM</td><td> 72.4</td><td>159.6147</td><td>25</td><td>27.45</td><td>True </td><td>1.460938e+12</td></tr>\n",
       "</tbody>\n",
       "</table>\n"
      ],
      "text/latex": [
       "A data.frame: 6 × 8\n",
       "\\begin{tabular}{r|llllllll}\n",
       "  & Id & Date & WeightKg & WeightPounds & Fat & BMI & IsManualReport & LogId\\\\\n",
       "  & <dbl> & <chr> & <dbl> & <dbl> & <int> & <dbl> & <chr> & <dbl>\\\\\n",
       "\\hline\n",
       "\t1 & 1503960366 & 5/2/2016 11:59:59 PM  &  52.6 & 115.9631 & 22 & 22.65 & True  & 1.462234e+12\\\\\n",
       "\t2 & 1503960366 & 5/3/2016 11:59:59 PM  &  52.6 & 115.9631 & NA & 22.65 & True  & 1.462320e+12\\\\\n",
       "\t3 & 1927972279 & 4/13/2016 1:08:52 AM  & 133.5 & 294.3171 & NA & 47.54 & False & 1.460510e+12\\\\\n",
       "\t4 & 2873212765 & 4/21/2016 11:59:59 PM &  56.7 & 125.0021 & NA & 21.45 & True  & 1.461283e+12\\\\\n",
       "\t5 & 2873212765 & 5/12/2016 11:59:59 PM &  57.3 & 126.3249 & NA & 21.69 & True  & 1.463098e+12\\\\\n",
       "\t6 & 4319703577 & 4/17/2016 11:59:59 PM &  72.4 & 159.6147 & 25 & 27.45 & True  & 1.460938e+12\\\\\n",
       "\\end{tabular}\n"
      ],
      "text/markdown": [
       "\n",
       "A data.frame: 6 × 8\n",
       "\n",
       "| <!--/--> | Id &lt;dbl&gt; | Date &lt;chr&gt; | WeightKg &lt;dbl&gt; | WeightPounds &lt;dbl&gt; | Fat &lt;int&gt; | BMI &lt;dbl&gt; | IsManualReport &lt;chr&gt; | LogId &lt;dbl&gt; |\n",
       "|---|---|---|---|---|---|---|---|---|\n",
       "| 1 | 1503960366 | 5/2/2016 11:59:59 PM  |  52.6 | 115.9631 | 22 | 22.65 | True  | 1.462234e+12 |\n",
       "| 2 | 1503960366 | 5/3/2016 11:59:59 PM  |  52.6 | 115.9631 | NA | 22.65 | True  | 1.462320e+12 |\n",
       "| 3 | 1927972279 | 4/13/2016 1:08:52 AM  | 133.5 | 294.3171 | NA | 47.54 | False | 1.460510e+12 |\n",
       "| 4 | 2873212765 | 4/21/2016 11:59:59 PM |  56.7 | 125.0021 | NA | 21.45 | True  | 1.461283e+12 |\n",
       "| 5 | 2873212765 | 5/12/2016 11:59:59 PM |  57.3 | 126.3249 | NA | 21.69 | True  | 1.463098e+12 |\n",
       "| 6 | 4319703577 | 4/17/2016 11:59:59 PM |  72.4 | 159.6147 | 25 | 27.45 | True  | 1.460938e+12 |\n",
       "\n"
      ],
      "text/plain": [
       "  Id         Date                  WeightKg WeightPounds Fat BMI  \n",
       "1 1503960366 5/2/2016 11:59:59 PM   52.6    115.9631     22  22.65\n",
       "2 1503960366 5/3/2016 11:59:59 PM   52.6    115.9631     NA  22.65\n",
       "3 1927972279 4/13/2016 1:08:52 AM  133.5    294.3171     NA  47.54\n",
       "4 2873212765 4/21/2016 11:59:59 PM  56.7    125.0021     NA  21.45\n",
       "5 2873212765 5/12/2016 11:59:59 PM  57.3    126.3249     NA  21.69\n",
       "6 4319703577 4/17/2016 11:59:59 PM  72.4    159.6147     25  27.45\n",
       "  IsManualReport LogId       \n",
       "1 True           1.462234e+12\n",
       "2 True           1.462320e+12\n",
       "3 False          1.460510e+12\n",
       "4 True           1.461283e+12\n",
       "5 True           1.463098e+12\n",
       "6 True           1.460938e+12"
      ]
     },
     "metadata": {},
     "output_type": "display_data"
    },
    {
     "name": "stdout",
     "output_type": "stream",
     "text": [
      "'data.frame':\t67 obs. of  8 variables:\n",
      " $ Id            : num  1.50e+09 1.50e+09 1.93e+09 2.87e+09 2.87e+09 ...\n",
      " $ Date          : chr  \"5/2/2016 11:59:59 PM\" \"5/3/2016 11:59:59 PM\" \"4/13/2016 1:08:52 AM\" \"4/21/2016 11:59:59 PM\" ...\n",
      " $ WeightKg      : num  52.6 52.6 133.5 56.7 57.3 ...\n",
      " $ WeightPounds  : num  116 116 294 125 126 ...\n",
      " $ Fat           : int  22 NA NA NA NA 25 NA NA NA NA ...\n",
      " $ BMI           : num  22.6 22.6 47.5 21.5 21.7 ...\n",
      " $ IsManualReport: chr  \"True\" \"True\" \"False\" \"True\" ...\n",
      " $ LogId         : num  1.46e+12 1.46e+12 1.46e+12 1.46e+12 1.46e+12 ...\n",
      "[1] \"heartrate_Seconds overview\"\n"
     ]
    },
    {
     "data": {
      "text/html": [
       "<table class=\"dataframe\">\n",
       "<caption>A data.frame: 6 × 3</caption>\n",
       "<thead>\n",
       "\t<tr><th></th><th scope=col>Id</th><th scope=col>Time</th><th scope=col>Value</th></tr>\n",
       "\t<tr><th></th><th scope=col>&lt;dbl&gt;</th><th scope=col>&lt;chr&gt;</th><th scope=col>&lt;int&gt;</th></tr>\n",
       "</thead>\n",
       "<tbody>\n",
       "\t<tr><th scope=row>1</th><td>2022484408</td><td>4/12/2016 7:21:00 AM</td><td> 97</td></tr>\n",
       "\t<tr><th scope=row>2</th><td>2022484408</td><td>4/12/2016 7:21:05 AM</td><td>102</td></tr>\n",
       "\t<tr><th scope=row>3</th><td>2022484408</td><td>4/12/2016 7:21:10 AM</td><td>105</td></tr>\n",
       "\t<tr><th scope=row>4</th><td>2022484408</td><td>4/12/2016 7:21:20 AM</td><td>103</td></tr>\n",
       "\t<tr><th scope=row>5</th><td>2022484408</td><td>4/12/2016 7:21:25 AM</td><td>101</td></tr>\n",
       "\t<tr><th scope=row>6</th><td>2022484408</td><td>4/12/2016 7:22:05 AM</td><td> 95</td></tr>\n",
       "</tbody>\n",
       "</table>\n"
      ],
      "text/latex": [
       "A data.frame: 6 × 3\n",
       "\\begin{tabular}{r|lll}\n",
       "  & Id & Time & Value\\\\\n",
       "  & <dbl> & <chr> & <int>\\\\\n",
       "\\hline\n",
       "\t1 & 2022484408 & 4/12/2016 7:21:00 AM &  97\\\\\n",
       "\t2 & 2022484408 & 4/12/2016 7:21:05 AM & 102\\\\\n",
       "\t3 & 2022484408 & 4/12/2016 7:21:10 AM & 105\\\\\n",
       "\t4 & 2022484408 & 4/12/2016 7:21:20 AM & 103\\\\\n",
       "\t5 & 2022484408 & 4/12/2016 7:21:25 AM & 101\\\\\n",
       "\t6 & 2022484408 & 4/12/2016 7:22:05 AM &  95\\\\\n",
       "\\end{tabular}\n"
      ],
      "text/markdown": [
       "\n",
       "A data.frame: 6 × 3\n",
       "\n",
       "| <!--/--> | Id &lt;dbl&gt; | Time &lt;chr&gt; | Value &lt;int&gt; |\n",
       "|---|---|---|---|\n",
       "| 1 | 2022484408 | 4/12/2016 7:21:00 AM |  97 |\n",
       "| 2 | 2022484408 | 4/12/2016 7:21:05 AM | 102 |\n",
       "| 3 | 2022484408 | 4/12/2016 7:21:10 AM | 105 |\n",
       "| 4 | 2022484408 | 4/12/2016 7:21:20 AM | 103 |\n",
       "| 5 | 2022484408 | 4/12/2016 7:21:25 AM | 101 |\n",
       "| 6 | 2022484408 | 4/12/2016 7:22:05 AM |  95 |\n",
       "\n"
      ],
      "text/plain": [
       "  Id         Time                 Value\n",
       "1 2022484408 4/12/2016 7:21:00 AM  97  \n",
       "2 2022484408 4/12/2016 7:21:05 AM 102  \n",
       "3 2022484408 4/12/2016 7:21:10 AM 105  \n",
       "4 2022484408 4/12/2016 7:21:20 AM 103  \n",
       "5 2022484408 4/12/2016 7:21:25 AM 101  \n",
       "6 2022484408 4/12/2016 7:22:05 AM  95  "
      ]
     },
     "metadata": {},
     "output_type": "display_data"
    },
    {
     "name": "stdout",
     "output_type": "stream",
     "text": [
      "'data.frame':\t2483658 obs. of  3 variables:\n",
      " $ Id   : num  2.02e+09 2.02e+09 2.02e+09 2.02e+09 2.02e+09 ...\n",
      " $ Time : chr  \"4/12/2016 7:21:00 AM\" \"4/12/2016 7:21:05 AM\" \"4/12/2016 7:21:10 AM\" \"4/12/2016 7:21:20 AM\" ...\n",
      " $ Value: int  97 102 105 103 101 95 91 93 94 93 ...\n"
     ]
    }
   ],
   "source": [
    "print('daily_activity overview')  \n",
    "head(daily_Activity)\n",
    "str(daily_Activity)\n",
    "print('daily_calories overview')\n",
    "head(daily_Calories)\n",
    "str(daily_Calories)\n",
    "print('daily_Intensities overview')\n",
    "head(daily_Intensities)\n",
    "str(daily_Intensities)\n",
    "print('daily_Steps overview')\n",
    "head(daily_Steps)\n",
    "str(daily_Steps)\n",
    "print('daily_Sleep overview')\n",
    "head(daily_Sleep)\n",
    "str(daily_Sleep)\n",
    "print('hourly_Calories overview')\n",
    "head(hourly_Calories)\n",
    "str(hourly_Calories)\n",
    "print('hourly_Intensities overview')\n",
    "head(hourly_Intensities)\n",
    "str(hourly_Intensities)\n",
    "print('hourly_Steps overview')\n",
    "head(hourly_Steps)\n",
    "str(hourly_Steps)\n",
    "print('weight_Info overview')\n",
    "head(weight_Info)\n",
    "str(weight_Info)\n",
    "print('heartrate_Seconds overview')\n",
    "head(heartrate_Seconds)\n",
    "str(heartrate_Seconds)"
   ]
  },
  {
   "cell_type": "markdown",
   "id": "f278eea5",
   "metadata": {
    "papermill": {
     "duration": 0.016343,
     "end_time": "2023-03-29T08:43:31.606523",
     "exception": false,
     "start_time": "2023-03-29T08:43:31.590180",
     "status": "completed"
    },
    "tags": []
   },
   "source": [
    "We have clearly see that the daily datasets of Activity , Calories, Intensities, and Steps might have overlaps, as they all contain 940 observations and similar column names.Similarly,the hourly datasets has overlaps. To confirm this, we will use the 'merge()' function to check for any overlap or duplication between the datasets."
   ]
  },
  {
   "cell_type": "code",
   "execution_count": 4,
   "id": "399f6cd6",
   "metadata": {
    "execution": {
     "iopub.execute_input": "2023-03-29T08:43:31.642548Z",
     "iopub.status.busy": "2023-03-29T08:43:31.641040Z",
     "iopub.status.idle": "2023-03-29T08:43:31.678522Z",
     "shell.execute_reply": "2023-03-29T08:43:31.676146Z"
    },
    "papermill": {
     "duration": 0.058762,
     "end_time": "2023-03-29T08:43:31.681555",
     "exception": false,
     "start_time": "2023-03-29T08:43:31.622793",
     "status": "completed"
    },
    "tags": []
   },
   "outputs": [
    {
     "name": "stdout",
     "output_type": "stream",
     "text": [
      "[1] 940\n"
     ]
    }
   ],
   "source": [
    "merged_data_daily <- daily_Activity %>%\n",
    "   inner_join(daily_Calories, by = c(\"Id\",\"ActivityDate\"=\"ActivityDay\")) %>%\n",
    "   inner_join(daily_Intensities, by = c(\"Id\",\"ActivityDate\"=\"ActivityDay\")) %>%\n",
    "   inner_join(daily_Steps, by = c(\"Id\",\"ActivityDate\"=\"ActivityDay\"))\n",
    " \n",
    "num_rows_daily <- nrow(merged_data_daily)\n",
    "print(num_rows_daily)"
   ]
  },
  {
   "cell_type": "markdown",
   "id": "31b98d03",
   "metadata": {
    "papermill": {
     "duration": 0.016325,
     "end_time": "2023-03-29T08:43:31.714281",
     "exception": false,
     "start_time": "2023-03-29T08:43:31.697956",
     "status": "completed"
    },
    "tags": []
   },
   "source": [
    "Similarly we can create a new dataframe combining the data from hourly Calories , Intensities and Steps into a new data frame."
   ]
  },
  {
   "cell_type": "code",
   "execution_count": 5,
   "id": "310b95e8",
   "metadata": {
    "execution": {
     "iopub.execute_input": "2023-03-29T08:43:31.750793Z",
     "iopub.status.busy": "2023-03-29T08:43:31.749228Z",
     "iopub.status.idle": "2023-03-29T08:43:31.809005Z",
     "shell.execute_reply": "2023-03-29T08:43:31.806981Z"
    },
    "papermill": {
     "duration": 0.081638,
     "end_time": "2023-03-29T08:43:31.812289",
     "exception": false,
     "start_time": "2023-03-29T08:43:31.730651",
     "status": "completed"
    },
    "tags": []
   },
   "outputs": [
    {
     "data": {
      "text/html": [
       "<table class=\"dataframe\">\n",
       "<caption>A data.frame: 6 × 6</caption>\n",
       "<thead>\n",
       "\t<tr><th></th><th scope=col>Id</th><th scope=col>ActivityHour</th><th scope=col>Calories</th><th scope=col>TotalIntensity</th><th scope=col>AverageIntensity</th><th scope=col>StepTotal</th></tr>\n",
       "\t<tr><th></th><th scope=col>&lt;dbl&gt;</th><th scope=col>&lt;chr&gt;</th><th scope=col>&lt;int&gt;</th><th scope=col>&lt;int&gt;</th><th scope=col>&lt;dbl&gt;</th><th scope=col>&lt;int&gt;</th></tr>\n",
       "</thead>\n",
       "<tbody>\n",
       "\t<tr><th scope=row>1</th><td>1503960366</td><td>4/12/2016 12:00:00 AM</td><td>81</td><td>20</td><td>0.333333</td><td>373</td></tr>\n",
       "\t<tr><th scope=row>2</th><td>1503960366</td><td>4/12/2016 1:00:00 AM </td><td>61</td><td> 8</td><td>0.133333</td><td>160</td></tr>\n",
       "\t<tr><th scope=row>3</th><td>1503960366</td><td>4/12/2016 2:00:00 AM </td><td>59</td><td> 7</td><td>0.116667</td><td>151</td></tr>\n",
       "\t<tr><th scope=row>4</th><td>1503960366</td><td>4/12/2016 3:00:00 AM </td><td>47</td><td> 0</td><td>0.000000</td><td>  0</td></tr>\n",
       "\t<tr><th scope=row>5</th><td>1503960366</td><td>4/12/2016 4:00:00 AM </td><td>48</td><td> 0</td><td>0.000000</td><td>  0</td></tr>\n",
       "\t<tr><th scope=row>6</th><td>1503960366</td><td>4/12/2016 5:00:00 AM </td><td>48</td><td> 0</td><td>0.000000</td><td>  0</td></tr>\n",
       "</tbody>\n",
       "</table>\n"
      ],
      "text/latex": [
       "A data.frame: 6 × 6\n",
       "\\begin{tabular}{r|llllll}\n",
       "  & Id & ActivityHour & Calories & TotalIntensity & AverageIntensity & StepTotal\\\\\n",
       "  & <dbl> & <chr> & <int> & <int> & <dbl> & <int>\\\\\n",
       "\\hline\n",
       "\t1 & 1503960366 & 4/12/2016 12:00:00 AM & 81 & 20 & 0.333333 & 373\\\\\n",
       "\t2 & 1503960366 & 4/12/2016 1:00:00 AM  & 61 &  8 & 0.133333 & 160\\\\\n",
       "\t3 & 1503960366 & 4/12/2016 2:00:00 AM  & 59 &  7 & 0.116667 & 151\\\\\n",
       "\t4 & 1503960366 & 4/12/2016 3:00:00 AM  & 47 &  0 & 0.000000 &   0\\\\\n",
       "\t5 & 1503960366 & 4/12/2016 4:00:00 AM  & 48 &  0 & 0.000000 &   0\\\\\n",
       "\t6 & 1503960366 & 4/12/2016 5:00:00 AM  & 48 &  0 & 0.000000 &   0\\\\\n",
       "\\end{tabular}\n"
      ],
      "text/markdown": [
       "\n",
       "A data.frame: 6 × 6\n",
       "\n",
       "| <!--/--> | Id &lt;dbl&gt; | ActivityHour &lt;chr&gt; | Calories &lt;int&gt; | TotalIntensity &lt;int&gt; | AverageIntensity &lt;dbl&gt; | StepTotal &lt;int&gt; |\n",
       "|---|---|---|---|---|---|---|\n",
       "| 1 | 1503960366 | 4/12/2016 12:00:00 AM | 81 | 20 | 0.333333 | 373 |\n",
       "| 2 | 1503960366 | 4/12/2016 1:00:00 AM  | 61 |  8 | 0.133333 | 160 |\n",
       "| 3 | 1503960366 | 4/12/2016 2:00:00 AM  | 59 |  7 | 0.116667 | 151 |\n",
       "| 4 | 1503960366 | 4/12/2016 3:00:00 AM  | 47 |  0 | 0.000000 |   0 |\n",
       "| 5 | 1503960366 | 4/12/2016 4:00:00 AM  | 48 |  0 | 0.000000 |   0 |\n",
       "| 6 | 1503960366 | 4/12/2016 5:00:00 AM  | 48 |  0 | 0.000000 |   0 |\n",
       "\n"
      ],
      "text/plain": [
       "  Id         ActivityHour          Calories TotalIntensity AverageIntensity\n",
       "1 1503960366 4/12/2016 12:00:00 AM 81       20             0.333333        \n",
       "2 1503960366 4/12/2016 1:00:00 AM  61        8             0.133333        \n",
       "3 1503960366 4/12/2016 2:00:00 AM  59        7             0.116667        \n",
       "4 1503960366 4/12/2016 3:00:00 AM  47        0             0.000000        \n",
       "5 1503960366 4/12/2016 4:00:00 AM  48        0             0.000000        \n",
       "6 1503960366 4/12/2016 5:00:00 AM  48        0             0.000000        \n",
       "  StepTotal\n",
       "1 373      \n",
       "2 160      \n",
       "3 151      \n",
       "4   0      \n",
       "5   0      \n",
       "6   0      "
      ]
     },
     "metadata": {},
     "output_type": "display_data"
    },
    {
     "name": "stdout",
     "output_type": "stream",
     "text": [
      "'data.frame':\t22099 obs. of  6 variables:\n",
      " $ Id              : num  1.5e+09 1.5e+09 1.5e+09 1.5e+09 1.5e+09 ...\n",
      " $ ActivityHour    : chr  \"4/12/2016 12:00:00 AM\" \"4/12/2016 1:00:00 AM\" \"4/12/2016 2:00:00 AM\" \"4/12/2016 3:00:00 AM\" ...\n",
      " $ Calories        : int  81 61 59 47 48 48 48 47 68 141 ...\n",
      " $ TotalIntensity  : int  20 8 7 0 0 0 0 0 13 30 ...\n",
      " $ AverageIntensity: num  0.333 0.133 0.117 0 0 ...\n",
      " $ StepTotal       : int  373 160 151 0 0 0 0 0 250 1864 ...\n"
     ]
    }
   ],
   "source": [
    "hourly_Activity <- hourly_Calories %>% \n",
    "    inner_join(hourly_Intensities, by = c(\"Id\",\"ActivityHour\")) %>% \n",
    "    inner_join(hourly_Steps, by = c(\"Id\",\"ActivityHour\"))\n",
    "#overview of hourly_Activity\n",
    "head(hourly_Activity)\n",
    "str(hourly_Activity)\n",
    "    "
   ]
  },
  {
   "cell_type": "markdown",
   "id": "96e36c67",
   "metadata": {
    "papermill": {
     "duration": 0.016775,
     "end_time": "2023-03-29T08:43:31.845930",
     "exception": false,
     "start_time": "2023-03-29T08:43:31.829155",
     "status": "completed"
    },
    "tags": []
   },
   "source": [
    "##### **Let’s perform some checks**\n",
    "\n",
    "#### *CHECK#1* \n",
    "How many distinct “Id” are in different datasets( in a previous statement by using str(), we  saw that Sleep, METs and Weight have different number of observations)"
   ]
  },
  {
   "cell_type": "code",
   "execution_count": 6,
   "id": "d6f78974",
   "metadata": {
    "execution": {
     "iopub.execute_input": "2023-03-29T08:43:31.883419Z",
     "iopub.status.busy": "2023-03-29T08:43:31.881765Z",
     "iopub.status.idle": "2023-03-29T08:43:31.997878Z",
     "shell.execute_reply": "2023-03-29T08:43:31.995876Z"
    },
    "papermill": {
     "duration": 0.137851,
     "end_time": "2023-03-29T08:43:32.000562",
     "exception": false,
     "start_time": "2023-03-29T08:43:31.862711",
     "status": "completed"
    },
    "tags": []
   },
   "outputs": [
    {
     "data": {
      "text/html": [
       "33"
      ],
      "text/latex": [
       "33"
      ],
      "text/markdown": [
       "33"
      ],
      "text/plain": [
       "[1] 33"
      ]
     },
     "metadata": {},
     "output_type": "display_data"
    },
    {
     "data": {
      "text/html": [
       "24"
      ],
      "text/latex": [
       "24"
      ],
      "text/markdown": [
       "24"
      ],
      "text/plain": [
       "[1] 24"
      ]
     },
     "metadata": {},
     "output_type": "display_data"
    },
    {
     "data": {
      "text/html": [
       "8"
      ],
      "text/latex": [
       "8"
      ],
      "text/markdown": [
       "8"
      ],
      "text/plain": [
       "[1] 8"
      ]
     },
     "metadata": {},
     "output_type": "display_data"
    },
    {
     "data": {
      "text/html": [
       "33"
      ],
      "text/latex": [
       "33"
      ],
      "text/markdown": [
       "33"
      ],
      "text/plain": [
       "[1] 33"
      ]
     },
     "metadata": {},
     "output_type": "display_data"
    },
    {
     "data": {
      "text/html": [
       "14"
      ],
      "text/latex": [
       "14"
      ],
      "text/markdown": [
       "14"
      ],
      "text/plain": [
       "[1] 14"
      ]
     },
     "metadata": {},
     "output_type": "display_data"
    }
   ],
   "source": [
    "n_distinct(daily_Activity$Id) \n",
    "n_distinct(daily_Sleep$Id)\n",
    "n_distinct(weight_Info$Id)\n",
    "n_distinct(hourly_Activity$Id)\n",
    "n_distinct(heartrate_Seconds$Id)"
   ]
  },
  {
   "cell_type": "markdown",
   "id": "d4a36227",
   "metadata": {
    "papermill": {
     "duration": 0.017334,
     "end_time": "2023-03-29T08:43:32.035282",
     "exception": false,
     "start_time": "2023-03-29T08:43:32.017948",
     "status": "completed"
    },
    "tags": []
   },
   "source": [
    "This means that we have activity data for 33 individuals while data containing weight\n",
    "_info, Sleep and Heartrate_seconds have only 24, 8 and 14 distinct id numbers respectively."
   ]
  },
  {
   "cell_type": "markdown",
   "id": "3f72b204",
   "metadata": {
    "papermill": {
     "duration": 0.017361,
     "end_time": "2023-03-29T08:43:32.070120",
     "exception": false,
     "start_time": "2023-03-29T08:43:32.052759",
     "status": "completed"
    },
    "tags": []
   },
   "source": [
    "#### *CHECK#2*  \n",
    "Do we have duplicate data by using duplicate()"
   ]
  },
  {
   "cell_type": "code",
   "execution_count": 7,
   "id": "bffb9cac",
   "metadata": {
    "execution": {
     "iopub.execute_input": "2023-03-29T08:43:32.108753Z",
     "iopub.status.busy": "2023-03-29T08:43:32.107091Z",
     "iopub.status.idle": "2023-03-29T08:43:39.910638Z",
     "shell.execute_reply": "2023-03-29T08:43:39.908586Z"
    },
    "papermill": {
     "duration": 7.825841,
     "end_time": "2023-03-29T08:43:39.913361",
     "exception": false,
     "start_time": "2023-03-29T08:43:32.087520",
     "status": "completed"
    },
    "tags": []
   },
   "outputs": [
    {
     "data": {
      "text/html": [
       "0"
      ],
      "text/latex": [
       "0"
      ],
      "text/markdown": [
       "0"
      ],
      "text/plain": [
       "[1] 0"
      ]
     },
     "metadata": {},
     "output_type": "display_data"
    },
    {
     "data": {
      "text/html": [
       "3"
      ],
      "text/latex": [
       "3"
      ],
      "text/markdown": [
       "3"
      ],
      "text/plain": [
       "[1] 3"
      ]
     },
     "metadata": {},
     "output_type": "display_data"
    },
    {
     "data": {
      "text/html": [
       "0"
      ],
      "text/latex": [
       "0"
      ],
      "text/markdown": [
       "0"
      ],
      "text/plain": [
       "[1] 0"
      ]
     },
     "metadata": {},
     "output_type": "display_data"
    },
    {
     "data": {
      "text/html": [
       "0"
      ],
      "text/latex": [
       "0"
      ],
      "text/markdown": [
       "0"
      ],
      "text/plain": [
       "[1] 0"
      ]
     },
     "metadata": {},
     "output_type": "display_data"
    },
    {
     "data": {
      "text/html": [
       "0"
      ],
      "text/latex": [
       "0"
      ],
      "text/markdown": [
       "0"
      ],
      "text/plain": [
       "[1] 0"
      ]
     },
     "metadata": {},
     "output_type": "display_data"
    }
   ],
   "source": [
    "sum(duplicated(daily_Activity))\n",
    "sum(duplicated(daily_Sleep))\n",
    "sum(duplicated(weight_Info))\n",
    "sum(duplicated(hourly_Activity))\n",
    "sum(duplicated(heartrate_Seconds))"
   ]
  },
  {
   "cell_type": "markdown",
   "id": "b7db47d2",
   "metadata": {
    "papermill": {
     "duration": 0.018262,
     "end_time": "2023-03-29T08:43:39.949671",
     "exception": false,
     "start_time": "2023-03-29T08:43:39.931409",
     "status": "completed"
    },
    "tags": []
   },
   "source": [
    "#### *CHECK#3* \n",
    "Do we have NAs in the dataset by using is.na()?"
   ]
  },
  {
   "cell_type": "code",
   "execution_count": 8,
   "id": "6ff1d097",
   "metadata": {
    "execution": {
     "iopub.execute_input": "2023-03-29T08:43:39.989220Z",
     "iopub.status.busy": "2023-03-29T08:43:39.987638Z",
     "iopub.status.idle": "2023-03-29T08:43:40.312943Z",
     "shell.execute_reply": "2023-03-29T08:43:40.310725Z"
    },
    "papermill": {
     "duration": 0.348311,
     "end_time": "2023-03-29T08:43:40.315949",
     "exception": false,
     "start_time": "2023-03-29T08:43:39.967638",
     "status": "completed"
    },
    "tags": []
   },
   "outputs": [
    {
     "data": {
      "text/html": [
       "0"
      ],
      "text/latex": [
       "0"
      ],
      "text/markdown": [
       "0"
      ],
      "text/plain": [
       "[1] 0"
      ]
     },
     "metadata": {},
     "output_type": "display_data"
    },
    {
     "data": {
      "text/html": [
       "0"
      ],
      "text/latex": [
       "0"
      ],
      "text/markdown": [
       "0"
      ],
      "text/plain": [
       "[1] 0"
      ]
     },
     "metadata": {},
     "output_type": "display_data"
    },
    {
     "data": {
      "text/html": [
       "65"
      ],
      "text/latex": [
       "65"
      ],
      "text/markdown": [
       "65"
      ],
      "text/plain": [
       "[1] 65"
      ]
     },
     "metadata": {},
     "output_type": "display_data"
    },
    {
     "data": {
      "text/html": [
       "0"
      ],
      "text/latex": [
       "0"
      ],
      "text/markdown": [
       "0"
      ],
      "text/plain": [
       "[1] 0"
      ]
     },
     "metadata": {},
     "output_type": "display_data"
    },
    {
     "data": {
      "text/html": [
       "0"
      ],
      "text/latex": [
       "0"
      ],
      "text/markdown": [
       "0"
      ],
      "text/plain": [
       "[1] 0"
      ]
     },
     "metadata": {},
     "output_type": "display_data"
    }
   ],
   "source": [
    "sum(is.na(daily_Activity))\n",
    "sum(is.na(daily_Sleep))\n",
    "sum(is.na(weight_Info))\n",
    "sum(is.na(hourly_Activity))\n",
    "sum(is.na(heartrate_Seconds))"
   ]
  },
  {
   "cell_type": "markdown",
   "id": "e60e14b6",
   "metadata": {
    "papermill": {
     "duration": 0.018375,
     "end_time": "2023-03-29T08:43:40.352697",
     "exception": false,
     "start_time": "2023-03-29T08:43:40.334322",
     "status": "completed"
    },
    "tags": []
   },
   "source": [
    "#### *CHECK#4*\n",
    "Also, we should examine whether the duration is from 03.12.2016 to 05.12.2016, as mentioned in the data source."
   ]
  },
  {
   "cell_type": "code",
   "execution_count": 9,
   "id": "7f0773d3",
   "metadata": {
    "execution": {
     "iopub.execute_input": "2023-03-29T08:43:40.393975Z",
     "iopub.status.busy": "2023-03-29T08:43:40.392236Z",
     "iopub.status.idle": "2023-03-29T08:43:40.460444Z",
     "shell.execute_reply": "2023-03-29T08:43:40.457996Z"
    },
    "papermill": {
     "duration": 0.092403,
     "end_time": "2023-03-29T08:43:40.463414",
     "exception": false,
     "start_time": "2023-03-29T08:43:40.371011",
     "status": "completed"
    },
    "tags": []
   },
   "outputs": [
    {
     "data": {
      "text/html": [
       "<table class=\"dataframe\">\n",
       "<caption>A data.frame: 31 × 1</caption>\n",
       "<thead>\n",
       "\t<tr><th scope=col>ActivityDate</th></tr>\n",
       "\t<tr><th scope=col>&lt;chr&gt;</th></tr>\n",
       "</thead>\n",
       "<tbody>\n",
       "\t<tr><td>4/12/2016</td></tr>\n",
       "\t<tr><td>4/13/2016</td></tr>\n",
       "\t<tr><td>4/14/2016</td></tr>\n",
       "\t<tr><td>4/15/2016</td></tr>\n",
       "\t<tr><td>4/16/2016</td></tr>\n",
       "\t<tr><td>4/17/2016</td></tr>\n",
       "\t<tr><td>4/18/2016</td></tr>\n",
       "\t<tr><td>4/19/2016</td></tr>\n",
       "\t<tr><td>4/20/2016</td></tr>\n",
       "\t<tr><td>4/21/2016</td></tr>\n",
       "\t<tr><td>4/22/2016</td></tr>\n",
       "\t<tr><td>4/23/2016</td></tr>\n",
       "\t<tr><td>4/24/2016</td></tr>\n",
       "\t<tr><td>4/25/2016</td></tr>\n",
       "\t<tr><td>4/26/2016</td></tr>\n",
       "\t<tr><td>4/27/2016</td></tr>\n",
       "\t<tr><td>4/28/2016</td></tr>\n",
       "\t<tr><td>4/29/2016</td></tr>\n",
       "\t<tr><td>4/30/2016</td></tr>\n",
       "\t<tr><td>5/1/2016 </td></tr>\n",
       "\t<tr><td>5/2/2016 </td></tr>\n",
       "\t<tr><td>5/3/2016 </td></tr>\n",
       "\t<tr><td>5/4/2016 </td></tr>\n",
       "\t<tr><td>5/5/2016 </td></tr>\n",
       "\t<tr><td>5/6/2016 </td></tr>\n",
       "\t<tr><td>5/7/2016 </td></tr>\n",
       "\t<tr><td>5/8/2016 </td></tr>\n",
       "\t<tr><td>5/9/2016 </td></tr>\n",
       "\t<tr><td>5/10/2016</td></tr>\n",
       "\t<tr><td>5/11/2016</td></tr>\n",
       "\t<tr><td>5/12/2016</td></tr>\n",
       "</tbody>\n",
       "</table>\n"
      ],
      "text/latex": [
       "A data.frame: 31 × 1\n",
       "\\begin{tabular}{l}\n",
       " ActivityDate\\\\\n",
       " <chr>\\\\\n",
       "\\hline\n",
       "\t 4/12/2016\\\\\n",
       "\t 4/13/2016\\\\\n",
       "\t 4/14/2016\\\\\n",
       "\t 4/15/2016\\\\\n",
       "\t 4/16/2016\\\\\n",
       "\t 4/17/2016\\\\\n",
       "\t 4/18/2016\\\\\n",
       "\t 4/19/2016\\\\\n",
       "\t 4/20/2016\\\\\n",
       "\t 4/21/2016\\\\\n",
       "\t 4/22/2016\\\\\n",
       "\t 4/23/2016\\\\\n",
       "\t 4/24/2016\\\\\n",
       "\t 4/25/2016\\\\\n",
       "\t 4/26/2016\\\\\n",
       "\t 4/27/2016\\\\\n",
       "\t 4/28/2016\\\\\n",
       "\t 4/29/2016\\\\\n",
       "\t 4/30/2016\\\\\n",
       "\t 5/1/2016 \\\\\n",
       "\t 5/2/2016 \\\\\n",
       "\t 5/3/2016 \\\\\n",
       "\t 5/4/2016 \\\\\n",
       "\t 5/5/2016 \\\\\n",
       "\t 5/6/2016 \\\\\n",
       "\t 5/7/2016 \\\\\n",
       "\t 5/8/2016 \\\\\n",
       "\t 5/9/2016 \\\\\n",
       "\t 5/10/2016\\\\\n",
       "\t 5/11/2016\\\\\n",
       "\t 5/12/2016\\\\\n",
       "\\end{tabular}\n"
      ],
      "text/markdown": [
       "\n",
       "A data.frame: 31 × 1\n",
       "\n",
       "| ActivityDate &lt;chr&gt; |\n",
       "|---|\n",
       "| 4/12/2016 |\n",
       "| 4/13/2016 |\n",
       "| 4/14/2016 |\n",
       "| 4/15/2016 |\n",
       "| 4/16/2016 |\n",
       "| 4/17/2016 |\n",
       "| 4/18/2016 |\n",
       "| 4/19/2016 |\n",
       "| 4/20/2016 |\n",
       "| 4/21/2016 |\n",
       "| 4/22/2016 |\n",
       "| 4/23/2016 |\n",
       "| 4/24/2016 |\n",
       "| 4/25/2016 |\n",
       "| 4/26/2016 |\n",
       "| 4/27/2016 |\n",
       "| 4/28/2016 |\n",
       "| 4/29/2016 |\n",
       "| 4/30/2016 |\n",
       "| 5/1/2016  |\n",
       "| 5/2/2016  |\n",
       "| 5/3/2016  |\n",
       "| 5/4/2016  |\n",
       "| 5/5/2016  |\n",
       "| 5/6/2016  |\n",
       "| 5/7/2016  |\n",
       "| 5/8/2016  |\n",
       "| 5/9/2016  |\n",
       "| 5/10/2016 |\n",
       "| 5/11/2016 |\n",
       "| 5/12/2016 |\n",
       "\n"
      ],
      "text/plain": [
       "   ActivityDate\n",
       "1  4/12/2016   \n",
       "2  4/13/2016   \n",
       "3  4/14/2016   \n",
       "4  4/15/2016   \n",
       "5  4/16/2016   \n",
       "6  4/17/2016   \n",
       "7  4/18/2016   \n",
       "8  4/19/2016   \n",
       "9  4/20/2016   \n",
       "10 4/21/2016   \n",
       "11 4/22/2016   \n",
       "12 4/23/2016   \n",
       "13 4/24/2016   \n",
       "14 4/25/2016   \n",
       "15 4/26/2016   \n",
       "16 4/27/2016   \n",
       "17 4/28/2016   \n",
       "18 4/29/2016   \n",
       "19 4/30/2016   \n",
       "20 5/1/2016    \n",
       "21 5/2/2016    \n",
       "22 5/3/2016    \n",
       "23 5/4/2016    \n",
       "24 5/5/2016    \n",
       "25 5/6/2016    \n",
       "26 5/7/2016    \n",
       "27 5/8/2016    \n",
       "28 5/9/2016    \n",
       "29 5/10/2016   \n",
       "30 5/11/2016   \n",
       "31 5/12/2016   "
      ]
     },
     "metadata": {},
     "output_type": "display_data"
    }
   ],
   "source": [
    "daily_Activity %>%\n",
    "   select(ActivityDate) %>%\n",
    "   distinct()\n"
   ]
  },
  {
   "cell_type": "code",
   "execution_count": 10,
   "id": "9931cf55",
   "metadata": {
    "execution": {
     "iopub.execute_input": "2023-03-29T08:43:40.504582Z",
     "iopub.status.busy": "2023-03-29T08:43:40.502933Z",
     "iopub.status.idle": "2023-03-29T08:43:40.549235Z",
     "shell.execute_reply": "2023-03-29T08:43:40.547399Z"
    },
    "papermill": {
     "duration": 0.069825,
     "end_time": "2023-03-29T08:43:40.551918",
     "exception": false,
     "start_time": "2023-03-29T08:43:40.482093",
     "status": "completed"
    },
    "tags": []
   },
   "outputs": [
    {
     "data": {
      "text/html": [
       "<table class=\"dataframe\">\n",
       "<caption>A data.frame: 31 × 1</caption>\n",
       "<thead>\n",
       "\t<tr><th scope=col>SleepDay</th></tr>\n",
       "\t<tr><th scope=col>&lt;chr&gt;</th></tr>\n",
       "</thead>\n",
       "<tbody>\n",
       "\t<tr><td>4/12/2016 12:00:00 AM</td></tr>\n",
       "\t<tr><td>4/13/2016 12:00:00 AM</td></tr>\n",
       "\t<tr><td>4/14/2016 12:00:00 AM</td></tr>\n",
       "\t<tr><td>4/15/2016 12:00:00 AM</td></tr>\n",
       "\t<tr><td>4/16/2016 12:00:00 AM</td></tr>\n",
       "\t<tr><td>4/17/2016 12:00:00 AM</td></tr>\n",
       "\t<tr><td>4/18/2016 12:00:00 AM</td></tr>\n",
       "\t<tr><td>4/19/2016 12:00:00 AM</td></tr>\n",
       "\t<tr><td>4/20/2016 12:00:00 AM</td></tr>\n",
       "\t<tr><td>4/21/2016 12:00:00 AM</td></tr>\n",
       "\t<tr><td>4/22/2016 12:00:00 AM</td></tr>\n",
       "\t<tr><td>4/23/2016 12:00:00 AM</td></tr>\n",
       "\t<tr><td>4/24/2016 12:00:00 AM</td></tr>\n",
       "\t<tr><td>4/25/2016 12:00:00 AM</td></tr>\n",
       "\t<tr><td>4/26/2016 12:00:00 AM</td></tr>\n",
       "\t<tr><td>4/27/2016 12:00:00 AM</td></tr>\n",
       "\t<tr><td>4/28/2016 12:00:00 AM</td></tr>\n",
       "\t<tr><td>4/29/2016 12:00:00 AM</td></tr>\n",
       "\t<tr><td>4/30/2016 12:00:00 AM</td></tr>\n",
       "\t<tr><td>5/1/2016 12:00:00 AM </td></tr>\n",
       "\t<tr><td>5/2/2016 12:00:00 AM </td></tr>\n",
       "\t<tr><td>5/3/2016 12:00:00 AM </td></tr>\n",
       "\t<tr><td>5/4/2016 12:00:00 AM </td></tr>\n",
       "\t<tr><td>5/5/2016 12:00:00 AM </td></tr>\n",
       "\t<tr><td>5/6/2016 12:00:00 AM </td></tr>\n",
       "\t<tr><td>5/7/2016 12:00:00 AM </td></tr>\n",
       "\t<tr><td>5/8/2016 12:00:00 AM </td></tr>\n",
       "\t<tr><td>5/9/2016 12:00:00 AM </td></tr>\n",
       "\t<tr><td>5/10/2016 12:00:00 AM</td></tr>\n",
       "\t<tr><td>5/11/2016 12:00:00 AM</td></tr>\n",
       "\t<tr><td>5/12/2016 12:00:00 AM</td></tr>\n",
       "</tbody>\n",
       "</table>\n"
      ],
      "text/latex": [
       "A data.frame: 31 × 1\n",
       "\\begin{tabular}{l}\n",
       " SleepDay\\\\\n",
       " <chr>\\\\\n",
       "\\hline\n",
       "\t 4/12/2016 12:00:00 AM\\\\\n",
       "\t 4/13/2016 12:00:00 AM\\\\\n",
       "\t 4/14/2016 12:00:00 AM\\\\\n",
       "\t 4/15/2016 12:00:00 AM\\\\\n",
       "\t 4/16/2016 12:00:00 AM\\\\\n",
       "\t 4/17/2016 12:00:00 AM\\\\\n",
       "\t 4/18/2016 12:00:00 AM\\\\\n",
       "\t 4/19/2016 12:00:00 AM\\\\\n",
       "\t 4/20/2016 12:00:00 AM\\\\\n",
       "\t 4/21/2016 12:00:00 AM\\\\\n",
       "\t 4/22/2016 12:00:00 AM\\\\\n",
       "\t 4/23/2016 12:00:00 AM\\\\\n",
       "\t 4/24/2016 12:00:00 AM\\\\\n",
       "\t 4/25/2016 12:00:00 AM\\\\\n",
       "\t 4/26/2016 12:00:00 AM\\\\\n",
       "\t 4/27/2016 12:00:00 AM\\\\\n",
       "\t 4/28/2016 12:00:00 AM\\\\\n",
       "\t 4/29/2016 12:00:00 AM\\\\\n",
       "\t 4/30/2016 12:00:00 AM\\\\\n",
       "\t 5/1/2016 12:00:00 AM \\\\\n",
       "\t 5/2/2016 12:00:00 AM \\\\\n",
       "\t 5/3/2016 12:00:00 AM \\\\\n",
       "\t 5/4/2016 12:00:00 AM \\\\\n",
       "\t 5/5/2016 12:00:00 AM \\\\\n",
       "\t 5/6/2016 12:00:00 AM \\\\\n",
       "\t 5/7/2016 12:00:00 AM \\\\\n",
       "\t 5/8/2016 12:00:00 AM \\\\\n",
       "\t 5/9/2016 12:00:00 AM \\\\\n",
       "\t 5/10/2016 12:00:00 AM\\\\\n",
       "\t 5/11/2016 12:00:00 AM\\\\\n",
       "\t 5/12/2016 12:00:00 AM\\\\\n",
       "\\end{tabular}\n"
      ],
      "text/markdown": [
       "\n",
       "A data.frame: 31 × 1\n",
       "\n",
       "| SleepDay &lt;chr&gt; |\n",
       "|---|\n",
       "| 4/12/2016 12:00:00 AM |\n",
       "| 4/13/2016 12:00:00 AM |\n",
       "| 4/14/2016 12:00:00 AM |\n",
       "| 4/15/2016 12:00:00 AM |\n",
       "| 4/16/2016 12:00:00 AM |\n",
       "| 4/17/2016 12:00:00 AM |\n",
       "| 4/18/2016 12:00:00 AM |\n",
       "| 4/19/2016 12:00:00 AM |\n",
       "| 4/20/2016 12:00:00 AM |\n",
       "| 4/21/2016 12:00:00 AM |\n",
       "| 4/22/2016 12:00:00 AM |\n",
       "| 4/23/2016 12:00:00 AM |\n",
       "| 4/24/2016 12:00:00 AM |\n",
       "| 4/25/2016 12:00:00 AM |\n",
       "| 4/26/2016 12:00:00 AM |\n",
       "| 4/27/2016 12:00:00 AM |\n",
       "| 4/28/2016 12:00:00 AM |\n",
       "| 4/29/2016 12:00:00 AM |\n",
       "| 4/30/2016 12:00:00 AM |\n",
       "| 5/1/2016 12:00:00 AM  |\n",
       "| 5/2/2016 12:00:00 AM  |\n",
       "| 5/3/2016 12:00:00 AM  |\n",
       "| 5/4/2016 12:00:00 AM  |\n",
       "| 5/5/2016 12:00:00 AM  |\n",
       "| 5/6/2016 12:00:00 AM  |\n",
       "| 5/7/2016 12:00:00 AM  |\n",
       "| 5/8/2016 12:00:00 AM  |\n",
       "| 5/9/2016 12:00:00 AM  |\n",
       "| 5/10/2016 12:00:00 AM |\n",
       "| 5/11/2016 12:00:00 AM |\n",
       "| 5/12/2016 12:00:00 AM |\n",
       "\n"
      ],
      "text/plain": [
       "   SleepDay             \n",
       "1  4/12/2016 12:00:00 AM\n",
       "2  4/13/2016 12:00:00 AM\n",
       "3  4/14/2016 12:00:00 AM\n",
       "4  4/15/2016 12:00:00 AM\n",
       "5  4/16/2016 12:00:00 AM\n",
       "6  4/17/2016 12:00:00 AM\n",
       "7  4/18/2016 12:00:00 AM\n",
       "8  4/19/2016 12:00:00 AM\n",
       "9  4/20/2016 12:00:00 AM\n",
       "10 4/21/2016 12:00:00 AM\n",
       "11 4/22/2016 12:00:00 AM\n",
       "12 4/23/2016 12:00:00 AM\n",
       "13 4/24/2016 12:00:00 AM\n",
       "14 4/25/2016 12:00:00 AM\n",
       "15 4/26/2016 12:00:00 AM\n",
       "16 4/27/2016 12:00:00 AM\n",
       "17 4/28/2016 12:00:00 AM\n",
       "18 4/29/2016 12:00:00 AM\n",
       "19 4/30/2016 12:00:00 AM\n",
       "20 5/1/2016 12:00:00 AM \n",
       "21 5/2/2016 12:00:00 AM \n",
       "22 5/3/2016 12:00:00 AM \n",
       "23 5/4/2016 12:00:00 AM \n",
       "24 5/5/2016 12:00:00 AM \n",
       "25 5/6/2016 12:00:00 AM \n",
       "26 5/7/2016 12:00:00 AM \n",
       "27 5/8/2016 12:00:00 AM \n",
       "28 5/9/2016 12:00:00 AM \n",
       "29 5/10/2016 12:00:00 AM\n",
       "30 5/11/2016 12:00:00 AM\n",
       "31 5/12/2016 12:00:00 AM"
      ]
     },
     "metadata": {},
     "output_type": "display_data"
    }
   ],
   "source": [
    "daily_Sleep %>% \n",
    "   distinct(SleepDay) %>% \n",
    "   arrange(as.Date(SleepDay, \"%m/%d/%Y\"))"
   ]
  },
  {
   "cell_type": "markdown",
   "id": "0bf1e71f",
   "metadata": {
    "papermill": {
     "duration": 0.01897,
     "end_time": "2023-03-29T08:43:40.589952",
     "exception": false,
     "start_time": "2023-03-29T08:43:40.570982",
     "status": "completed"
    },
    "tags": []
   },
   "source": [
    "Looks like the dataset covers only 1 month period from 04.12.2016 to 05.12.2016."
   ]
  },
  {
   "cell_type": "markdown",
   "id": "6f8968b9",
   "metadata": {
    "papermill": {
     "duration": 0.065242,
     "end_time": "2023-03-29T08:43:40.675219",
     "exception": false,
     "start_time": "2023-03-29T08:43:40.609977",
     "status": "completed"
    },
    "tags": []
   },
   "source": [
    "<a id=\"subsection-three\"></a>\n",
    "### <font face=\"Comic sans MS\" color=#003300 >**2.2.3 Findings**</font>\n",
    "\n",
    "From the dataset preview(explore), we can identify some limitations based on ROCCC:\n",
    "\n",
    "* **Reliable**: According to NIH, 21% of people are using wearable fitness tracker in USA, so we will need at least 385 samples to reach 95% confidence level at a margin of error 5% (considering 332 million of population in USA), however the dataset only contains data from 33 users, this could result in biased and insignificant findings, so we would consider this dataset as not reliable.\n",
    "* **Original**: This dataset is not original as it was generated by a survey through Amazon Mechanical Turk\n",
    "* **Comprehensive**: Gender and age information is not available. However, since Bellabeat focuses on women's health products, ideally we should focus on women. Furthermore, we will omit weight data as there are only 8 users' data and less sample points, as compared to the other datasets.\n",
    "* **Current**: The data is from 2016 and only covers 1 month from 4/12/2016-5/12/2016 (not same as mentioned from Fitbit source). Life circumstances may have changed significantly since then.\n",
    "* **Cited**: The dataset is cited from FitBit Fitness Tracker Data\n",
    "* **Others**: Date & column name need to be formatted and duplicated and subsets need to be removed."
   ]
  },
  {
   "cell_type": "markdown",
   "id": "56b463ad",
   "metadata": {
    "papermill": {
     "duration": 0.019103,
     "end_time": "2023-03-29T08:43:40.713342",
     "exception": false,
     "start_time": "2023-03-29T08:43:40.694239",
     "status": "completed"
    },
    "tags": []
   },
   "source": [
    "<a id=\"section-four\"></a>\n",
    "# <font face=\"Comic sans MS\" color=#330000 >**PHASE#3   PROCESS**</font>\n",
    "In this phase, we will further process cleaning based on the findings in the prepare phase.\n",
    "\n"
   ]
  },
  {
   "cell_type": "markdown",
   "id": "278cee76",
   "metadata": {
    "papermill": {
     "duration": 0.01877,
     "end_time": "2023-03-29T08:43:40.751523",
     "exception": false,
     "start_time": "2023-03-29T08:43:40.732753",
     "status": "completed"
    },
    "tags": []
   },
   "source": [
    "<a id=\"subsection-four\"></a>\n",
    "### <font face=\"Comic sans MS\" color=#003300 >**3.1 Cleaning and formatting data**</font>"
   ]
  },
  {
   "cell_type": "code",
   "execution_count": 11,
   "id": "9c22cd4f",
   "metadata": {
    "execution": {
     "iopub.execute_input": "2023-03-29T08:43:40.793359Z",
     "iopub.status.busy": "2023-03-29T08:43:40.791658Z",
     "iopub.status.idle": "2023-03-29T08:43:40.816762Z",
     "shell.execute_reply": "2023-03-29T08:43:40.814891Z"
    },
    "papermill": {
     "duration": 0.04926,
     "end_time": "2023-03-29T08:43:40.819818",
     "exception": false,
     "start_time": "2023-03-29T08:43:40.770558",
     "status": "completed"
    },
    "tags": []
   },
   "outputs": [],
   "source": [
    "#remove subsets\n",
    "rm(daily_Calories)\n",
    "rm(daily_Intensities)\n",
    "rm(daily_Steps)\n",
    "rm(hourly_Calories)\n",
    "rm(hourly_Intensities)\n",
    "rm(hourly_Steps)\n"
   ]
  },
  {
   "cell_type": "code",
   "execution_count": 12,
   "id": "278078ef",
   "metadata": {
    "execution": {
     "iopub.execute_input": "2023-03-29T08:43:40.863020Z",
     "iopub.status.busy": "2023-03-29T08:43:40.861368Z",
     "iopub.status.idle": "2023-03-29T08:43:40.977119Z",
     "shell.execute_reply": "2023-03-29T08:43:40.974755Z"
    },
    "papermill": {
     "duration": 0.140668,
     "end_time": "2023-03-29T08:43:40.980238",
     "exception": false,
     "start_time": "2023-03-29T08:43:40.839570",
     "status": "completed"
    },
    "tags": []
   },
   "outputs": [
    {
     "data": {
      "text/html": [
       "0"
      ],
      "text/latex": [
       "0"
      ],
      "text/markdown": [
       "0"
      ],
      "text/plain": [
       "[1] 0"
      ]
     },
     "metadata": {},
     "output_type": "display_data"
    }
   ],
   "source": [
    "#remove duplicates in daily_Sleep dataset\n",
    "daily_Sleep <- daily_Sleep %>% \n",
    "   distinct()\n",
    "sum(duplicated(daily_Sleep))"
   ]
  },
  {
   "cell_type": "code",
   "execution_count": 13,
   "id": "a97a4c2c",
   "metadata": {
    "execution": {
     "iopub.execute_input": "2023-03-29T08:43:41.023259Z",
     "iopub.status.busy": "2023-03-29T08:43:41.021599Z",
     "iopub.status.idle": "2023-03-29T08:43:41.074379Z",
     "shell.execute_reply": "2023-03-29T08:43:41.072234Z"
    },
    "papermill": {
     "duration": 0.077548,
     "end_time": "2023-03-29T08:43:41.077713",
     "exception": false,
     "start_time": "2023-03-29T08:43:41.000165",
     "status": "completed"
    },
    "tags": []
   },
   "outputs": [
    {
     "data": {
      "text/html": [
       "<style>\n",
       ".list-inline {list-style: none; margin:0; padding: 0}\n",
       ".list-inline>li {display: inline-block}\n",
       ".list-inline>li:not(:last-child)::after {content: \"\\00b7\"; padding: 0 .5ex}\n",
       "</style>\n",
       "<ol class=list-inline><li>'id'</li><li>'activitydate'</li><li>'totalsteps'</li><li>'totaldistance'</li><li>'trackerdistance'</li><li>'loggedactivitiesdistance'</li><li>'veryactivedistance'</li><li>'moderatelyactivedistance'</li><li>'lightactivedistance'</li><li>'sedentaryactivedistance'</li><li>'veryactiveminutes'</li><li>'fairlyactiveminutes'</li><li>'lightlyactiveminutes'</li><li>'sedentaryminutes'</li><li>'calories'</li></ol>\n"
      ],
      "text/latex": [
       "\\begin{enumerate*}\n",
       "\\item 'id'\n",
       "\\item 'activitydate'\n",
       "\\item 'totalsteps'\n",
       "\\item 'totaldistance'\n",
       "\\item 'trackerdistance'\n",
       "\\item 'loggedactivitiesdistance'\n",
       "\\item 'veryactivedistance'\n",
       "\\item 'moderatelyactivedistance'\n",
       "\\item 'lightactivedistance'\n",
       "\\item 'sedentaryactivedistance'\n",
       "\\item 'veryactiveminutes'\n",
       "\\item 'fairlyactiveminutes'\n",
       "\\item 'lightlyactiveminutes'\n",
       "\\item 'sedentaryminutes'\n",
       "\\item 'calories'\n",
       "\\end{enumerate*}\n"
      ],
      "text/markdown": [
       "1. 'id'\n",
       "2. 'activitydate'\n",
       "3. 'totalsteps'\n",
       "4. 'totaldistance'\n",
       "5. 'trackerdistance'\n",
       "6. 'loggedactivitiesdistance'\n",
       "7. 'veryactivedistance'\n",
       "8. 'moderatelyactivedistance'\n",
       "9. 'lightactivedistance'\n",
       "10. 'sedentaryactivedistance'\n",
       "11. 'veryactiveminutes'\n",
       "12. 'fairlyactiveminutes'\n",
       "13. 'lightlyactiveminutes'\n",
       "14. 'sedentaryminutes'\n",
       "15. 'calories'\n",
       "\n",
       "\n"
      ],
      "text/plain": [
       " [1] \"id\"                       \"activitydate\"            \n",
       " [3] \"totalsteps\"               \"totaldistance\"           \n",
       " [5] \"trackerdistance\"          \"loggedactivitiesdistance\"\n",
       " [7] \"veryactivedistance\"       \"moderatelyactivedistance\"\n",
       " [9] \"lightactivedistance\"      \"sedentaryactivedistance\" \n",
       "[11] \"veryactiveminutes\"        \"fairlyactiveminutes\"     \n",
       "[13] \"lightlyactiveminutes\"     \"sedentaryminutes\"        \n",
       "[15] \"calories\"                "
      ]
     },
     "metadata": {},
     "output_type": "display_data"
    },
    {
     "data": {
      "text/html": [
       "<style>\n",
       ".list-inline {list-style: none; margin:0; padding: 0}\n",
       ".list-inline>li {display: inline-block}\n",
       ".list-inline>li:not(:last-child)::after {content: \"\\00b7\"; padding: 0 .5ex}\n",
       "</style>\n",
       "<ol class=list-inline><li>'id'</li><li>'sleepday'</li><li>'totalsleeprecords'</li><li>'totalminutesasleep'</li><li>'totaltimeinbed'</li></ol>\n"
      ],
      "text/latex": [
       "\\begin{enumerate*}\n",
       "\\item 'id'\n",
       "\\item 'sleepday'\n",
       "\\item 'totalsleeprecords'\n",
       "\\item 'totalminutesasleep'\n",
       "\\item 'totaltimeinbed'\n",
       "\\end{enumerate*}\n"
      ],
      "text/markdown": [
       "1. 'id'\n",
       "2. 'sleepday'\n",
       "3. 'totalsleeprecords'\n",
       "4. 'totalminutesasleep'\n",
       "5. 'totaltimeinbed'\n",
       "\n",
       "\n"
      ],
      "text/plain": [
       "[1] \"id\"                 \"sleepday\"           \"totalsleeprecords\" \n",
       "[4] \"totalminutesasleep\" \"totaltimeinbed\"    "
      ]
     },
     "metadata": {},
     "output_type": "display_data"
    },
    {
     "data": {
      "text/html": [
       "<style>\n",
       ".list-inline {list-style: none; margin:0; padding: 0}\n",
       ".list-inline>li {display: inline-block}\n",
       ".list-inline>li:not(:last-child)::after {content: \"\\00b7\"; padding: 0 .5ex}\n",
       "</style>\n",
       "<ol class=list-inline><li>'id'</li><li>'activityhour'</li><li>'calories'</li><li>'totalintensity'</li><li>'averageintensity'</li><li>'steptotal'</li></ol>\n"
      ],
      "text/latex": [
       "\\begin{enumerate*}\n",
       "\\item 'id'\n",
       "\\item 'activityhour'\n",
       "\\item 'calories'\n",
       "\\item 'totalintensity'\n",
       "\\item 'averageintensity'\n",
       "\\item 'steptotal'\n",
       "\\end{enumerate*}\n"
      ],
      "text/markdown": [
       "1. 'id'\n",
       "2. 'activityhour'\n",
       "3. 'calories'\n",
       "4. 'totalintensity'\n",
       "5. 'averageintensity'\n",
       "6. 'steptotal'\n",
       "\n",
       "\n"
      ],
      "text/plain": [
       "[1] \"id\"               \"activityhour\"     \"calories\"         \"totalintensity\"  \n",
       "[5] \"averageintensity\" \"steptotal\"       "
      ]
     },
     "metadata": {},
     "output_type": "display_data"
    },
    {
     "data": {
      "text/html": [
       "<style>\n",
       ".list-inline {list-style: none; margin:0; padding: 0}\n",
       ".list-inline>li {display: inline-block}\n",
       ".list-inline>li:not(:last-child)::after {content: \"\\00b7\"; padding: 0 .5ex}\n",
       "</style>\n",
       "<ol class=list-inline><li>'id'</li><li>'time'</li><li>'value'</li></ol>\n"
      ],
      "text/latex": [
       "\\begin{enumerate*}\n",
       "\\item 'id'\n",
       "\\item 'time'\n",
       "\\item 'value'\n",
       "\\end{enumerate*}\n"
      ],
      "text/markdown": [
       "1. 'id'\n",
       "2. 'time'\n",
       "3. 'value'\n",
       "\n",
       "\n"
      ],
      "text/plain": [
       "[1] \"id\"    \"time\"  \"value\""
      ]
     },
     "metadata": {},
     "output_type": "display_data"
    }
   ],
   "source": [
    "#format column names\n",
    "daily_Activity <- rename_with(daily_Activity, tolower)\n",
    "daily_Sleep <- rename_with(daily_Sleep, tolower)\n",
    "hourly_Activity <- rename_with(hourly_Activity,tolower)\n",
    "heartrate_Seconds <- rename_with(heartrate_Seconds,tolower)\n",
    "colnames(daily_Activity)\n",
    "colnames(daily_Sleep)\n",
    "colnames(hourly_Activity)\n",
    "colnames(heartrate_Seconds)"
   ]
  },
  {
   "cell_type": "code",
   "execution_count": 14,
   "id": "523df03c",
   "metadata": {
    "execution": {
     "iopub.execute_input": "2023-03-29T08:43:41.121850Z",
     "iopub.status.busy": "2023-03-29T08:43:41.120318Z",
     "iopub.status.idle": "2023-03-29T08:43:41.183332Z",
     "shell.execute_reply": "2023-03-29T08:43:41.181374Z"
    },
    "papermill": {
     "duration": 0.087823,
     "end_time": "2023-03-29T08:43:41.186083",
     "exception": false,
     "start_time": "2023-03-29T08:43:41.098260",
     "status": "completed"
    },
    "tags": []
   },
   "outputs": [
    {
     "name": "stdout",
     "output_type": "stream",
     "text": [
      "'data.frame':\t940 obs. of  15 variables:\n",
      " $ id                      : num  1.5e+09 1.5e+09 1.5e+09 1.5e+09 1.5e+09 ...\n",
      " $ date                    : Date, format: \"2016-04-12\" \"2016-04-13\" ...\n",
      " $ totalsteps              : int  13162 10735 10460 9762 12669 9705 13019 15506 10544 9819 ...\n",
      " $ totaldistance           : num  8.5 6.97 6.74 6.28 8.16 ...\n",
      " $ trackerdistance         : num  8.5 6.97 6.74 6.28 8.16 ...\n",
      " $ loggedactivitiesdistance: num  0 0 0 0 0 0 0 0 0 0 ...\n",
      " $ veryactivedistance      : num  1.88 1.57 2.44 2.14 2.71 ...\n",
      " $ moderatelyactivedistance: num  0.55 0.69 0.4 1.26 0.41 ...\n",
      " $ lightactivedistance     : num  6.06 4.71 3.91 2.83 5.04 ...\n",
      " $ sedentaryactivedistance : num  0 0 0 0 0 0 0 0 0 0 ...\n",
      " $ veryactiveminutes       : int  25 21 30 29 36 38 42 50 28 19 ...\n",
      " $ fairlyactiveminutes     : int  13 19 11 34 10 20 16 31 12 8 ...\n",
      " $ lightlyactiveminutes    : int  328 217 181 209 221 164 233 264 205 211 ...\n",
      " $ sedentaryminutes        : int  728 776 1218 726 773 539 1149 775 818 838 ...\n",
      " $ calories                : int  1985 1797 1776 1745 1863 1728 1921 2035 1786 1775 ...\n"
     ]
    },
    {
     "data": {
      "text/html": [
       "<table class=\"dataframe\">\n",
       "<caption>A data.frame: 6 × 15</caption>\n",
       "<thead>\n",
       "\t<tr><th></th><th scope=col>id</th><th scope=col>date</th><th scope=col>totalsteps</th><th scope=col>totaldistance</th><th scope=col>trackerdistance</th><th scope=col>loggedactivitiesdistance</th><th scope=col>veryactivedistance</th><th scope=col>moderatelyactivedistance</th><th scope=col>lightactivedistance</th><th scope=col>sedentaryactivedistance</th><th scope=col>veryactiveminutes</th><th scope=col>fairlyactiveminutes</th><th scope=col>lightlyactiveminutes</th><th scope=col>sedentaryminutes</th><th scope=col>calories</th></tr>\n",
       "\t<tr><th></th><th scope=col>&lt;dbl&gt;</th><th scope=col>&lt;date&gt;</th><th scope=col>&lt;int&gt;</th><th scope=col>&lt;dbl&gt;</th><th scope=col>&lt;dbl&gt;</th><th scope=col>&lt;dbl&gt;</th><th scope=col>&lt;dbl&gt;</th><th scope=col>&lt;dbl&gt;</th><th scope=col>&lt;dbl&gt;</th><th scope=col>&lt;dbl&gt;</th><th scope=col>&lt;int&gt;</th><th scope=col>&lt;int&gt;</th><th scope=col>&lt;int&gt;</th><th scope=col>&lt;int&gt;</th><th scope=col>&lt;int&gt;</th></tr>\n",
       "</thead>\n",
       "<tbody>\n",
       "\t<tr><th scope=row>1</th><td>1503960366</td><td>2016-04-12</td><td>13162</td><td>8.50</td><td>8.50</td><td>0</td><td>1.88</td><td>0.55</td><td>6.06</td><td>0</td><td>25</td><td>13</td><td>328</td><td> 728</td><td>1985</td></tr>\n",
       "\t<tr><th scope=row>2</th><td>1503960366</td><td>2016-04-13</td><td>10735</td><td>6.97</td><td>6.97</td><td>0</td><td>1.57</td><td>0.69</td><td>4.71</td><td>0</td><td>21</td><td>19</td><td>217</td><td> 776</td><td>1797</td></tr>\n",
       "\t<tr><th scope=row>3</th><td>1503960366</td><td>2016-04-14</td><td>10460</td><td>6.74</td><td>6.74</td><td>0</td><td>2.44</td><td>0.40</td><td>3.91</td><td>0</td><td>30</td><td>11</td><td>181</td><td>1218</td><td>1776</td></tr>\n",
       "\t<tr><th scope=row>4</th><td>1503960366</td><td>2016-04-15</td><td> 9762</td><td>6.28</td><td>6.28</td><td>0</td><td>2.14</td><td>1.26</td><td>2.83</td><td>0</td><td>29</td><td>34</td><td>209</td><td> 726</td><td>1745</td></tr>\n",
       "\t<tr><th scope=row>5</th><td>1503960366</td><td>2016-04-16</td><td>12669</td><td>8.16</td><td>8.16</td><td>0</td><td>2.71</td><td>0.41</td><td>5.04</td><td>0</td><td>36</td><td>10</td><td>221</td><td> 773</td><td>1863</td></tr>\n",
       "\t<tr><th scope=row>6</th><td>1503960366</td><td>2016-04-17</td><td> 9705</td><td>6.48</td><td>6.48</td><td>0</td><td>3.19</td><td>0.78</td><td>2.51</td><td>0</td><td>38</td><td>20</td><td>164</td><td> 539</td><td>1728</td></tr>\n",
       "</tbody>\n",
       "</table>\n"
      ],
      "text/latex": [
       "A data.frame: 6 × 15\n",
       "\\begin{tabular}{r|lllllllllllllll}\n",
       "  & id & date & totalsteps & totaldistance & trackerdistance & loggedactivitiesdistance & veryactivedistance & moderatelyactivedistance & lightactivedistance & sedentaryactivedistance & veryactiveminutes & fairlyactiveminutes & lightlyactiveminutes & sedentaryminutes & calories\\\\\n",
       "  & <dbl> & <date> & <int> & <dbl> & <dbl> & <dbl> & <dbl> & <dbl> & <dbl> & <dbl> & <int> & <int> & <int> & <int> & <int>\\\\\n",
       "\\hline\n",
       "\t1 & 1503960366 & 2016-04-12 & 13162 & 8.50 & 8.50 & 0 & 1.88 & 0.55 & 6.06 & 0 & 25 & 13 & 328 &  728 & 1985\\\\\n",
       "\t2 & 1503960366 & 2016-04-13 & 10735 & 6.97 & 6.97 & 0 & 1.57 & 0.69 & 4.71 & 0 & 21 & 19 & 217 &  776 & 1797\\\\\n",
       "\t3 & 1503960366 & 2016-04-14 & 10460 & 6.74 & 6.74 & 0 & 2.44 & 0.40 & 3.91 & 0 & 30 & 11 & 181 & 1218 & 1776\\\\\n",
       "\t4 & 1503960366 & 2016-04-15 &  9762 & 6.28 & 6.28 & 0 & 2.14 & 1.26 & 2.83 & 0 & 29 & 34 & 209 &  726 & 1745\\\\\n",
       "\t5 & 1503960366 & 2016-04-16 & 12669 & 8.16 & 8.16 & 0 & 2.71 & 0.41 & 5.04 & 0 & 36 & 10 & 221 &  773 & 1863\\\\\n",
       "\t6 & 1503960366 & 2016-04-17 &  9705 & 6.48 & 6.48 & 0 & 3.19 & 0.78 & 2.51 & 0 & 38 & 20 & 164 &  539 & 1728\\\\\n",
       "\\end{tabular}\n"
      ],
      "text/markdown": [
       "\n",
       "A data.frame: 6 × 15\n",
       "\n",
       "| <!--/--> | id &lt;dbl&gt; | date &lt;date&gt; | totalsteps &lt;int&gt; | totaldistance &lt;dbl&gt; | trackerdistance &lt;dbl&gt; | loggedactivitiesdistance &lt;dbl&gt; | veryactivedistance &lt;dbl&gt; | moderatelyactivedistance &lt;dbl&gt; | lightactivedistance &lt;dbl&gt; | sedentaryactivedistance &lt;dbl&gt; | veryactiveminutes &lt;int&gt; | fairlyactiveminutes &lt;int&gt; | lightlyactiveminutes &lt;int&gt; | sedentaryminutes &lt;int&gt; | calories &lt;int&gt; |\n",
       "|---|---|---|---|---|---|---|---|---|---|---|---|---|---|---|---|\n",
       "| 1 | 1503960366 | 2016-04-12 | 13162 | 8.50 | 8.50 | 0 | 1.88 | 0.55 | 6.06 | 0 | 25 | 13 | 328 |  728 | 1985 |\n",
       "| 2 | 1503960366 | 2016-04-13 | 10735 | 6.97 | 6.97 | 0 | 1.57 | 0.69 | 4.71 | 0 | 21 | 19 | 217 |  776 | 1797 |\n",
       "| 3 | 1503960366 | 2016-04-14 | 10460 | 6.74 | 6.74 | 0 | 2.44 | 0.40 | 3.91 | 0 | 30 | 11 | 181 | 1218 | 1776 |\n",
       "| 4 | 1503960366 | 2016-04-15 |  9762 | 6.28 | 6.28 | 0 | 2.14 | 1.26 | 2.83 | 0 | 29 | 34 | 209 |  726 | 1745 |\n",
       "| 5 | 1503960366 | 2016-04-16 | 12669 | 8.16 | 8.16 | 0 | 2.71 | 0.41 | 5.04 | 0 | 36 | 10 | 221 |  773 | 1863 |\n",
       "| 6 | 1503960366 | 2016-04-17 |  9705 | 6.48 | 6.48 | 0 | 3.19 | 0.78 | 2.51 | 0 | 38 | 20 | 164 |  539 | 1728 |\n",
       "\n"
      ],
      "text/plain": [
       "  id         date       totalsteps totaldistance trackerdistance\n",
       "1 1503960366 2016-04-12 13162      8.50          8.50           \n",
       "2 1503960366 2016-04-13 10735      6.97          6.97           \n",
       "3 1503960366 2016-04-14 10460      6.74          6.74           \n",
       "4 1503960366 2016-04-15  9762      6.28          6.28           \n",
       "5 1503960366 2016-04-16 12669      8.16          8.16           \n",
       "6 1503960366 2016-04-17  9705      6.48          6.48           \n",
       "  loggedactivitiesdistance veryactivedistance moderatelyactivedistance\n",
       "1 0                        1.88               0.55                    \n",
       "2 0                        1.57               0.69                    \n",
       "3 0                        2.44               0.40                    \n",
       "4 0                        2.14               1.26                    \n",
       "5 0                        2.71               0.41                    \n",
       "6 0                        3.19               0.78                    \n",
       "  lightactivedistance sedentaryactivedistance veryactiveminutes\n",
       "1 6.06                0                       25               \n",
       "2 4.71                0                       21               \n",
       "3 3.91                0                       30               \n",
       "4 2.83                0                       29               \n",
       "5 5.04                0                       36               \n",
       "6 2.51                0                       38               \n",
       "  fairlyactiveminutes lightlyactiveminutes sedentaryminutes calories\n",
       "1 13                  328                   728             1985    \n",
       "2 19                  217                   776             1797    \n",
       "3 11                  181                  1218             1776    \n",
       "4 34                  209                   726             1745    \n",
       "5 10                  221                   773             1863    \n",
       "6 20                  164                   539             1728    "
      ]
     },
     "metadata": {},
     "output_type": "display_data"
    }
   ],
   "source": [
    "#format activitydate column in daily_Activity dataset\n",
    "daily_Activity <- daily_Activity %>% \n",
    "   rename(date=activitydate) %>%  \n",
    "   mutate(date=as.Date(date,\"%m/%d/%Y\")) #the original date format is mm/dd/yyyy\n",
    "str(daily_Activity)\n",
    "head(daily_Activity)"
   ]
  },
  {
   "cell_type": "code",
   "execution_count": 15,
   "id": "e14388f5",
   "metadata": {
    "execution": {
     "iopub.execute_input": "2023-03-29T08:43:41.231195Z",
     "iopub.status.busy": "2023-03-29T08:43:41.229517Z",
     "iopub.status.idle": "2023-03-29T08:43:41.336974Z",
     "shell.execute_reply": "2023-03-29T08:43:41.334190Z"
    },
    "papermill": {
     "duration": 0.133556,
     "end_time": "2023-03-29T08:43:41.340239",
     "exception": false,
     "start_time": "2023-03-29T08:43:41.206683",
     "status": "completed"
    },
    "tags": []
   },
   "outputs": [
    {
     "data": {
      "text/html": [
       "<table class=\"dataframe\">\n",
       "<caption>A data.frame: 6 × 8</caption>\n",
       "<thead>\n",
       "\t<tr><th></th><th scope=col>id</th><th scope=col>date</th><th scope=col>time</th><th scope=col>calories</th><th scope=col>totalintensity</th><th scope=col>averageintensity</th><th scope=col>steptotal</th><th scope=col>hour</th></tr>\n",
       "\t<tr><th></th><th scope=col>&lt;dbl&gt;</th><th scope=col>&lt;date&gt;</th><th scope=col>&lt;chr&gt;</th><th scope=col>&lt;int&gt;</th><th scope=col>&lt;int&gt;</th><th scope=col>&lt;dbl&gt;</th><th scope=col>&lt;int&gt;</th><th scope=col>&lt;chr&gt;</th></tr>\n",
       "</thead>\n",
       "<tbody>\n",
       "\t<tr><th scope=row>1</th><td>1503960366</td><td>2016-04-12</td><td>00:00:00</td><td>81</td><td>20</td><td>0.333333</td><td>373</td><td>00</td></tr>\n",
       "\t<tr><th scope=row>2</th><td>1503960366</td><td>2016-04-12</td><td>01:00:00</td><td>61</td><td> 8</td><td>0.133333</td><td>160</td><td>01</td></tr>\n",
       "\t<tr><th scope=row>3</th><td>1503960366</td><td>2016-04-12</td><td>02:00:00</td><td>59</td><td> 7</td><td>0.116667</td><td>151</td><td>02</td></tr>\n",
       "\t<tr><th scope=row>4</th><td>1503960366</td><td>2016-04-12</td><td>03:00:00</td><td>47</td><td> 0</td><td>0.000000</td><td>  0</td><td>03</td></tr>\n",
       "\t<tr><th scope=row>5</th><td>1503960366</td><td>2016-04-12</td><td>04:00:00</td><td>48</td><td> 0</td><td>0.000000</td><td>  0</td><td>04</td></tr>\n",
       "\t<tr><th scope=row>6</th><td>1503960366</td><td>2016-04-12</td><td>05:00:00</td><td>48</td><td> 0</td><td>0.000000</td><td>  0</td><td>05</td></tr>\n",
       "</tbody>\n",
       "</table>\n"
      ],
      "text/latex": [
       "A data.frame: 6 × 8\n",
       "\\begin{tabular}{r|llllllll}\n",
       "  & id & date & time & calories & totalintensity & averageintensity & steptotal & hour\\\\\n",
       "  & <dbl> & <date> & <chr> & <int> & <int> & <dbl> & <int> & <chr>\\\\\n",
       "\\hline\n",
       "\t1 & 1503960366 & 2016-04-12 & 00:00:00 & 81 & 20 & 0.333333 & 373 & 00\\\\\n",
       "\t2 & 1503960366 & 2016-04-12 & 01:00:00 & 61 &  8 & 0.133333 & 160 & 01\\\\\n",
       "\t3 & 1503960366 & 2016-04-12 & 02:00:00 & 59 &  7 & 0.116667 & 151 & 02\\\\\n",
       "\t4 & 1503960366 & 2016-04-12 & 03:00:00 & 47 &  0 & 0.000000 &   0 & 03\\\\\n",
       "\t5 & 1503960366 & 2016-04-12 & 04:00:00 & 48 &  0 & 0.000000 &   0 & 04\\\\\n",
       "\t6 & 1503960366 & 2016-04-12 & 05:00:00 & 48 &  0 & 0.000000 &   0 & 05\\\\\n",
       "\\end{tabular}\n"
      ],
      "text/markdown": [
       "\n",
       "A data.frame: 6 × 8\n",
       "\n",
       "| <!--/--> | id &lt;dbl&gt; | date &lt;date&gt; | time &lt;chr&gt; | calories &lt;int&gt; | totalintensity &lt;int&gt; | averageintensity &lt;dbl&gt; | steptotal &lt;int&gt; | hour &lt;chr&gt; |\n",
       "|---|---|---|---|---|---|---|---|---|\n",
       "| 1 | 1503960366 | 2016-04-12 | 00:00:00 | 81 | 20 | 0.333333 | 373 | 00 |\n",
       "| 2 | 1503960366 | 2016-04-12 | 01:00:00 | 61 |  8 | 0.133333 | 160 | 01 |\n",
       "| 3 | 1503960366 | 2016-04-12 | 02:00:00 | 59 |  7 | 0.116667 | 151 | 02 |\n",
       "| 4 | 1503960366 | 2016-04-12 | 03:00:00 | 47 |  0 | 0.000000 |   0 | 03 |\n",
       "| 5 | 1503960366 | 2016-04-12 | 04:00:00 | 48 |  0 | 0.000000 |   0 | 04 |\n",
       "| 6 | 1503960366 | 2016-04-12 | 05:00:00 | 48 |  0 | 0.000000 |   0 | 05 |\n",
       "\n"
      ],
      "text/plain": [
       "  id         date       time     calories totalintensity averageintensity\n",
       "1 1503960366 2016-04-12 00:00:00 81       20             0.333333        \n",
       "2 1503960366 2016-04-12 01:00:00 61        8             0.133333        \n",
       "3 1503960366 2016-04-12 02:00:00 59        7             0.116667        \n",
       "4 1503960366 2016-04-12 03:00:00 47        0             0.000000        \n",
       "5 1503960366 2016-04-12 04:00:00 48        0             0.000000        \n",
       "6 1503960366 2016-04-12 05:00:00 48        0             0.000000        \n",
       "  steptotal hour\n",
       "1 373       00  \n",
       "2 160       01  \n",
       "3 151       02  \n",
       "4   0       03  \n",
       "5   0       04  \n",
       "6   0       05  "
      ]
     },
     "metadata": {},
     "output_type": "display_data"
    },
    {
     "name": "stdout",
     "output_type": "stream",
     "text": [
      "'data.frame':\t22099 obs. of  8 variables:\n",
      " $ id              : num  1.5e+09 1.5e+09 1.5e+09 1.5e+09 1.5e+09 ...\n",
      " $ date            : Date, format: \"2016-04-12\" \"2016-04-12\" ...\n",
      " $ time            : chr  \"00:00:00\" \"01:00:00\" \"02:00:00\" \"03:00:00\" ...\n",
      " $ calories        : int  81 61 59 47 48 48 48 47 68 141 ...\n",
      " $ totalintensity  : int  20 8 7 0 0 0 0 0 13 30 ...\n",
      " $ averageintensity: num  0.333 0.133 0.117 0 0 ...\n",
      " $ steptotal       : int  373 160 151 0 0 0 0 0 250 1864 ...\n",
      " $ hour            : chr  \"00\" \"01\" \"02\" \"03\" ...\n"
     ]
    }
   ],
   "source": [
    "#format activityhour column in hourly_Activity dataset\n",
    "hourly_Activity <- extract(hourly_Activity, activityhour, into = c(\"date\", \"time\"), \"^(\\\\S+)\\\\s+(.*)\") #converting activity_hour into 2 seperate columns \n",
    "hourly_Activity$date <- mdy(hourly_Activity$date) #coverting class of date from 'chr' to 'date' \n",
    "hourly_Activity$time <- strptime(hourly_Activity$time, \"%I:%M:%S %p\") #converting the type of 'time' from 12hr to 24hr format \n",
    "hourly_Activity$time <- format(hourly_Activity$time, \"%H:%M:%S\") \n",
    "hourly_Activity$hour <- substr(hourly_Activity$time,start=1,stop=2) #making a new column for hour of the day\n",
    "head(hourly_Activity)\n",
    "str(hourly_Activity)"
   ]
  },
  {
   "cell_type": "code",
   "execution_count": 16,
   "id": "9f4200a8",
   "metadata": {
    "execution": {
     "iopub.execute_input": "2023-03-29T08:43:41.384724Z",
     "iopub.status.busy": "2023-03-29T08:43:41.383124Z",
     "iopub.status.idle": "2023-03-29T08:43:41.430803Z",
     "shell.execute_reply": "2023-03-29T08:43:41.428205Z"
    },
    "papermill": {
     "duration": 0.073208,
     "end_time": "2023-03-29T08:43:41.433875",
     "exception": false,
     "start_time": "2023-03-29T08:43:41.360667",
     "status": "completed"
    },
    "tags": []
   },
   "outputs": [
    {
     "data": {
      "text/html": [
       "<table class=\"dataframe\">\n",
       "<caption>A data.frame: 6 × 5</caption>\n",
       "<thead>\n",
       "\t<tr><th></th><th scope=col>id</th><th scope=col>date</th><th scope=col>totalsleeprecords</th><th scope=col>totalminutesasleep</th><th scope=col>totaltimeinbed</th></tr>\n",
       "\t<tr><th></th><th scope=col>&lt;dbl&gt;</th><th scope=col>&lt;date&gt;</th><th scope=col>&lt;int&gt;</th><th scope=col>&lt;int&gt;</th><th scope=col>&lt;int&gt;</th></tr>\n",
       "</thead>\n",
       "<tbody>\n",
       "\t<tr><th scope=row>1</th><td>1503960366</td><td>2016-04-12</td><td>1</td><td>327</td><td>346</td></tr>\n",
       "\t<tr><th scope=row>2</th><td>1503960366</td><td>2016-04-13</td><td>2</td><td>384</td><td>407</td></tr>\n",
       "\t<tr><th scope=row>3</th><td>1503960366</td><td>2016-04-15</td><td>1</td><td>412</td><td>442</td></tr>\n",
       "\t<tr><th scope=row>4</th><td>1503960366</td><td>2016-04-16</td><td>2</td><td>340</td><td>367</td></tr>\n",
       "\t<tr><th scope=row>5</th><td>1503960366</td><td>2016-04-17</td><td>1</td><td>700</td><td>712</td></tr>\n",
       "\t<tr><th scope=row>6</th><td>1503960366</td><td>2016-04-19</td><td>1</td><td>304</td><td>320</td></tr>\n",
       "</tbody>\n",
       "</table>\n"
      ],
      "text/latex": [
       "A data.frame: 6 × 5\n",
       "\\begin{tabular}{r|lllll}\n",
       "  & id & date & totalsleeprecords & totalminutesasleep & totaltimeinbed\\\\\n",
       "  & <dbl> & <date> & <int> & <int> & <int>\\\\\n",
       "\\hline\n",
       "\t1 & 1503960366 & 2016-04-12 & 1 & 327 & 346\\\\\n",
       "\t2 & 1503960366 & 2016-04-13 & 2 & 384 & 407\\\\\n",
       "\t3 & 1503960366 & 2016-04-15 & 1 & 412 & 442\\\\\n",
       "\t4 & 1503960366 & 2016-04-16 & 2 & 340 & 367\\\\\n",
       "\t5 & 1503960366 & 2016-04-17 & 1 & 700 & 712\\\\\n",
       "\t6 & 1503960366 & 2016-04-19 & 1 & 304 & 320\\\\\n",
       "\\end{tabular}\n"
      ],
      "text/markdown": [
       "\n",
       "A data.frame: 6 × 5\n",
       "\n",
       "| <!--/--> | id &lt;dbl&gt; | date &lt;date&gt; | totalsleeprecords &lt;int&gt; | totalminutesasleep &lt;int&gt; | totaltimeinbed &lt;int&gt; |\n",
       "|---|---|---|---|---|---|\n",
       "| 1 | 1503960366 | 2016-04-12 | 1 | 327 | 346 |\n",
       "| 2 | 1503960366 | 2016-04-13 | 2 | 384 | 407 |\n",
       "| 3 | 1503960366 | 2016-04-15 | 1 | 412 | 442 |\n",
       "| 4 | 1503960366 | 2016-04-16 | 2 | 340 | 367 |\n",
       "| 5 | 1503960366 | 2016-04-17 | 1 | 700 | 712 |\n",
       "| 6 | 1503960366 | 2016-04-19 | 1 | 304 | 320 |\n",
       "\n"
      ],
      "text/plain": [
       "  id         date       totalsleeprecords totalminutesasleep totaltimeinbed\n",
       "1 1503960366 2016-04-12 1                 327                346           \n",
       "2 1503960366 2016-04-13 2                 384                407           \n",
       "3 1503960366 2016-04-15 1                 412                442           \n",
       "4 1503960366 2016-04-16 2                 340                367           \n",
       "5 1503960366 2016-04-17 1                 700                712           \n",
       "6 1503960366 2016-04-19 1                 304                320           "
      ]
     },
     "metadata": {},
     "output_type": "display_data"
    },
    {
     "name": "stdout",
     "output_type": "stream",
     "text": [
      "'data.frame':\t410 obs. of  5 variables:\n",
      " $ id                : num  1.5e+09 1.5e+09 1.5e+09 1.5e+09 1.5e+09 ...\n",
      " $ date              : Date, format: \"2016-04-12\" \"2016-04-13\" ...\n",
      " $ totalsleeprecords : int  1 2 1 2 1 1 1 1 1 1 ...\n",
      " $ totalminutesasleep: int  327 384 412 340 700 304 360 325 361 430 ...\n",
      " $ totaltimeinbed    : int  346 407 442 367 712 320 377 364 384 449 ...\n"
     ]
    }
   ],
   "source": [
    "#format sleepday column in dailysleep dataset\n",
    "daily_Sleep <- daily_Sleep %>%\n",
    "   rename(date = sleepday) %>%\n",
    "   mutate(date = as.Date(date, format=\"%m/%d/%Y %I:%M:%S %p\")) \n",
    "#the original format is mm/dd/yyyy hr:mins:secs AM/PM format, MUST put capital Y instead of y\n",
    "head(daily_Sleep)\n",
    "str(daily_Sleep)"
   ]
  },
  {
   "cell_type": "code",
   "execution_count": 17,
   "id": "834dcdc7",
   "metadata": {
    "execution": {
     "iopub.execute_input": "2023-03-29T08:43:41.479243Z",
     "iopub.status.busy": "2023-03-29T08:43:41.477622Z",
     "iopub.status.idle": "2023-03-29T08:43:49.388667Z",
     "shell.execute_reply": "2023-03-29T08:43:49.386433Z"
    },
    "papermill": {
     "duration": 7.937047,
     "end_time": "2023-03-29T08:43:49.391663",
     "exception": false,
     "start_time": "2023-03-29T08:43:41.454616",
     "status": "completed"
    },
    "tags": []
   },
   "outputs": [
    {
     "data": {
      "text/html": [
       "<table class=\"dataframe\">\n",
       "<caption>A data.frame: 6 × 5</caption>\n",
       "<thead>\n",
       "\t<tr><th></th><th scope=col>id</th><th scope=col>date</th><th scope=col>time</th><th scope=col>value</th><th scope=col>hour</th></tr>\n",
       "\t<tr><th></th><th scope=col>&lt;dbl&gt;</th><th scope=col>&lt;date&gt;</th><th scope=col>&lt;chr&gt;</th><th scope=col>&lt;int&gt;</th><th scope=col>&lt;chr&gt;</th></tr>\n",
       "</thead>\n",
       "<tbody>\n",
       "\t<tr><th scope=row>1</th><td>2022484408</td><td>2016-04-12</td><td>07:21:00</td><td> 97</td><td>07</td></tr>\n",
       "\t<tr><th scope=row>2</th><td>2022484408</td><td>2016-04-12</td><td>07:21:05</td><td>102</td><td>07</td></tr>\n",
       "\t<tr><th scope=row>3</th><td>2022484408</td><td>2016-04-12</td><td>07:21:10</td><td>105</td><td>07</td></tr>\n",
       "\t<tr><th scope=row>4</th><td>2022484408</td><td>2016-04-12</td><td>07:21:20</td><td>103</td><td>07</td></tr>\n",
       "\t<tr><th scope=row>5</th><td>2022484408</td><td>2016-04-12</td><td>07:21:25</td><td>101</td><td>07</td></tr>\n",
       "\t<tr><th scope=row>6</th><td>2022484408</td><td>2016-04-12</td><td>07:22:05</td><td> 95</td><td>07</td></tr>\n",
       "</tbody>\n",
       "</table>\n"
      ],
      "text/latex": [
       "A data.frame: 6 × 5\n",
       "\\begin{tabular}{r|lllll}\n",
       "  & id & date & time & value & hour\\\\\n",
       "  & <dbl> & <date> & <chr> & <int> & <chr>\\\\\n",
       "\\hline\n",
       "\t1 & 2022484408 & 2016-04-12 & 07:21:00 &  97 & 07\\\\\n",
       "\t2 & 2022484408 & 2016-04-12 & 07:21:05 & 102 & 07\\\\\n",
       "\t3 & 2022484408 & 2016-04-12 & 07:21:10 & 105 & 07\\\\\n",
       "\t4 & 2022484408 & 2016-04-12 & 07:21:20 & 103 & 07\\\\\n",
       "\t5 & 2022484408 & 2016-04-12 & 07:21:25 & 101 & 07\\\\\n",
       "\t6 & 2022484408 & 2016-04-12 & 07:22:05 &  95 & 07\\\\\n",
       "\\end{tabular}\n"
      ],
      "text/markdown": [
       "\n",
       "A data.frame: 6 × 5\n",
       "\n",
       "| <!--/--> | id &lt;dbl&gt; | date &lt;date&gt; | time &lt;chr&gt; | value &lt;int&gt; | hour &lt;chr&gt; |\n",
       "|---|---|---|---|---|---|\n",
       "| 1 | 2022484408 | 2016-04-12 | 07:21:00 |  97 | 07 |\n",
       "| 2 | 2022484408 | 2016-04-12 | 07:21:05 | 102 | 07 |\n",
       "| 3 | 2022484408 | 2016-04-12 | 07:21:10 | 105 | 07 |\n",
       "| 4 | 2022484408 | 2016-04-12 | 07:21:20 | 103 | 07 |\n",
       "| 5 | 2022484408 | 2016-04-12 | 07:21:25 | 101 | 07 |\n",
       "| 6 | 2022484408 | 2016-04-12 | 07:22:05 |  95 | 07 |\n",
       "\n"
      ],
      "text/plain": [
       "  id         date       time     value hour\n",
       "1 2022484408 2016-04-12 07:21:00  97   07  \n",
       "2 2022484408 2016-04-12 07:21:05 102   07  \n",
       "3 2022484408 2016-04-12 07:21:10 105   07  \n",
       "4 2022484408 2016-04-12 07:21:20 103   07  \n",
       "5 2022484408 2016-04-12 07:21:25 101   07  \n",
       "6 2022484408 2016-04-12 07:22:05  95   07  "
      ]
     },
     "metadata": {},
     "output_type": "display_data"
    },
    {
     "name": "stdout",
     "output_type": "stream",
     "text": [
      "'data.frame':\t2483658 obs. of  5 variables:\n",
      " $ id   : num  2.02e+09 2.02e+09 2.02e+09 2.02e+09 2.02e+09 ...\n",
      " $ date : Date, format: \"2016-04-12\" \"2016-04-12\" ...\n",
      " $ time : chr  \"07:21:00\" \"07:21:05\" \"07:21:10\" \"07:21:20\" ...\n",
      " $ value: int  97 102 105 103 101 95 91 93 94 93 ...\n",
      " $ hour : chr  \"07\" \"07\" \"07\" \"07\" ...\n"
     ]
    }
   ],
   "source": [
    "#format time column in heartrate_Seconds dataset\n",
    "heartrate_Seconds <- extract(heartrate_Seconds,time, into = c(\"date\", \"time\"), \"^(\\\\S+)\\\\s+(.*)\") #converting time into 2 seperate columns \n",
    "heartrate_Seconds$date <- mdy(heartrate_Seconds$date) #coverting class of date from 'chr' to 'date' \n",
    "heartrate_Seconds$time <- strptime(heartrate_Seconds$time, \"%I:%M:%S %p\") #converting the type of 'time' from 12hr to 24hr format \n",
    "heartrate_Seconds$time <- format(heartrate_Seconds$time, \"%H:%M:%S\") \n",
    "heartrate_Seconds$hour <- substr(heartrate_Seconds$time,start=1,stop=2)\n",
    "head(heartrate_Seconds)\n",
    "str(heartrate_Seconds)"
   ]
  },
  {
   "cell_type": "markdown",
   "id": "96cb2f2c",
   "metadata": {
    "papermill": {
     "duration": 0.021149,
     "end_time": "2023-03-29T08:43:49.434977",
     "exception": false,
     "start_time": "2023-03-29T08:43:49.413828",
     "status": "completed"
    },
    "tags": []
   },
   "source": [
    "<a id=\"subsection-five\"></a>\n",
    "### <font face=\"Comic sans MS\" color=#003300 >**3.2 Merging datasets**</font>\n",
    "Let’s merge daily_activity and daily_sleep by “id” and “date”"
   ]
  },
  {
   "cell_type": "code",
   "execution_count": 18,
   "id": "a3476312",
   "metadata": {
    "execution": {
     "iopub.execute_input": "2023-03-29T08:43:49.481286Z",
     "iopub.status.busy": "2023-03-29T08:43:49.479695Z",
     "iopub.status.idle": "2023-03-29T08:43:49.503263Z",
     "shell.execute_reply": "2023-03-29T08:43:49.501482Z"
    },
    "papermill": {
     "duration": 0.049703,
     "end_time": "2023-03-29T08:43:49.505790",
     "exception": false,
     "start_time": "2023-03-29T08:43:49.456087",
     "status": "completed"
    },
    "tags": []
   },
   "outputs": [
    {
     "data": {
      "text/html": [
       "<style>\n",
       ".list-inline {list-style: none; margin:0; padding: 0}\n",
       ".list-inline>li {display: inline-block}\n",
       ".list-inline>li:not(:last-child)::after {content: \"\\00b7\"; padding: 0 .5ex}\n",
       "</style>\n",
       "<ol class=list-inline><li>'id'</li><li>'date'</li><li>'totalsteps'</li><li>'totaldistance'</li><li>'trackerdistance'</li><li>'loggedactivitiesdistance'</li><li>'veryactivedistance'</li><li>'moderatelyactivedistance'</li><li>'lightactivedistance'</li><li>'sedentaryactivedistance'</li><li>'veryactiveminutes'</li><li>'fairlyactiveminutes'</li><li>'lightlyactiveminutes'</li><li>'sedentaryminutes'</li><li>'calories'</li><li>'totalsleeprecords'</li><li>'totalminutesasleep'</li><li>'totaltimeinbed'</li></ol>\n"
      ],
      "text/latex": [
       "\\begin{enumerate*}\n",
       "\\item 'id'\n",
       "\\item 'date'\n",
       "\\item 'totalsteps'\n",
       "\\item 'totaldistance'\n",
       "\\item 'trackerdistance'\n",
       "\\item 'loggedactivitiesdistance'\n",
       "\\item 'veryactivedistance'\n",
       "\\item 'moderatelyactivedistance'\n",
       "\\item 'lightactivedistance'\n",
       "\\item 'sedentaryactivedistance'\n",
       "\\item 'veryactiveminutes'\n",
       "\\item 'fairlyactiveminutes'\n",
       "\\item 'lightlyactiveminutes'\n",
       "\\item 'sedentaryminutes'\n",
       "\\item 'calories'\n",
       "\\item 'totalsleeprecords'\n",
       "\\item 'totalminutesasleep'\n",
       "\\item 'totaltimeinbed'\n",
       "\\end{enumerate*}\n"
      ],
      "text/markdown": [
       "1. 'id'\n",
       "2. 'date'\n",
       "3. 'totalsteps'\n",
       "4. 'totaldistance'\n",
       "5. 'trackerdistance'\n",
       "6. 'loggedactivitiesdistance'\n",
       "7. 'veryactivedistance'\n",
       "8. 'moderatelyactivedistance'\n",
       "9. 'lightactivedistance'\n",
       "10. 'sedentaryactivedistance'\n",
       "11. 'veryactiveminutes'\n",
       "12. 'fairlyactiveminutes'\n",
       "13. 'lightlyactiveminutes'\n",
       "14. 'sedentaryminutes'\n",
       "15. 'calories'\n",
       "16. 'totalsleeprecords'\n",
       "17. 'totalminutesasleep'\n",
       "18. 'totaltimeinbed'\n",
       "\n",
       "\n"
      ],
      "text/plain": [
       " [1] \"id\"                       \"date\"                    \n",
       " [3] \"totalsteps\"               \"totaldistance\"           \n",
       " [5] \"trackerdistance\"          \"loggedactivitiesdistance\"\n",
       " [7] \"veryactivedistance\"       \"moderatelyactivedistance\"\n",
       " [9] \"lightactivedistance\"      \"sedentaryactivedistance\" \n",
       "[11] \"veryactiveminutes\"        \"fairlyactiveminutes\"     \n",
       "[13] \"lightlyactiveminutes\"     \"sedentaryminutes\"        \n",
       "[15] \"calories\"                 \"totalsleeprecords\"       \n",
       "[17] \"totalminutesasleep\"       \"totaltimeinbed\"          "
      ]
     },
     "metadata": {},
     "output_type": "display_data"
    }
   ],
   "source": [
    "daily_Activity_Sleep <- daily_Activity %>% inner_join( daily_Sleep, \n",
    "        by=c('id'='id', 'date'='date'))\n",
    "\n",
    "colnames(daily_Activity_Sleep)"
   ]
  },
  {
   "cell_type": "markdown",
   "id": "7cee3d00",
   "metadata": {
    "papermill": {
     "duration": 0.021452,
     "end_time": "2023-03-29T08:43:49.548886",
     "exception": false,
     "start_time": "2023-03-29T08:43:49.527434",
     "status": "completed"
    },
    "tags": []
   },
   "source": [
    "<a id=\"section-five\"></a>\n",
    "# <font face=\"Comic sans MS\" color=#330000 >**PHASE#4   ANALYZE**</font>\n",
    "Since our business task is to “Identify trends in how consumers use smart devices to help develop marketing strategies for the Bellabeat app.” In order to improve Bellabeat app using experience and to increase user engagement, I will analyze the data in this phase by answering the following questions:\n",
    "* How frequently did Fitbit users use their devices?\n",
    "\n",
    "➡️ This information can be used by Bellabeat to encourage users to log in to their devices more frequently in order to maintain a healthier lifestyle\n",
    "* What was the average number of steps taken by Fitbit users, and what was the risk of all-cause mortality % among the fitbit user. \n",
    "\n",
    "➡️ This data can be used by Bellabeat to set goals and help users understand the benefits of walking more.\n",
    "* What did the sleep quality of Fitbit users look like, and is there a correlation between more sleep and being more active?\n",
    "\n",
    "➡️  Understanding sleep patterns can help Bellabeat users gain more energy for the day and improve their overall health."
   ]
  },
  {
   "cell_type": "markdown",
   "id": "c74d4616",
   "metadata": {
    "papermill": {
     "duration": 0.021178,
     "end_time": "2023-03-29T08:43:49.591247",
     "exception": false,
     "start_time": "2023-03-29T08:43:49.570069",
     "status": "completed"
    },
    "tags": []
   },
   "source": [
    "<a id=\"subsection-six\"></a>\n",
    "### <font face=\"Comic sans MS\" color=#003300 >**4.1 Question#1:**</font>\n",
    "\n",
    "How frequently did Fitbit users use their devices?\n",
    "\n",
    "In prepare phase, we discovered that the datasource include only one-month period . This discovery enabled us to classify users into three types:\n",
    "\n",
    "1. **Active_usage:** user who logged in between 21-31 days.\n",
    "1. **Moderate_usage:** user who logged in between 11-20 days.\n",
    "1. **Low_usage:** user who logged in between 1-10 days.\n",
    "\n",
    "Let’s create a new dataset grouping user’s id and addding a new column that reflects their respective type based on the classification we did above"
   ]
  },
  {
   "cell_type": "code",
   "execution_count": 19,
   "id": "d8bb9145",
   "metadata": {
    "execution": {
     "iopub.execute_input": "2023-03-29T08:43:49.637959Z",
     "iopub.status.busy": "2023-03-29T08:43:49.636374Z",
     "iopub.status.idle": "2023-03-29T08:43:49.726346Z",
     "shell.execute_reply": "2023-03-29T08:43:49.723975Z"
    },
    "papermill": {
     "duration": 0.116348,
     "end_time": "2023-03-29T08:43:49.729365",
     "exception": false,
     "start_time": "2023-03-29T08:43:49.613017",
     "status": "completed"
    },
    "tags": []
   },
   "outputs": [
    {
     "data": {
      "text/html": [
       "<table class=\"dataframe\">\n",
       "<caption>A tibble: 6 × 3</caption>\n",
       "<thead>\n",
       "\t<tr><th scope=col>id</th><th scope=col>day_used</th><th scope=col>usage</th></tr>\n",
       "\t<tr><th scope=col>&lt;dbl&gt;</th><th scope=col>&lt;int&gt;</th><th scope=col>&lt;chr&gt;</th></tr>\n",
       "</thead>\n",
       "<tbody>\n",
       "\t<tr><td>1503960366</td><td>25</td><td>active_usage</td></tr>\n",
       "\t<tr><td>1644430081</td><td> 4</td><td>low_usage   </td></tr>\n",
       "\t<tr><td>1844505072</td><td> 3</td><td>low_usage   </td></tr>\n",
       "\t<tr><td>1927972279</td><td> 5</td><td>low_usage   </td></tr>\n",
       "\t<tr><td>2026352035</td><td>28</td><td>active_usage</td></tr>\n",
       "\t<tr><td>2320127002</td><td> 1</td><td>low_usage   </td></tr>\n",
       "</tbody>\n",
       "</table>\n"
      ],
      "text/latex": [
       "A tibble: 6 × 3\n",
       "\\begin{tabular}{lll}\n",
       " id & day\\_used & usage\\\\\n",
       " <dbl> & <int> & <chr>\\\\\n",
       "\\hline\n",
       "\t 1503960366 & 25 & active\\_usage\\\\\n",
       "\t 1644430081 &  4 & low\\_usage   \\\\\n",
       "\t 1844505072 &  3 & low\\_usage   \\\\\n",
       "\t 1927972279 &  5 & low\\_usage   \\\\\n",
       "\t 2026352035 & 28 & active\\_usage\\\\\n",
       "\t 2320127002 &  1 & low\\_usage   \\\\\n",
       "\\end{tabular}\n"
      ],
      "text/markdown": [
       "\n",
       "A tibble: 6 × 3\n",
       "\n",
       "| id &lt;dbl&gt; | day_used &lt;int&gt; | usage &lt;chr&gt; |\n",
       "|---|---|---|\n",
       "| 1503960366 | 25 | active_usage |\n",
       "| 1644430081 |  4 | low_usage    |\n",
       "| 1844505072 |  3 | low_usage    |\n",
       "| 1927972279 |  5 | low_usage    |\n",
       "| 2026352035 | 28 | active_usage |\n",
       "| 2320127002 |  1 | low_usage    |\n",
       "\n"
      ],
      "text/plain": [
       "  id         day_used usage       \n",
       "1 1503960366 25       active_usage\n",
       "2 1644430081  4       low_usage   \n",
       "3 1844505072  3       low_usage   \n",
       "4 1927972279  5       low_usage   \n",
       "5 2026352035 28       active_usage\n",
       "6 2320127002  1       low_usage   "
      ]
     },
     "metadata": {},
     "output_type": "display_data"
    }
   ],
   "source": [
    "daily_Usage <- daily_Activity_Sleep %>%\n",
    "   group_by(id) %>%\n",
    "   summarize(day_used =sum(n())) %>%  #the n() function is used within summarize to count the number of rows in each group of id, if there are multiple rows, it will count all of them\n",
    "   mutate(usage =case_when(\n",
    "     day_used >=21 & day_used <=31 ~\"active_usage\",\n",
    "     day_used >=11 & day_used <=21 ~\"moderate_usage\",\n",
    "     day_used >=1 & day_used <=10 ~\"low_usage\",\n",
    "     TRUE ~ \"unknown_usage\"\n",
    "   ))\n",
    "head(daily_Usage)"
   ]
  },
  {
   "cell_type": "markdown",
   "id": "6a913d6d",
   "metadata": {
    "papermill": {
     "duration": 0.021527,
     "end_time": "2023-03-29T08:43:49.772397",
     "exception": false,
     "start_time": "2023-03-29T08:43:49.750870",
     "status": "completed"
    },
    "tags": []
   },
   "source": [
    "We have group of usage now, let’s check the percentage of each group"
   ]
  },
  {
   "cell_type": "code",
   "execution_count": 20,
   "id": "3b205d2a",
   "metadata": {
    "execution": {
     "iopub.execute_input": "2023-03-29T08:43:49.820138Z",
     "iopub.status.busy": "2023-03-29T08:43:49.818325Z",
     "iopub.status.idle": "2023-03-29T08:43:49.857604Z",
     "shell.execute_reply": "2023-03-29T08:43:49.855048Z"
    },
    "papermill": {
     "duration": 0.066012,
     "end_time": "2023-03-29T08:43:49.860490",
     "exception": false,
     "start_time": "2023-03-29T08:43:49.794478",
     "status": "completed"
    },
    "tags": []
   },
   "outputs": [
    {
     "data": {
      "text/html": [
       "<table class=\"dataframe\">\n",
       "<caption>A tibble: 3 × 3</caption>\n",
       "<thead>\n",
       "\t<tr><th scope=col>usage</th><th scope=col>count</th><th scope=col>ttl_percent</th></tr>\n",
       "\t<tr><th scope=col>&lt;chr&gt;</th><th scope=col>&lt;int&gt;</th><th scope=col>&lt;chr&gt;</th></tr>\n",
       "</thead>\n",
       "<tbody>\n",
       "\t<tr><td>active_usage  </td><td>12</td><td>50%</td></tr>\n",
       "\t<tr><td>low_usage     </td><td> 9</td><td>38%</td></tr>\n",
       "\t<tr><td>moderate_usage</td><td> 3</td><td>12%</td></tr>\n",
       "</tbody>\n",
       "</table>\n"
      ],
      "text/latex": [
       "A tibble: 3 × 3\n",
       "\\begin{tabular}{lll}\n",
       " usage & count & ttl\\_percent\\\\\n",
       " <chr> & <int> & <chr>\\\\\n",
       "\\hline\n",
       "\t active\\_usage   & 12 & 50\\%\\\\\n",
       "\t low\\_usage      &  9 & 38\\%\\\\\n",
       "\t moderate\\_usage &  3 & 12\\%\\\\\n",
       "\\end{tabular}\n"
      ],
      "text/markdown": [
       "\n",
       "A tibble: 3 × 3\n",
       "\n",
       "| usage &lt;chr&gt; | count &lt;int&gt; | ttl_percent &lt;chr&gt; |\n",
       "|---|---|---|\n",
       "| active_usage   | 12 | 50% |\n",
       "| low_usage      |  9 | 38% |\n",
       "| moderate_usage |  3 | 12% |\n",
       "\n"
      ],
      "text/plain": [
       "  usage          count ttl_percent\n",
       "1 active_usage   12    50%        \n",
       "2 low_usage       9    38%        \n",
       "3 moderate_usage  3    12%        "
      ]
     },
     "metadata": {},
     "output_type": "display_data"
    }
   ],
   "source": [
    "usage_Count <- daily_Usage %>% \n",
    "  group_by(usage) %>% \n",
    "  summarize(count=n()) %>% \n",
    "  mutate(ttl_percent = paste0(round(count/sum(count)*100),\"%\"))\n",
    "head(usage_Count)"
   ]
  },
  {
   "cell_type": "code",
   "execution_count": 21,
   "id": "e713deb1",
   "metadata": {
    "execution": {
     "iopub.execute_input": "2023-03-29T08:43:49.909322Z",
     "iopub.status.busy": "2023-03-29T08:43:49.907446Z",
     "iopub.status.idle": "2023-03-29T08:43:51.324617Z",
     "shell.execute_reply": "2023-03-29T08:43:51.322594Z"
    },
    "papermill": {
     "duration": 1.444207,
     "end_time": "2023-03-29T08:43:51.326949",
     "exception": false,
     "start_time": "2023-03-29T08:43:49.882742",
     "status": "completed"
    },
    "tags": []
   },
   "outputs": [
    {
     "name": "stderr",
     "output_type": "stream",
     "text": [
      "Warning message in geom_col(mapping = aes(x = \"\", y = ttl_percent, fill = usage), :\n",
      "“\u001b[1m\u001b[22mIgnoring unknown parameters: `stat`”\n",
      "\u001b[1m\u001b[22mSaving 12.5 x 6.67 in image\n"
     ]
    },
    {
     "data": {
      "image/png": "[encoded data removed]"
     },
     "metadata": {
      "image/png": {
       "height": 420,
       "width": 420
      }
     },
     "output_type": "display_data"
    }
   ],
   "source": [
    "#plotting an aesthetic bar chart for usage distribution \n",
    "#since ggplot2 doesn't have a seperate plot function for bar charts\n",
    "#we can plot bar chart using column chart\n",
    "ggplot(data = usage_Count) +\n",
    "  geom_col(mapping = aes(x=\"\",y=ttl_percent, fill=usage), stat = \"identity\") +\n",
    "  coord_polar(\"y\",start = 0)+\n",
    "  scale_fill_manual(values = c(\"lightblue\",\"lightgreen\",\"pink\"),\n",
    "                    labels= c(\"active_usage: 21-31ydas \",\"low_usage: 1-10days\",\"moderate_usage:11-21days\")) +\n",
    "  labs(title=\"Usage Distribution\", fill=\"Usage\",caption = \"Datasource: FitBit Fitness Tracker Data\") +\n",
    "  theme_void()\n",
    "ggsave(\"Usage Distribution.png\")"
   ]
  },
  {
   "cell_type": "markdown",
   "id": "950821b9",
   "metadata": {
    "papermill": {
     "duration": 0.022488,
     "end_time": "2023-03-29T08:43:51.372038",
     "exception": false,
     "start_time": "2023-03-29T08:43:51.349550",
     "status": "completed"
    },
    "tags": []
   },
   "source": [
    "<a id=\"subsection-seven\"></a>\n",
    "### <font face=\"Comic sans MS\" color=#003300 >**4.2 Question#2:**</font>\n",
    "\n",
    "What was the average number of steps taken by Fitbit users, and what was the risk of all-cause mortality % among the fitbit user. Additionally, is there a correlation between taking more steps and burning more calories?\n",
    "\n",
    "We will base our analysis on the CDC news article which was released on March of 2020.\n",
    "\n",
    "According to it, \"Compared with taking 4,000 steps per day, a number considered to be low for adults, taking 8,000 steps per day was associated with a 51% lower risk for all-cause mortality (or death from all causes). Taking 12,000 steps per day was associated with a 65% lower risk compared with taking 4,000 steps. In contrast, the authors saw no association between step intensity and risk of death after accounting for the total number of steps taken per day.”\n",
    "\n",
    "So we will divide our dataset id's into-\n",
    "\n",
    "* lowest_risk: people who take more than 12000 steps a day\n",
    "* moderate_to_low_risk: people who take 8000-12000 steps a day\n",
    "* moderate_risk: people who take 4000-8000 steps a day\n",
    "* high_risk: people who take less than 4000 steps a day."
   ]
  },
  {
   "cell_type": "code",
   "execution_count": 22,
   "id": "f17bca7b",
   "metadata": {
    "execution": {
     "iopub.execute_input": "2023-03-29T08:43:51.422076Z",
     "iopub.status.busy": "2023-03-29T08:43:51.420360Z",
     "iopub.status.idle": "2023-03-29T08:43:51.483896Z",
     "shell.execute_reply": "2023-03-29T08:43:51.481943Z"
    },
    "papermill": {
     "duration": 0.091546,
     "end_time": "2023-03-29T08:43:51.486381",
     "exception": false,
     "start_time": "2023-03-29T08:43:51.394835",
     "status": "completed"
    },
    "tags": []
   },
   "outputs": [
    {
     "data": {
      "text/html": [
       "<table class=\"dataframe\">\n",
       "<caption>A tibble: 6 × 3</caption>\n",
       "<thead>\n",
       "\t<tr><th scope=col>id</th><th scope=col>mean_steps</th><th scope=col>risk_count</th></tr>\n",
       "\t<tr><th scope=col>&lt;dbl&gt;</th><th scope=col>&lt;dbl&gt;</th><th scope=col>&lt;chr&gt;</th></tr>\n",
       "</thead>\n",
       "<tbody>\n",
       "\t<tr><td>1503960366</td><td>12405.680</td><td>lowest_risk  </td></tr>\n",
       "\t<tr><td>1644430081</td><td> 7967.750</td><td>moderate_risk</td></tr>\n",
       "\t<tr><td>1844505072</td><td> 3477.000</td><td>high_risk    </td></tr>\n",
       "\t<tr><td>1927972279</td><td> 1490.000</td><td>high_risk    </td></tr>\n",
       "\t<tr><td>2026352035</td><td> 5618.679</td><td>moderate_risk</td></tr>\n",
       "\t<tr><td>2320127002</td><td> 5079.000</td><td>moderate_risk</td></tr>\n",
       "</tbody>\n",
       "</table>\n"
      ],
      "text/latex": [
       "A tibble: 6 × 3\n",
       "\\begin{tabular}{lll}\n",
       " id & mean\\_steps & risk\\_count\\\\\n",
       " <dbl> & <dbl> & <chr>\\\\\n",
       "\\hline\n",
       "\t 1503960366 & 12405.680 & lowest\\_risk  \\\\\n",
       "\t 1644430081 &  7967.750 & moderate\\_risk\\\\\n",
       "\t 1844505072 &  3477.000 & high\\_risk    \\\\\n",
       "\t 1927972279 &  1490.000 & high\\_risk    \\\\\n",
       "\t 2026352035 &  5618.679 & moderate\\_risk\\\\\n",
       "\t 2320127002 &  5079.000 & moderate\\_risk\\\\\n",
       "\\end{tabular}\n"
      ],
      "text/markdown": [
       "\n",
       "A tibble: 6 × 3\n",
       "\n",
       "| id &lt;dbl&gt; | mean_steps &lt;dbl&gt; | risk_count &lt;chr&gt; |\n",
       "|---|---|---|\n",
       "| 1503960366 | 12405.680 | lowest_risk   |\n",
       "| 1644430081 |  7967.750 | moderate_risk |\n",
       "| 1844505072 |  3477.000 | high_risk     |\n",
       "| 1927972279 |  1490.000 | high_risk     |\n",
       "| 2026352035 |  5618.679 | moderate_risk |\n",
       "| 2320127002 |  5079.000 | moderate_risk |\n",
       "\n"
      ],
      "text/plain": [
       "  id         mean_steps risk_count   \n",
       "1 1503960366 12405.680  lowest_risk  \n",
       "2 1644430081  7967.750  moderate_risk\n",
       "3 1844505072  3477.000  high_risk    \n",
       "4 1927972279  1490.000  high_risk    \n",
       "5 2026352035  5618.679  moderate_risk\n",
       "6 2320127002  5079.000  moderate_risk"
      ]
     },
     "metadata": {},
     "output_type": "display_data"
    }
   ],
   "source": [
    "avg_Daily_Steps <- daily_Activity_Sleep %>% \n",
    "  group_by(id) %>% \n",
    "  summarize(mean_steps = mean(totalsteps)) %>% \n",
    "  mutate(risk_count = case_when(\n",
    "    mean_steps >=12000 ~\"lowest_risk\",\n",
    "    mean_steps <= 12000& mean_steps >= 8000 ~\"moderate_to_low_risk\",\n",
    "    mean_steps <= 8000& mean_steps >=4000 ~\"moderate_risk\",\n",
    "    mean_steps < 4000 ~\"high_risk\",\n",
    "    TRUE ~\"unknow_risk\"\n",
    "  ))\n",
    "head(avg_Daily_Steps)"
   ]
  },
  {
   "cell_type": "code",
   "execution_count": 23,
   "id": "b1fe2eed",
   "metadata": {
    "execution": {
     "iopub.execute_input": "2023-03-29T08:43:51.537207Z",
     "iopub.status.busy": "2023-03-29T08:43:51.535527Z",
     "iopub.status.idle": "2023-03-29T08:43:51.576732Z",
     "shell.execute_reply": "2023-03-29T08:43:51.574854Z"
    },
    "papermill": {
     "duration": 0.068641,
     "end_time": "2023-03-29T08:43:51.579267",
     "exception": false,
     "start_time": "2023-03-29T08:43:51.510626",
     "status": "completed"
    },
    "tags": []
   },
   "outputs": [
    {
     "data": {
      "text/html": [
       "<table class=\"dataframe\">\n",
       "<caption>A tibble: 4 × 3</caption>\n",
       "<thead>\n",
       "\t<tr><th scope=col>risk_count</th><th scope=col>count</th><th scope=col>ttl_risk_percent</th></tr>\n",
       "\t<tr><th scope=col>&lt;chr&gt;</th><th scope=col>&lt;int&gt;</th><th scope=col>&lt;chr&gt;</th></tr>\n",
       "</thead>\n",
       "<tbody>\n",
       "\t<tr><td>lowest_risk         </td><td> 2</td><td>8% </td></tr>\n",
       "\t<tr><td>high_risk           </td><td> 4</td><td>17%</td></tr>\n",
       "\t<tr><td>moderate_risk       </td><td> 7</td><td>29%</td></tr>\n",
       "\t<tr><td>moderate_to_low_risk</td><td>11</td><td>46%</td></tr>\n",
       "</tbody>\n",
       "</table>\n"
      ],
      "text/latex": [
       "A tibble: 4 × 3\n",
       "\\begin{tabular}{lll}\n",
       " risk\\_count & count & ttl\\_risk\\_percent\\\\\n",
       " <chr> & <int> & <chr>\\\\\n",
       "\\hline\n",
       "\t lowest\\_risk          &  2 & 8\\% \\\\\n",
       "\t high\\_risk            &  4 & 17\\%\\\\\n",
       "\t moderate\\_risk        &  7 & 29\\%\\\\\n",
       "\t moderate\\_to\\_low\\_risk & 11 & 46\\%\\\\\n",
       "\\end{tabular}\n"
      ],
      "text/markdown": [
       "\n",
       "A tibble: 4 × 3\n",
       "\n",
       "| risk_count &lt;chr&gt; | count &lt;int&gt; | ttl_risk_percent &lt;chr&gt; |\n",
       "|---|---|---|\n",
       "| lowest_risk          |  2 | 8%  |\n",
       "| high_risk            |  4 | 17% |\n",
       "| moderate_risk        |  7 | 29% |\n",
       "| moderate_to_low_risk | 11 | 46% |\n",
       "\n"
      ],
      "text/plain": [
       "  risk_count           count ttl_risk_percent\n",
       "1 lowest_risk           2    8%              \n",
       "2 high_risk             4    17%             \n",
       "3 moderate_risk         7    29%             \n",
       "4 moderate_to_low_risk 11    46%             "
      ]
     },
     "metadata": {},
     "output_type": "display_data"
    }
   ],
   "source": [
    "steps_Count <-avg_Daily_Steps %>% \n",
    "  group_by(risk_count) %>% \n",
    "  summarize(count=n()) %>% \n",
    "  mutate(ttl_risk_percent =paste0(round(count/sum(count)*100),\"%\")) %>% \n",
    "  arrange(count)\n",
    "head(steps_Count)"
   ]
  },
  {
   "cell_type": "code",
   "execution_count": 24,
   "id": "67c8f53b",
   "metadata": {
    "execution": {
     "iopub.execute_input": "2023-03-29T08:43:51.629136Z",
     "iopub.status.busy": "2023-03-29T08:43:51.627367Z",
     "iopub.status.idle": "2023-03-29T08:43:51.659729Z",
     "shell.execute_reply": "2023-03-29T08:43:51.657843Z"
    },
    "papermill": {
     "duration": 0.060021,
     "end_time": "2023-03-29T08:43:51.662435",
     "exception": false,
     "start_time": "2023-03-29T08:43:51.602414",
     "status": "completed"
    },
    "tags": []
   },
   "outputs": [
    {
     "data": {
      "text/html": [
       "<table class=\"dataframe\">\n",
       "<caption>A data.frame: 6 × 5</caption>\n",
       "<thead>\n",
       "\t<tr><th></th><th scope=col>risk_count</th><th scope=col>id</th><th scope=col>mean_steps</th><th scope=col>count</th><th scope=col>ttl_risk_percent</th></tr>\n",
       "\t<tr><th></th><th scope=col>&lt;chr&gt;</th><th scope=col>&lt;dbl&gt;</th><th scope=col>&lt;dbl&gt;</th><th scope=col>&lt;int&gt;</th><th scope=col>&lt;chr&gt;</th></tr>\n",
       "</thead>\n",
       "<tbody>\n",
       "\t<tr><th scope=row>1</th><td>high_risk  </td><td>1844505072</td><td> 3477.000</td><td>4</td><td>17%</td></tr>\n",
       "\t<tr><th scope=row>2</th><td>high_risk  </td><td>1927972279</td><td> 1490.000</td><td>4</td><td>17%</td></tr>\n",
       "\t<tr><th scope=row>3</th><td>high_risk  </td><td>8792009665</td><td> 3443.267</td><td>4</td><td>17%</td></tr>\n",
       "\t<tr><th scope=row>4</th><td>high_risk  </td><td>6775888955</td><td> 3499.000</td><td>4</td><td>17%</td></tr>\n",
       "\t<tr><th scope=row>5</th><td>lowest_risk</td><td>1503960366</td><td>12405.680</td><td>2</td><td>8% </td></tr>\n",
       "\t<tr><th scope=row>6</th><td>lowest_risk</td><td>8053475328</td><td>19078.667</td><td>2</td><td>8% </td></tr>\n",
       "</tbody>\n",
       "</table>\n"
      ],
      "text/latex": [
       "A data.frame: 6 × 5\n",
       "\\begin{tabular}{r|lllll}\n",
       "  & risk\\_count & id & mean\\_steps & count & ttl\\_risk\\_percent\\\\\n",
       "  & <chr> & <dbl> & <dbl> & <int> & <chr>\\\\\n",
       "\\hline\n",
       "\t1 & high\\_risk   & 1844505072 &  3477.000 & 4 & 17\\%\\\\\n",
       "\t2 & high\\_risk   & 1927972279 &  1490.000 & 4 & 17\\%\\\\\n",
       "\t3 & high\\_risk   & 8792009665 &  3443.267 & 4 & 17\\%\\\\\n",
       "\t4 & high\\_risk   & 6775888955 &  3499.000 & 4 & 17\\%\\\\\n",
       "\t5 & lowest\\_risk & 1503960366 & 12405.680 & 2 & 8\\% \\\\\n",
       "\t6 & lowest\\_risk & 8053475328 & 19078.667 & 2 & 8\\% \\\\\n",
       "\\end{tabular}\n"
      ],
      "text/markdown": [
       "\n",
       "A data.frame: 6 × 5\n",
       "\n",
       "| <!--/--> | risk_count &lt;chr&gt; | id &lt;dbl&gt; | mean_steps &lt;dbl&gt; | count &lt;int&gt; | ttl_risk_percent &lt;chr&gt; |\n",
       "|---|---|---|---|---|---|\n",
       "| 1 | high_risk   | 1844505072 |  3477.000 | 4 | 17% |\n",
       "| 2 | high_risk   | 1927972279 |  1490.000 | 4 | 17% |\n",
       "| 3 | high_risk   | 8792009665 |  3443.267 | 4 | 17% |\n",
       "| 4 | high_risk   | 6775888955 |  3499.000 | 4 | 17% |\n",
       "| 5 | lowest_risk | 1503960366 | 12405.680 | 2 | 8%  |\n",
       "| 6 | lowest_risk | 8053475328 | 19078.667 | 2 | 8%  |\n",
       "\n"
      ],
      "text/plain": [
       "  risk_count  id         mean_steps count ttl_risk_percent\n",
       "1 high_risk   1844505072  3477.000  4     17%             \n",
       "2 high_risk   1927972279  1490.000  4     17%             \n",
       "3 high_risk   8792009665  3443.267  4     17%             \n",
       "4 high_risk   6775888955  3499.000  4     17%             \n",
       "5 lowest_risk 1503960366 12405.680  2     8%              \n",
       "6 lowest_risk 8053475328 19078.667  2     8%              "
      ]
     },
     "metadata": {},
     "output_type": "display_data"
    }
   ],
   "source": [
    "avg_Daily_Steps_Count <- merge(avg_Daily_Steps,steps_Count, by=c(\"risk_count\"))\n",
    "head(avg_Daily_Steps_Count)\n"
   ]
  },
  {
   "cell_type": "code",
   "execution_count": 25,
   "id": "d48e53ea",
   "metadata": {
    "execution": {
     "iopub.execute_input": "2023-03-29T08:43:51.713345Z",
     "iopub.status.busy": "2023-03-29T08:43:51.711663Z",
     "iopub.status.idle": "2023-03-29T08:43:52.971166Z",
     "shell.execute_reply": "2023-03-29T08:43:52.967761Z"
    },
    "papermill": {
     "duration": 1.289036,
     "end_time": "2023-03-29T08:43:52.975002",
     "exception": false,
     "start_time": "2023-03-29T08:43:51.685966",
     "status": "completed"
    },
    "tags": []
   },
   "outputs": [
    {
     "name": "stderr",
     "output_type": "stream",
     "text": [
      "\u001b[1m\u001b[22mSaving 12.5 x 6.67 in image\n"
     ]
    },
    {
     "data": {
      "image/png": "[encoded data removed]"
     },
     "metadata": {
      "image/png": {
       "height": 420,
       "width": 420
      }
     },
     "output_type": "display_data"
    }
   ],
   "source": [
    "#creating a bar chart\n",
    "ideal_steps <- c(4000,8000,12000)\n",
    "ggplot(data = avg_Daily_Steps_Count, aes(x = factor(id), y = mean_steps)) +\n",
    "  geom_bar(stat = \"identity\", fill = \"grey\") +\n",
    "  geom_hline(yintercept = ideal_steps, color = \"navy\",linetype =\"dashed\") +\n",
    "  ggtitle(\"Walking more steps is associated with a lower risk of mortality\")+\n",
    "  theme(axis.title.x = element_text(color=\"#993333\", size=14, face=\"bold\"),\n",
    "  axis.title.y = element_text(color=\"#993333\", size=14, face=\"bold\"),plot.title = element_text(color=\"black\", size=14, face=\"bold.italic\"),axis.text.x = element_text(angle = 45, vjust = 1, hjust = 1, size = 8)) +\n",
    "  labs(x = \"User ID\", y = \"Average Steps\", caption = \"Datasource: FitBit Fitness Tracker Data\")+\n",
    "  annotate(\"text\", x = 5, y = 2000, label = \"steps<4000\", color = \"red\", size = 4, fontface=\"bold\") +\n",
    "  annotate(\"text\", x = 5, y = 6000, label = \"4000<steps<8000\", color = \"black\", size = 4, fontface=\"bold\") +\n",
    "  annotate(\"text\", x = 5, y = 10000, label = \"8000<steps<12000\", color = \"black\", size = 4, fontface=\"bold\") +\n",
    "  annotate(\"text\", x = 5, y = 14000, label = \"steps>12000\", color = \"darkgreen\", size = 4, fontface=\"bold\")+\n",
    "  annotate(\"text\", x = 13, y = 2000, label = \"high_risk\", color = \"red\", size = 4, fontface=\"bold\") +\n",
    "  annotate(\"text\", x = 13, y = 6000, label = \"moderate_risk\", color = \"black\", size = 4, fontface=\"bold\") +\n",
    "  annotate(\"text\", x = 13, y = 10000, label = \"moderate_to_low_risk\", color = \"black\", size = 4, fontface=\"bold\") +\n",
    "  annotate(\"text\", x = 13, y = 14000, label = \"lowest_risk\", color = \"darkgreen\", size = 4, fontface=\"bold\") +\n",
    "  annotate(\"text\", x = 20, y = 2000, label = \":(\",  size = 7, color = \"red\",fontface=\"bold\")+\n",
    "  annotate(\"text\", x = 20, y = 14000, label = \":)\",  size = 7,color = \"darkgreen\", fontface=\"bold\")+\n",
    "  geom_segment(aes(x=20, y=3500, xend=20, yend=12500), arrow = arrow(length=unit(.5, 'cm')),\n",
    "               color='black', lwd=1.3)\n",
    "ggsave(\"steps vs mortality.png\")"
   ]
  },
  {
   "cell_type": "markdown",
   "id": "b38eaf7e",
   "metadata": {
    "papermill": {
     "duration": 0.02523,
     "end_time": "2023-03-29T08:43:53.028814",
     "exception": false,
     "start_time": "2023-03-29T08:43:53.003584",
     "status": "completed"
    },
    "tags": []
   },
   "source": [
    "<a id=\"subsection-eight\"></a>\n",
    "### <font face=\"Comic sans MS\" color=#003300 >**4.3 Question#3:**</font>\n",
    "\n",
    "What did the sleep quality of Fitbit users look like, and is there a correlation between more sleep and being more active?\n",
    "\n",
    "As we don't have age data from the Fitbit health tracker, we can take 7 hours as the minimum recommended sleep hour.\n"
   ]
  },
  {
   "cell_type": "code",
   "execution_count": 26,
   "id": "85581c5b",
   "metadata": {
    "execution": {
     "iopub.execute_input": "2023-03-29T08:43:53.082268Z",
     "iopub.status.busy": "2023-03-29T08:43:53.080751Z",
     "iopub.status.idle": "2023-03-29T08:43:53.124253Z",
     "shell.execute_reply": "2023-03-29T08:43:53.122191Z"
    },
    "papermill": {
     "duration": 0.073559,
     "end_time": "2023-03-29T08:43:53.127396",
     "exception": false,
     "start_time": "2023-03-29T08:43:53.053837",
     "status": "completed"
    },
    "tags": []
   },
   "outputs": [
    {
     "data": {
      "text/html": [
       "<table class=\"dataframe\">\n",
       "<caption>A tibble: 6 × 2</caption>\n",
       "<thead>\n",
       "\t<tr><th scope=col>id</th><th scope=col>mean_sleep</th></tr>\n",
       "\t<tr><th scope=col>&lt;dbl&gt;</th><th scope=col>&lt;dbl&gt;</th></tr>\n",
       "</thead>\n",
       "<tbody>\n",
       "\t<tr><td>1503960366</td><td> 6.00</td></tr>\n",
       "\t<tr><td>1644430081</td><td> 4.90</td></tr>\n",
       "\t<tr><td>1844505072</td><td>10.87</td></tr>\n",
       "\t<tr><td>1927972279</td><td> 6.95</td></tr>\n",
       "\t<tr><td>2026352035</td><td> 8.44</td></tr>\n",
       "\t<tr><td>2320127002</td><td> 1.02</td></tr>\n",
       "</tbody>\n",
       "</table>\n"
      ],
      "text/latex": [
       "A tibble: 6 × 2\n",
       "\\begin{tabular}{ll}\n",
       " id & mean\\_sleep\\\\\n",
       " <dbl> & <dbl>\\\\\n",
       "\\hline\n",
       "\t 1503960366 &  6.00\\\\\n",
       "\t 1644430081 &  4.90\\\\\n",
       "\t 1844505072 & 10.87\\\\\n",
       "\t 1927972279 &  6.95\\\\\n",
       "\t 2026352035 &  8.44\\\\\n",
       "\t 2320127002 &  1.02\\\\\n",
       "\\end{tabular}\n"
      ],
      "text/markdown": [
       "\n",
       "A tibble: 6 × 2\n",
       "\n",
       "| id &lt;dbl&gt; | mean_sleep &lt;dbl&gt; |\n",
       "|---|---|\n",
       "| 1503960366 |  6.00 |\n",
       "| 1644430081 |  4.90 |\n",
       "| 1844505072 | 10.87 |\n",
       "| 1927972279 |  6.95 |\n",
       "| 2026352035 |  8.44 |\n",
       "| 2320127002 |  1.02 |\n",
       "\n"
      ],
      "text/plain": [
       "  id         mean_sleep\n",
       "1 1503960366  6.00     \n",
       "2 1644430081  4.90     \n",
       "3 1844505072 10.87     \n",
       "4 1927972279  6.95     \n",
       "5 2026352035  8.44     \n",
       "6 2320127002  1.02     "
      ]
     },
     "metadata": {},
     "output_type": "display_data"
    },
    {
     "name": "stdout",
     "output_type": "stream",
     "text": [
      "tibble [24 × 2] (S3: tbl_df/tbl/data.frame)\n",
      " $ id        : num [1:24] 1.50e+09 1.64e+09 1.84e+09 1.93e+09 2.03e+09 ...\n",
      " $ mean_sleep: num [1:24] 6 4.9 10.87 6.95 8.44 ...\n"
     ]
    }
   ],
   "source": [
    "daily_Sleep_Avg <- daily_Activity_Sleep %>% \n",
    "  group_by(id) %>% \n",
    "  summarize(mean_sleep = round(mean(totalminutesasleep/60),2))\n",
    "\n",
    "head(daily_Sleep_Avg)\n",
    "str(daily_Sleep_Avg)"
   ]
  },
  {
   "cell_type": "code",
   "execution_count": 27,
   "id": "e2aa12f4",
   "metadata": {
    "execution": {
     "iopub.execute_input": "2023-03-29T08:43:53.182953Z",
     "iopub.status.busy": "2023-03-29T08:43:53.181313Z",
     "iopub.status.idle": "2023-03-29T08:43:54.078744Z",
     "shell.execute_reply": "2023-03-29T08:43:54.075945Z"
    },
    "papermill": {
     "duration": 0.928832,
     "end_time": "2023-03-29T08:43:54.081996",
     "exception": false,
     "start_time": "2023-03-29T08:43:53.153164",
     "status": "completed"
    },
    "tags": []
   },
   "outputs": [
    {
     "name": "stderr",
     "output_type": "stream",
     "text": [
      "\u001b[1m\u001b[22mSaving 12.5 x 6.67 in image\n"
     ]
    },
    {
     "data": {
      "image/png": "[encoded data removed]"
     },
     "metadata": {
      "image/png": {
       "height": 420,
       "width": 420
      }
     },
     "output_type": "display_data"
    }
   ],
   "source": [
    "#creating a bar chart\n",
    "ggplot(data=daily_Sleep_Avg, aes(x = factor(id), y = mean_sleep)) +\n",
    "  geom_bar(stat = \"identity\", fill = \"darkgray\") +\n",
    "  geom_hline(yintercept = 7, color = \"red\")+\n",
    "  theme(plot.title = element_text(color=\"black\", size=14, face=\"bold.italic\"),axis.title.x = element_text(color=\"#993333\", size=14, face=\"bold\"),\n",
    "  axis.title.y = element_text(color=\"#993333\", size=14, face=\"bold\"),axis.text.x = element_text(angle = 45,vjust = 1, hjust = 1, size = 8)) +\n",
    "  labs(x = \"User\", y = \"Average Sleep hours\", title=\"Average Sleep Hours vs Recommended Sleep Hours\", caption = \"Datasource: FitBit Fitness Tracker Data\") +\n",
    "  annotate(\"text\", x = 21, y= 8, label=\"Ideal Sleep - 7 hrs\", color=\"black\",fontface=\"bold\",size=5)\n",
    "ggsave(\"Avg sleep hour vs Rec. sleep hour.png\")"
   ]
  },
  {
   "cell_type": "markdown",
   "id": "450f6663",
   "metadata": {
    "papermill": {
     "duration": 0.025937,
     "end_time": "2023-03-29T08:43:54.134260",
     "exception": false,
     "start_time": "2023-03-29T08:43:54.108323",
     "status": "completed"
    },
    "tags": []
   },
   "source": [
    "As a result,we can see that half of the users did not cross the recommended 7 hours of sleep.\n",
    "\n",
    "How about the correlation between sleep time and steps?"
   ]
  },
  {
   "cell_type": "code",
   "execution_count": 28,
   "id": "7a5bdf50",
   "metadata": {
    "execution": {
     "iopub.execute_input": "2023-03-29T08:43:54.189265Z",
     "iopub.status.busy": "2023-03-29T08:43:54.187758Z",
     "iopub.status.idle": "2023-03-29T08:43:56.267132Z",
     "shell.execute_reply": "2023-03-29T08:43:56.265013Z"
    },
    "papermill": {
     "duration": 2.110857,
     "end_time": "2023-03-29T08:43:56.270894",
     "exception": false,
     "start_time": "2023-03-29T08:43:54.160037",
     "status": "completed"
    },
    "tags": []
   },
   "outputs": [
    {
     "name": "stderr",
     "output_type": "stream",
     "text": [
      "\u001b[1m\u001b[22m`geom_smooth()` using formula = 'y ~ x'\n",
      "\u001b[1m\u001b[22mSaving 12.5 x 6.67 in image\n",
      "\u001b[1m\u001b[22m`geom_smooth()` using formula = 'y ~ x'\n"
     ]
    },
    {
     "data": {
      "image/png": "[encoded data removed]"
     },
     "metadata": {
      "image/png": {
       "height": 420,
       "width": 420
      }
     },
     "output_type": "display_data"
    }
   ],
   "source": [
    "ggplot(daily_Activity_Sleep, aes(x = totalminutesasleep, y = totalsteps, color = totaldistance)) +\n",
    "  geom_jitter(alpha = 0.5) +\n",
    "  geom_smooth(method = loess,color=\"white\", linewidth=0.5) +\n",
    "  labs(x = \"Total Sleep\", y = \"Total Steps\",title = \"Correlation: Steps vs Sleep\",caption = \"Datasource: FitBit Fitness Tracker Data\")+\n",
    "  theme(plot.title = element_text(color=\"black\", size=14, face=\"bold.italic\"),axis.title.x = element_text(color=\"#993333\", size=14, face=\"bold\"),\n",
    "  axis.title.y = element_text(color=\"#993333\", size=14, face=\"bold\"))\n",
    "ggsave(\"Correlation: Steps vs Sleep.png\")"
   ]
  },
  {
   "cell_type": "markdown",
   "id": "19751fe4",
   "metadata": {
    "papermill": {
     "duration": 0.029247,
     "end_time": "2023-03-29T08:43:56.329572",
     "exception": false,
     "start_time": "2023-03-29T08:43:56.300325",
     "status": "completed"
    },
    "tags": []
   },
   "source": [
    "As we can see, there is no correlation between steps and sleep."
   ]
  },
  {
   "cell_type": "code",
   "execution_count": 29,
   "id": "feea01e6",
   "metadata": {
    "execution": {
     "iopub.execute_input": "2023-03-29T08:43:56.390267Z",
     "iopub.status.busy": "2023-03-29T08:43:56.388550Z",
     "iopub.status.idle": "2023-03-29T08:43:56.568064Z",
     "shell.execute_reply": "2023-03-29T08:43:56.566169Z"
    },
    "papermill": {
     "duration": 0.212293,
     "end_time": "2023-03-29T08:43:56.570411",
     "exception": false,
     "start_time": "2023-03-29T08:43:56.358118",
     "status": "completed"
    },
    "tags": []
   },
   "outputs": [
    {
     "name": "stderr",
     "output_type": "stream",
     "text": [
      "\u001b[1m\u001b[22m`summarise()` has grouped output by 'id', 'date'. You can override using the\n",
      "`.groups` argument.\n"
     ]
    },
    {
     "data": {
      "text/html": [
       "<table class=\"dataframe\">\n",
       "<caption>A grouped_df: 6 × 4</caption>\n",
       "<thead>\n",
       "\t<tr><th scope=col>id</th><th scope=col>date</th><th scope=col>hour</th><th scope=col>hourly_value</th></tr>\n",
       "\t<tr><th scope=col>&lt;dbl&gt;</th><th scope=col>&lt;date&gt;</th><th scope=col>&lt;chr&gt;</th><th scope=col>&lt;dbl&gt;</th></tr>\n",
       "</thead>\n",
       "<tbody>\n",
       "\t<tr><td>2022484408</td><td>2016-04-12</td><td>07</td><td> 83.20000</td></tr>\n",
       "\t<tr><td>2022484408</td><td>2016-04-12</td><td>08</td><td> 68.56201</td></tr>\n",
       "\t<tr><td>2022484408</td><td>2016-04-12</td><td>09</td><td> 66.40470</td></tr>\n",
       "\t<tr><td>2022484408</td><td>2016-04-12</td><td>10</td><td>106.71608</td></tr>\n",
       "\t<tr><td>2022484408</td><td>2016-04-12</td><td>11</td><td> 67.76716</td></tr>\n",
       "\t<tr><td>2022484408</td><td>2016-04-12</td><td>12</td><td> 66.23057</td></tr>\n",
       "</tbody>\n",
       "</table>\n"
      ],
      "text/latex": [
       "A grouped\\_df: 6 × 4\n",
       "\\begin{tabular}{llll}\n",
       " id & date & hour & hourly\\_value\\\\\n",
       " <dbl> & <date> & <chr> & <dbl>\\\\\n",
       "\\hline\n",
       "\t 2022484408 & 2016-04-12 & 07 &  83.20000\\\\\n",
       "\t 2022484408 & 2016-04-12 & 08 &  68.56201\\\\\n",
       "\t 2022484408 & 2016-04-12 & 09 &  66.40470\\\\\n",
       "\t 2022484408 & 2016-04-12 & 10 & 106.71608\\\\\n",
       "\t 2022484408 & 2016-04-12 & 11 &  67.76716\\\\\n",
       "\t 2022484408 & 2016-04-12 & 12 &  66.23057\\\\\n",
       "\\end{tabular}\n"
      ],
      "text/markdown": [
       "\n",
       "A grouped_df: 6 × 4\n",
       "\n",
       "| id &lt;dbl&gt; | date &lt;date&gt; | hour &lt;chr&gt; | hourly_value &lt;dbl&gt; |\n",
       "|---|---|---|---|\n",
       "| 2022484408 | 2016-04-12 | 07 |  83.20000 |\n",
       "| 2022484408 | 2016-04-12 | 08 |  68.56201 |\n",
       "| 2022484408 | 2016-04-12 | 09 |  66.40470 |\n",
       "| 2022484408 | 2016-04-12 | 10 | 106.71608 |\n",
       "| 2022484408 | 2016-04-12 | 11 |  67.76716 |\n",
       "| 2022484408 | 2016-04-12 | 12 |  66.23057 |\n",
       "\n"
      ],
      "text/plain": [
       "  id         date       hour hourly_value\n",
       "1 2022484408 2016-04-12 07    83.20000   \n",
       "2 2022484408 2016-04-12 08    68.56201   \n",
       "3 2022484408 2016-04-12 09    66.40470   \n",
       "4 2022484408 2016-04-12 10   106.71608   \n",
       "5 2022484408 2016-04-12 11    67.76716   \n",
       "6 2022484408 2016-04-12 12    66.23057   "
      ]
     },
     "metadata": {},
     "output_type": "display_data"
    }
   ],
   "source": [
    "#converting datset value from seconds into hour\n",
    "heartrate_Hourly <- heartrate_Seconds %>%\n",
    "    group_by(id,date,hour) %>%\n",
    "    summarize(hourly_value=mean(value))\n",
    "head(heartrate_Hourly)"
   ]
  },
  {
   "cell_type": "markdown",
   "id": "d4ba68c0",
   "metadata": {
    "papermill": {
     "duration": 0.028982,
     "end_time": "2023-03-29T08:43:56.628231",
     "exception": false,
     "start_time": "2023-03-29T08:43:56.599249",
     "status": "completed"
    },
    "tags": []
   },
   "source": [
    "<a id=\"subsection-nine\"></a>\n",
    "### <font face=\"Comic sans MS\" color=#003300 >**4.4 Further Analyze:**</font>"
   ]
  },
  {
   "cell_type": "code",
   "execution_count": 30,
   "id": "f749e33e",
   "metadata": {
    "execution": {
     "iopub.execute_input": "2023-03-29T08:43:56.689508Z",
     "iopub.status.busy": "2023-03-29T08:43:56.687750Z",
     "iopub.status.idle": "2023-03-29T08:43:57.161107Z",
     "shell.execute_reply": "2023-03-29T08:43:57.159216Z"
    },
    "papermill": {
     "duration": 0.506254,
     "end_time": "2023-03-29T08:43:57.163438",
     "exception": false,
     "start_time": "2023-03-29T08:43:56.657184",
     "status": "completed"
    },
    "tags": []
   },
   "outputs": [
    {
     "data": {
      "text/html": [
       "<table class=\"dataframe\">\n",
       "<caption>A data.frame: 6 × 9</caption>\n",
       "<thead>\n",
       "\t<tr><th></th><th scope=col>id</th><th scope=col>date</th><th scope=col>time</th><th scope=col>calories</th><th scope=col>totalintensity</th><th scope=col>averageintensity</th><th scope=col>steptotal</th><th scope=col>hour</th><th scope=col>hourly_value</th></tr>\n",
       "\t<tr><th></th><th scope=col>&lt;dbl&gt;</th><th scope=col>&lt;date&gt;</th><th scope=col>&lt;chr&gt;</th><th scope=col>&lt;int&gt;</th><th scope=col>&lt;int&gt;</th><th scope=col>&lt;dbl&gt;</th><th scope=col>&lt;int&gt;</th><th scope=col>&lt;chr&gt;</th><th scope=col>&lt;dbl&gt;</th></tr>\n",
       "</thead>\n",
       "<tbody>\n",
       "\t<tr><th scope=row>1</th><td>2022484408</td><td>2016-04-12</td><td>07:00:00</td><td>136</td><td> 28</td><td>0.466667</td><td> 847</td><td>07</td><td> 83.20000</td></tr>\n",
       "\t<tr><th scope=row>2</th><td>2022484408</td><td>2016-04-12</td><td>08:00:00</td><td> 99</td><td> 13</td><td>0.216667</td><td> 334</td><td>08</td><td> 68.56201</td></tr>\n",
       "\t<tr><th scope=row>3</th><td>2022484408</td><td>2016-04-12</td><td>09:00:00</td><td> 90</td><td> 13</td><td>0.216667</td><td> 243</td><td>09</td><td> 66.40470</td></tr>\n",
       "\t<tr><th scope=row>4</th><td>2022484408</td><td>2016-04-12</td><td>10:00:00</td><td>369</td><td>143</td><td>2.383333</td><td>5243</td><td>10</td><td>106.71608</td></tr>\n",
       "\t<tr><th scope=row>5</th><td>2022484408</td><td>2016-04-12</td><td>11:00:00</td><td> 99</td><td> 20</td><td>0.333333</td><td> 323</td><td>11</td><td> 67.76716</td></tr>\n",
       "\t<tr><th scope=row>6</th><td>2022484408</td><td>2016-04-12</td><td>12:00:00</td><td> 86</td><td> 11</td><td>0.183333</td><td> 184</td><td>12</td><td> 66.23057</td></tr>\n",
       "</tbody>\n",
       "</table>\n"
      ],
      "text/latex": [
       "A data.frame: 6 × 9\n",
       "\\begin{tabular}{r|lllllllll}\n",
       "  & id & date & time & calories & totalintensity & averageintensity & steptotal & hour & hourly\\_value\\\\\n",
       "  & <dbl> & <date> & <chr> & <int> & <int> & <dbl> & <int> & <chr> & <dbl>\\\\\n",
       "\\hline\n",
       "\t1 & 2022484408 & 2016-04-12 & 07:00:00 & 136 &  28 & 0.466667 &  847 & 07 &  83.20000\\\\\n",
       "\t2 & 2022484408 & 2016-04-12 & 08:00:00 &  99 &  13 & 0.216667 &  334 & 08 &  68.56201\\\\\n",
       "\t3 & 2022484408 & 2016-04-12 & 09:00:00 &  90 &  13 & 0.216667 &  243 & 09 &  66.40470\\\\\n",
       "\t4 & 2022484408 & 2016-04-12 & 10:00:00 & 369 & 143 & 2.383333 & 5243 & 10 & 106.71608\\\\\n",
       "\t5 & 2022484408 & 2016-04-12 & 11:00:00 &  99 &  20 & 0.333333 &  323 & 11 &  67.76716\\\\\n",
       "\t6 & 2022484408 & 2016-04-12 & 12:00:00 &  86 &  11 & 0.183333 &  184 & 12 &  66.23057\\\\\n",
       "\\end{tabular}\n"
      ],
      "text/markdown": [
       "\n",
       "A data.frame: 6 × 9\n",
       "\n",
       "| <!--/--> | id &lt;dbl&gt; | date &lt;date&gt; | time &lt;chr&gt; | calories &lt;int&gt; | totalintensity &lt;int&gt; | averageintensity &lt;dbl&gt; | steptotal &lt;int&gt; | hour &lt;chr&gt; | hourly_value &lt;dbl&gt; |\n",
       "|---|---|---|---|---|---|---|---|---|---|\n",
       "| 1 | 2022484408 | 2016-04-12 | 07:00:00 | 136 |  28 | 0.466667 |  847 | 07 |  83.20000 |\n",
       "| 2 | 2022484408 | 2016-04-12 | 08:00:00 |  99 |  13 | 0.216667 |  334 | 08 |  68.56201 |\n",
       "| 3 | 2022484408 | 2016-04-12 | 09:00:00 |  90 |  13 | 0.216667 |  243 | 09 |  66.40470 |\n",
       "| 4 | 2022484408 | 2016-04-12 | 10:00:00 | 369 | 143 | 2.383333 | 5243 | 10 | 106.71608 |\n",
       "| 5 | 2022484408 | 2016-04-12 | 11:00:00 |  99 |  20 | 0.333333 |  323 | 11 |  67.76716 |\n",
       "| 6 | 2022484408 | 2016-04-12 | 12:00:00 |  86 |  11 | 0.183333 |  184 | 12 |  66.23057 |\n",
       "\n"
      ],
      "text/plain": [
       "  id         date       time     calories totalintensity averageintensity\n",
       "1 2022484408 2016-04-12 07:00:00 136       28            0.466667        \n",
       "2 2022484408 2016-04-12 08:00:00  99       13            0.216667        \n",
       "3 2022484408 2016-04-12 09:00:00  90       13            0.216667        \n",
       "4 2022484408 2016-04-12 10:00:00 369      143            2.383333        \n",
       "5 2022484408 2016-04-12 11:00:00  99       20            0.333333        \n",
       "6 2022484408 2016-04-12 12:00:00  86       11            0.183333        \n",
       "  steptotal hour hourly_value\n",
       "1  847      07    83.20000   \n",
       "2  334      08    68.56201   \n",
       "3  243      09    66.40470   \n",
       "4 5243      10   106.71608   \n",
       "5  323      11    67.76716   \n",
       "6  184      12    66.23057   "
      ]
     },
     "metadata": {},
     "output_type": "display_data"
    },
    {
     "name": "stdout",
     "output_type": "stream",
     "text": [
      "'data.frame':\t6006 obs. of  9 variables:\n",
      " $ id              : num  2.02e+09 2.02e+09 2.02e+09 2.02e+09 2.02e+09 ...\n",
      " $ date            : Date, format: \"2016-04-12\" \"2016-04-12\" ...\n",
      " $ time            : chr  \"07:00:00\" \"08:00:00\" \"09:00:00\" \"10:00:00\" ...\n",
      " $ calories        : int  136 99 90 369 99 86 124 197 91 112 ...\n",
      " $ totalintensity  : int  28 13 13 143 20 11 19 54 9 19 ...\n",
      " $ averageintensity: num  0.467 0.217 0.217 2.383 0.333 ...\n",
      " $ steptotal       : int  847 334 243 5243 323 184 658 2168 327 539 ...\n",
      " $ hour            : chr  \"07\" \"08\" \"09\" \"10\" ...\n",
      " $ hourly_value    : num  83.2 68.6 66.4 106.7 67.8 ...\n"
     ]
    }
   ],
   "source": [
    "#merging hourly_Activity and heartrate_Seconds datasets \n",
    "hourly_Activity_Heartrate <- hourly_Activity %>%\n",
    "    inner_join(heartrate_Hourly , by=c('id'='id', 'date'='date','hour'='hour'))\n",
    "\n",
    "head(hourly_Activity_Heartrate)\n",
    "str(hourly_Activity_Heartrate)"
   ]
  },
  {
   "cell_type": "code",
   "execution_count": 31,
   "id": "2bd45202",
   "metadata": {
    "execution": {
     "iopub.execute_input": "2023-03-29T08:43:57.225314Z",
     "iopub.status.busy": "2023-03-29T08:43:57.223696Z",
     "iopub.status.idle": "2023-03-29T08:43:57.262176Z",
     "shell.execute_reply": "2023-03-29T08:43:57.260355Z"
    },
    "papermill": {
     "duration": 0.072291,
     "end_time": "2023-03-29T08:43:57.264663",
     "exception": false,
     "start_time": "2023-03-29T08:43:57.192372",
     "status": "completed"
    },
    "tags": []
   },
   "outputs": [
    {
     "data": {
      "text/html": [
       "<table class=\"dataframe\">\n",
       "<caption>A tibble: 6 × 2</caption>\n",
       "<thead>\n",
       "\t<tr><th scope=col>hour</th><th scope=col>hourly_calories</th></tr>\n",
       "\t<tr><th scope=col>&lt;chr&gt;</th><th scope=col>&lt;dbl&gt;</th></tr>\n",
       "</thead>\n",
       "<tbody>\n",
       "\t<tr><td>00</td><td>71.80514</td></tr>\n",
       "\t<tr><td>01</td><td>70.16506</td></tr>\n",
       "\t<tr><td>02</td><td>69.18650</td></tr>\n",
       "\t<tr><td>03</td><td>67.53805</td></tr>\n",
       "\t<tr><td>04</td><td>68.26180</td></tr>\n",
       "\t<tr><td>05</td><td>81.70815</td></tr>\n",
       "</tbody>\n",
       "</table>\n"
      ],
      "text/latex": [
       "A tibble: 6 × 2\n",
       "\\begin{tabular}{ll}\n",
       " hour & hourly\\_calories\\\\\n",
       " <chr> & <dbl>\\\\\n",
       "\\hline\n",
       "\t 00 & 71.80514\\\\\n",
       "\t 01 & 70.16506\\\\\n",
       "\t 02 & 69.18650\\\\\n",
       "\t 03 & 67.53805\\\\\n",
       "\t 04 & 68.26180\\\\\n",
       "\t 05 & 81.70815\\\\\n",
       "\\end{tabular}\n"
      ],
      "text/markdown": [
       "\n",
       "A tibble: 6 × 2\n",
       "\n",
       "| hour &lt;chr&gt; | hourly_calories &lt;dbl&gt; |\n",
       "|---|---|\n",
       "| 00 | 71.80514 |\n",
       "| 01 | 70.16506 |\n",
       "| 02 | 69.18650 |\n",
       "| 03 | 67.53805 |\n",
       "| 04 | 68.26180 |\n",
       "| 05 | 81.70815 |\n",
       "\n"
      ],
      "text/plain": [
       "  hour hourly_calories\n",
       "1 00   71.80514       \n",
       "2 01   70.16506       \n",
       "3 02   69.18650       \n",
       "4 03   67.53805       \n",
       "5 04   68.26180       \n",
       "6 05   81.70815       "
      ]
     },
     "metadata": {},
     "output_type": "display_data"
    },
    {
     "name": "stdout",
     "output_type": "stream",
     "text": [
      "tibble [24 × 2] (S3: tbl_df/tbl/data.frame)\n",
      " $ hour           : chr [1:24] \"00\" \"01\" \"02\" \"03\" ...\n",
      " $ hourly_calories: num [1:24] 71.8 70.2 69.2 67.5 68.3 ...\n"
     ]
    }
   ],
   "source": [
    "avg_Hourly_Calories <- hourly_Activity %>%\n",
    "    group_by(hour) %>%\n",
    "    summarize(hourly_calories=mean(calories))\n",
    "head(avg_Hourly_Calories)\n",
    "str(avg_Hourly_Calories)"
   ]
  },
  {
   "cell_type": "markdown",
   "id": "55776182",
   "metadata": {
    "papermill": {
     "duration": 0.029401,
     "end_time": "2023-03-29T08:43:57.323562",
     "exception": false,
     "start_time": "2023-03-29T08:43:57.294161",
     "status": "completed"
    },
    "tags": []
   },
   "source": [
    "<a id=\"subsection-ten\"></a>\n",
    "### <font face=\"Comic sans MS\" color=#003300 >**4.5 More interesting plots**</font>"
   ]
  },
  {
   "cell_type": "code",
   "execution_count": 32,
   "id": "75acdf53",
   "metadata": {
    "execution": {
     "iopub.execute_input": "2023-03-29T08:43:57.386186Z",
     "iopub.status.busy": "2023-03-29T08:43:57.384693Z",
     "iopub.status.idle": "2023-03-29T08:43:58.587852Z",
     "shell.execute_reply": "2023-03-29T08:43:58.585041Z"
    },
    "papermill": {
     "duration": 1.238099,
     "end_time": "2023-03-29T08:43:58.591290",
     "exception": false,
     "start_time": "2023-03-29T08:43:57.353191",
     "status": "completed"
    },
    "tags": []
   },
   "outputs": [
    {
     "name": "stderr",
     "output_type": "stream",
     "text": [
      "\u001b[1m\u001b[22mSaving 12.5 x 6.67 in image\n"
     ]
    },
    {
     "data": {
      "image/png": "[encoded data removed]"
     },
     "metadata": {
      "image/png": {
       "height": 420,
       "width": 420
      }
     },
     "output_type": "display_data"
    }
   ],
   "source": [
    "#making a bar chart\n",
    "calories_bifurcation <- c(80,120)\n",
    "ggplot(data=avg_Hourly_Calories, aes(x = factor(hour), y = hourly_calories,fill =hourly_calories )) +\n",
    "  geom_bar(stat=\"identity\") +\n",
    "  geom_hline(yintercept = calories_bifurcation, color = \"navy\",linetype =\"dashed\") +\n",
    "  labs(x = \"Hour\", y = \"Calories Burned\", title=\"Average Calories Burned during a day \", caption = \"Datasource: FitBit Fitness Tracker Data\") +\n",
    "  annotate(\"text\", x = 3, y = 40, label = \"Least Active Hours\",  size = 4,color = \"black\", fontface=\"bold\",angle=\"45\")+\n",
    "  annotate(\"text\", x = 19, y = 100, label = \"Highly Active Hours\",  size = 4,color = \"black\", fontface=\"bold\",angle=\"45\")+\n",
    "  theme(axis.title.x = element_text(color=\"#993333\", size=14, face=\"bold\"), axis.title.y = element_text(color=\"#993333\", size=14, face=\"bold\"),plot.title = element_text(color=\"black\", size=14, face=\"bold.italic\"))+\n",
    "  scale_fill_gradient(high = \"purple\", low = \"lightblue\") +\n",
    "  theme_minimal()\n",
    "\n",
    "ggsave(\"Calories burned each hour.png\")\n"
   ]
  },
  {
   "cell_type": "code",
   "execution_count": 33,
   "id": "fb50c4a2",
   "metadata": {
    "execution": {
     "iopub.execute_input": "2023-03-29T08:43:58.658145Z",
     "iopub.status.busy": "2023-03-29T08:43:58.656317Z",
     "iopub.status.idle": "2023-03-29T08:44:03.462106Z",
     "shell.execute_reply": "2023-03-29T08:44:03.460254Z"
    },
    "papermill": {
     "duration": 4.844137,
     "end_time": "2023-03-29T08:44:03.467244",
     "exception": false,
     "start_time": "2023-03-29T08:43:58.623107",
     "status": "completed"
    },
    "tags": []
   },
   "outputs": [
    {
     "name": "stderr",
     "output_type": "stream",
     "text": [
      "\u001b[1m\u001b[22m`geom_smooth()` using formula = 'y ~ x'\n"
     ]
    },
    {
     "data": {
      "text/plain": [
       "geom_smooth: na.rm = FALSE, orientation = NA, se = TRUE\n",
       "stat_smooth: na.rm = FALSE, orientation = NA, se = TRUE\n",
       "position_identity "
      ]
     },
     "metadata": {},
     "output_type": "display_data"
    },
    {
     "name": "stderr",
     "output_type": "stream",
     "text": [
      "\u001b[1m\u001b[22mSaving 12.5 x 6.67 in image\n",
      "\u001b[1m\u001b[22m`geom_smooth()` using formula = 'y ~ x'\n"
     ]
    },
    {
     "data": {
      "image/png": "[encoded data removed]"
     },
     "metadata": {
      "image/png": {
       "height": 420,
       "width": 420
      }
     },
     "output_type": "display_data"
    }
   ],
   "source": [
    "#making a scatterplot\n",
    "ggplot(hourly_Activity_Heartrate, aes(x = averageintensity, y = hourly_value)) +\n",
    "    geom_jitter(alpha = 0.5) +\n",
    "    geom_smooth(method = loess,color=\"white\", linewidth=0.5) +\n",
    "    labs(x = \"Average Intensity\", y = \"Heartrate\",title = \"Correlation: Heartrate vs Intensity\",caption = \"Datasource: FitBit Fitness Tracker Data\")+\n",
    "    theme(plot.title = element_text(color=\"black\", size=14, face=\"bold.italic\"),axis.title.x = element_text(color=\"#993333\", size=14, face=\"bold\"),\n",
    "    axis.title.y = element_text(color=\"#993333\", size=14, face=\"bold\"))\n",
    "    geom_smooth()\n",
    "ggsave(\"Heartrate vs Intensity.png\")"
   ]
  },
  {
   "cell_type": "markdown",
   "id": "2e6afd4a",
   "metadata": {
    "papermill": {
     "duration": 0.035859,
     "end_time": "2023-03-29T08:44:03.539471",
     "exception": false,
     "start_time": "2023-03-29T08:44:03.503612",
     "status": "completed"
    },
    "tags": []
   },
   "source": [
    "We can clearly see a positive correlation between heartrate and average intensity"
   ]
  },
  {
   "cell_type": "markdown",
   "id": "f0b31ceb",
   "metadata": {
    "papermill": {
     "duration": 0.034901,
     "end_time": "2023-03-29T08:44:03.609585",
     "exception": false,
     "start_time": "2023-03-29T08:44:03.574684",
     "status": "completed"
    },
    "tags": []
   },
   "source": [
    "<a id=\"section-six\"></a>\n",
    "# <font face=\"Comic sans MS\" color=#330000 >**PHASE#5   SHARE**</font>"
   ]
  },
  {
   "cell_type": "markdown",
   "id": "96c49646",
   "metadata": {
    "papermill": {
     "duration": 0.034688,
     "end_time": "2023-03-29T08:44:03.678740",
     "exception": false,
     "start_time": "2023-03-29T08:44:03.644052",
     "status": "completed"
    },
    "tags": []
   },
   "source": [
    "With this , our Data journey has come to an end.\n",
    "Now it's time to document our findings and share it with stakeholders of Bellabeat company.\n",
    "\n",
    "| Findings | Recommedations |\n",
    "| --- | --- |\n",
    "|50% of users use their Fitbit devices for longer than 21 days, however 38% only use them for up to 11 days. | By offering tutorials to help users get started with the Bellabeat app or developing campaigns to entice users to use the app for longer periods of time, we can enhance the onboarding experience for new users. This can entail giving users of the app who use it for more than 3/6/9 months a discount. |\n",
    "|About half of users took fewer than 8000 steps, which is the recommended minimum quantity of walking to reduce mortality risk. Moreover, taking more steps can result in greater calorie burn. | Create a step counter function for the app. Users should be able to easily track their daily activity levels and track their progress towards fitness objectives using this feature. Gamification features may also be implemented to the app to make it more enjoyable and engaging. This might incorporate a heart-shaped user interface or anonymous ranking that compares people based on their daily step counts. |\n",
    "|Half of user slept under recommended 7 hours. | Many detrimental health impacts, such as an elevated risk of hypertension, diabetes, obesity, depression, heart attack, and stroke, have been linked to the cumulative long-term effects of sleep loss and sleep disorders. We advise adding a sleep feature to the app so that users can prioritise their rest. This feature can include a white noise generator, a sleep mode, or an alarm to get ready for bed. Users' general health and well-being will benefit from being urged to prioritise their sleep. |\n",
    "\n"
   ]
  },
  {
   "cell_type": "markdown",
   "id": "74cb77d6",
   "metadata": {
    "papermill": {
     "duration": 0.034184,
     "end_time": "2023-03-29T08:44:03.747428",
     "exception": false,
     "start_time": "2023-03-29T08:44:03.713244",
     "status": "completed"
    },
    "tags": []
   },
   "source": [
    "#### <font face=\"Playfair\" >**References:**</font>\n",
    "\n",
    "* Fitbit Fitness Tracker Data   \n",
    " https://www.kaggle.com/datasets/arashnic/fitbit\n",
    "\n",
    "* How Much Sleep Do I Need?\n",
    "https://www.cdc.gov/sleep/about_sleep/how_much_sleep.html\n",
    "\n",
    "* Higher Daily Step Count Linked with Lower All-cause Mortality\n",
    "https://www.cdc.gov/media/releases/2020/p0324-daily-step-count.html\n",
    "\n"
   ]
  }
 ],
 "metadata": {
  "kernelspec": {
   "display_name": "R",
   "language": "R",
   "name": "ir"
  },
  "language_info": {
   "codemirror_mode": "r",
   "file_extension": ".r",
   "mimetype": "text/x-r-source",
   "name": "R",
   "pygments_lexer": "r",
   "version": "4.0.5"
  },
  "papermill": {
   "default_parameters": {},
   "duration": 162.454923,
   "end_time": "2023-03-29T08:44:03.903691",
   "environment_variables": {},
   "exception": null,
   "input_path": "__notebook__.ipynb",
   "output_path": "__notebook__.ipynb",
   "parameters": {},
   "start_time": "2023-03-29T08:41:21.448768",
   "version": "2.4.0"
  }
 },
 "nbformat": 4,
 "nbformat_minor": 5
}
